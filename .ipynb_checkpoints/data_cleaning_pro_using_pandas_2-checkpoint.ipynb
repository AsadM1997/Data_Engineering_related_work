{
 "cells": [
  {
   "cell_type": "code",
   "execution_count": null,
   "id": "aa17242d",
   "metadata": {},
   "outputs": [],
   "source": [
    "dfw.select_dtypes(include='object').columns"
   ]
  },
  {
   "cell_type": "code",
   "execution_count": null,
   "id": "803a2df4",
   "metadata": {},
   "outputs": [],
   "source": [
    "import sys\n",
    "print(\"✅ Kernel working from:\", sys.executable)\n"
   ]
  },
  {
   "cell_type": "code",
   "execution_count": null,
   "id": "c3568e2e",
   "metadata": {},
   "outputs": [],
   "source": []
  }
 ],
 "metadata": {
  "kernelspec": {
   "display_name": ".venv (3.11.4)",
   "language": "python",
   "name": "python3"
  },
  "language_info": {
   "name": "python",
   "version": "3.11.4"
  }
 },
 "nbformat": 4,
 "nbformat_minor": 5
}
