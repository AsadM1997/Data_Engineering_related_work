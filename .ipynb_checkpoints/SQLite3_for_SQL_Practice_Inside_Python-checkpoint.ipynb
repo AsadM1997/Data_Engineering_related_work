{
 "cells": [
  {
   "cell_type": "code",
   "execution_count": 38,
   "id": "dcc0b020-005a-4a7f-a6b5-4a212db32da0",
   "metadata": {},
   "outputs": [
    {
     "name": "stdout",
     "output_type": "stream",
     "text": [
      "Connected to: [(0, 'main', 'J:\\\\Asad-Learning\\\\Python-Learning\\\\weather_data.db')]\n"
     ]
    }
   ],
   "source": [
    "import sqlite3\n",
    "# Create a connection to a database file (or use ':memory:' for temporary DB)\n",
    "conn = sqlite3.connect('weather_data.db') # This creates weather_data.db in your folder\n",
    "cursor = conn.cursor()\n",
    "print(\"Connected to:\", conn.execute(\"PRAGMA database_list\").fetchall())"
   ]
  },
  {
   "cell_type": "code",
   "execution_count": 34,
   "id": "8a0ef0c7",
   "metadata": {},
   "outputs": [
    {
     "ename": "OperationalError",
     "evalue": "no such table: weather",
     "output_type": "error",
     "traceback": [
      "\u001b[31m---------------------------------------------------------------------------\u001b[39m",
      "\u001b[31mOperationalError\u001b[39m                          Traceback (most recent call last)",
      "\u001b[36mCell\u001b[39m\u001b[36m \u001b[39m\u001b[32mIn[34]\u001b[39m\u001b[32m, line 1\u001b[39m\n\u001b[32m----> \u001b[39m\u001b[32m1\u001b[39m \u001b[43mcursor\u001b[49m\u001b[43m.\u001b[49m\u001b[43mexecute\u001b[49m\u001b[43m(\u001b[49m\u001b[33;43m\"\u001b[39;49m\u001b[33;43mALTER TABLE weather RENAME TO employee\u001b[39;49m\u001b[33;43m\"\u001b[39;49m\u001b[43m)\u001b[49m\n\u001b[32m      2\u001b[39m conn.commit()\n",
      "\u001b[31mOperationalError\u001b[39m: no such table: weather"
     ]
    }
   ],
   "source": [
    "cursor.execute(\"ALTER TABLE weather RENAME TO employee\")\n",
    "conn.commit()\n"
   ]
  },
  {
   "cell_type": "code",
   "execution_count": 29,
   "id": "735b4c36",
   "metadata": {},
   "outputs": [
    {
     "name": "stdout",
     "output_type": "stream",
     "text": [
      "[('sqlite_sequence',), ('employee',)]\n"
     ]
    }
   ],
   "source": [
    "cursor.execute(\"SELECT name FROM sqlite_master WHERE type='table'\")\n",
    "print(cursor.fetchall())\n"
   ]
  },
  {
   "cell_type": "raw",
   "id": "39b4a190",
   "metadata": {},
   "source": [
    "cursor.execute(\"PRAGMA table_info(employee)\")\n",
    "print(cursor.fetchall())\n"
   ]
  },
  {
   "cell_type": "code",
   "execution_count": 26,
   "id": "376f6518",
   "metadata": {},
   "outputs": [
    {
     "name": "stdout",
     "output_type": "stream",
     "text": [
      "('CREATE TABLE \"employee\" (\\n\"Name\" TEXT,\\n  \"Age\" INTEGER,\\n  \"City\" TEXT,\\n  \"Salary\" INTEGER\\n)',)\n"
     ]
    }
   ],
   "source": [
    "cursor.execute(\"SELECT sql FROM sqlite_master WHERE type='table' AND name='employee'\")\n",
    "print(cursor.fetchone())\n"
   ]
  },
  {
   "cell_type": "code",
   "execution_count": 31,
   "id": "71917aea",
   "metadata": {},
   "outputs": [],
   "source": [
    "cursor.execute('''\n",
    "    INSERT INTO employee(name, Age, City, Salary)\n",
    "    VALUES(?,?,?,?)\n",
    "''',('Muhammad', 28, 'NY', 70000))\n",
    "conn.commit()               "
   ]
  },
  {
   "cell_type": "code",
   "execution_count": 35,
   "id": "efcfc3f2-17d7-4867-a770-b118c73ab4d3",
   "metadata": {},
   "outputs": [
    {
     "data": {
      "text/html": [
       "<div>\n",
       "<style scoped>\n",
       "    .dataframe tbody tr th:only-of-type {\n",
       "        vertical-align: middle;\n",
       "    }\n",
       "\n",
       "    .dataframe tbody tr th {\n",
       "        vertical-align: top;\n",
       "    }\n",
       "\n",
       "    .dataframe thead th {\n",
       "        text-align: right;\n",
       "    }\n",
       "</style>\n",
       "<table border=\"1\" class=\"dataframe\">\n",
       "  <thead>\n",
       "    <tr style=\"text-align: right;\">\n",
       "      <th></th>\n",
       "      <th>Name</th>\n",
       "      <th>Age</th>\n",
       "      <th>City</th>\n",
       "      <th>Salary</th>\n",
       "    </tr>\n",
       "  </thead>\n",
       "  <tbody>\n",
       "    <tr>\n",
       "      <th>0</th>\n",
       "      <td>David</td>\n",
       "      <td>34</td>\n",
       "      <td>San Diego</td>\n",
       "      <td>79076</td>\n",
       "    </tr>\n",
       "    <tr>\n",
       "      <th>1</th>\n",
       "      <td>Charlie</td>\n",
       "      <td>35</td>\n",
       "      <td>Phoenix</td>\n",
       "      <td>76699</td>\n",
       "    </tr>\n",
       "    <tr>\n",
       "      <th>2</th>\n",
       "      <td>Quinn</td>\n",
       "      <td>38</td>\n",
       "      <td>New York</td>\n",
       "      <td>93478</td>\n",
       "    </tr>\n",
       "    <tr>\n",
       "      <th>3</th>\n",
       "      <td>Eve</td>\n",
       "      <td>32</td>\n",
       "      <td>Phoenix</td>\n",
       "      <td>92233</td>\n",
       "    </tr>\n",
       "    <tr>\n",
       "      <th>4</th>\n",
       "      <td>Paul</td>\n",
       "      <td>27</td>\n",
       "      <td>Houston</td>\n",
       "      <td>96396</td>\n",
       "    </tr>\n",
       "    <tr>\n",
       "      <th>5</th>\n",
       "      <td>Hannah</td>\n",
       "      <td>58</td>\n",
       "      <td>New York</td>\n",
       "      <td>59351</td>\n",
       "    </tr>\n",
       "    <tr>\n",
       "      <th>6</th>\n",
       "      <td>Nate</td>\n",
       "      <td>29</td>\n",
       "      <td>San Antonio</td>\n",
       "      <td>60027</td>\n",
       "    </tr>\n",
       "    <tr>\n",
       "      <th>7</th>\n",
       "      <td>Grace</td>\n",
       "      <td>47</td>\n",
       "      <td>San Diego</td>\n",
       "      <td>83846</td>\n",
       "    </tr>\n",
       "    <tr>\n",
       "      <th>8</th>\n",
       "      <td>Nate</td>\n",
       "      <td>59</td>\n",
       "      <td>Houston</td>\n",
       "      <td>84534</td>\n",
       "    </tr>\n",
       "    <tr>\n",
       "      <th>9</th>\n",
       "      <td>Quinn</td>\n",
       "      <td>59</td>\n",
       "      <td>San Antonio</td>\n",
       "      <td>83279</td>\n",
       "    </tr>\n",
       "    <tr>\n",
       "      <th>10</th>\n",
       "      <td>Grace</td>\n",
       "      <td>39</td>\n",
       "      <td>San Antonio</td>\n",
       "      <td>79001</td>\n",
       "    </tr>\n",
       "    <tr>\n",
       "      <th>11</th>\n",
       "      <td>Ian</td>\n",
       "      <td>43</td>\n",
       "      <td>San Antonio</td>\n",
       "      <td>65220</td>\n",
       "    </tr>\n",
       "    <tr>\n",
       "      <th>12</th>\n",
       "      <td>Bob</td>\n",
       "      <td>44</td>\n",
       "      <td>San Diego</td>\n",
       "      <td>48379</td>\n",
       "    </tr>\n",
       "    <tr>\n",
       "      <th>13</th>\n",
       "      <td>Hannah</td>\n",
       "      <td>56</td>\n",
       "      <td>New York</td>\n",
       "      <td>84126</td>\n",
       "    </tr>\n",
       "    <tr>\n",
       "      <th>14</th>\n",
       "      <td>Paul</td>\n",
       "      <td>35</td>\n",
       "      <td>Houston</td>\n",
       "      <td>91438</td>\n",
       "    </tr>\n",
       "    <tr>\n",
       "      <th>15</th>\n",
       "      <td>Liam</td>\n",
       "      <td>32</td>\n",
       "      <td>Chicago</td>\n",
       "      <td>118931</td>\n",
       "    </tr>\n",
       "    <tr>\n",
       "      <th>16</th>\n",
       "      <td>Hannah</td>\n",
       "      <td>36</td>\n",
       "      <td>Los Angeles</td>\n",
       "      <td>80513</td>\n",
       "    </tr>\n",
       "    <tr>\n",
       "      <th>17</th>\n",
       "      <td>Nate</td>\n",
       "      <td>29</td>\n",
       "      <td>San Antonio</td>\n",
       "      <td>89020</td>\n",
       "    </tr>\n",
       "    <tr>\n",
       "      <th>18</th>\n",
       "      <td>Olivia</td>\n",
       "      <td>49</td>\n",
       "      <td>San Antonio</td>\n",
       "      <td>87224</td>\n",
       "    </tr>\n",
       "    <tr>\n",
       "      <th>19</th>\n",
       "      <td>Steve</td>\n",
       "      <td>38</td>\n",
       "      <td>New York</td>\n",
       "      <td>94769</td>\n",
       "    </tr>\n",
       "    <tr>\n",
       "      <th>20</th>\n",
       "      <td>Muhammad</td>\n",
       "      <td>28</td>\n",
       "      <td>NY</td>\n",
       "      <td>70000</td>\n",
       "    </tr>\n",
       "  </tbody>\n",
       "</table>\n",
       "</div>"
      ],
      "text/plain": [
       "        Name  Age         City  Salary\n",
       "0      David   34    San Diego   79076\n",
       "1    Charlie   35      Phoenix   76699\n",
       "2      Quinn   38     New York   93478\n",
       "3        Eve   32      Phoenix   92233\n",
       "4       Paul   27      Houston   96396\n",
       "5     Hannah   58     New York   59351\n",
       "6       Nate   29  San Antonio   60027\n",
       "7      Grace   47    San Diego   83846\n",
       "8       Nate   59      Houston   84534\n",
       "9      Quinn   59  San Antonio   83279\n",
       "10     Grace   39  San Antonio   79001\n",
       "11       Ian   43  San Antonio   65220\n",
       "12       Bob   44    San Diego   48379\n",
       "13    Hannah   56     New York   84126\n",
       "14      Paul   35      Houston   91438\n",
       "15      Liam   32      Chicago  118931\n",
       "16    Hannah   36  Los Angeles   80513\n",
       "17      Nate   29  San Antonio   89020\n",
       "18    Olivia   49  San Antonio   87224\n",
       "19     Steve   38     New York   94769\n",
       "20  Muhammad   28           NY   70000"
      ]
     },
     "execution_count": 35,
     "metadata": {},
     "output_type": "execute_result"
    }
   ],
   "source": [
    "import pandas as pd \n",
    "\n",
    "df = pd.read_sql_query('SELECT * FROM employee', conn)\n",
    "df"
   ]
  },
  {
   "cell_type": "code",
   "execution_count": 36,
   "id": "c263cf15",
   "metadata": {},
   "outputs": [],
   "source": [
    "conn.close()"
   ]
  },
  {
   "cell_type": "markdown",
   "id": "7eec55ec",
   "metadata": {},
   "source": [
    "✅ Project: Import CSV into SQLite & Query It\n",
    "\n",
    "\n",
    "Step 1: Load CSV with Pandas"
   ]
  },
  {
   "cell_type": "code",
   "execution_count": 37,
   "id": "70686c06",
   "metadata": {},
   "outputs": [
    {
     "data": {
      "text/html": [
       "<div>\n",
       "<style scoped>\n",
       "    .dataframe tbody tr th:only-of-type {\n",
       "        vertical-align: middle;\n",
       "    }\n",
       "\n",
       "    .dataframe tbody tr th {\n",
       "        vertical-align: top;\n",
       "    }\n",
       "\n",
       "    .dataframe thead th {\n",
       "        text-align: right;\n",
       "    }\n",
       "</style>\n",
       "<table border=\"1\" class=\"dataframe\">\n",
       "  <thead>\n",
       "    <tr style=\"text-align: right;\">\n",
       "      <th></th>\n",
       "      <th>Name</th>\n",
       "      <th>Age</th>\n",
       "      <th>City</th>\n",
       "      <th>Salary</th>\n",
       "    </tr>\n",
       "  </thead>\n",
       "  <tbody>\n",
       "    <tr>\n",
       "      <th>0</th>\n",
       "      <td>David</td>\n",
       "      <td>34</td>\n",
       "      <td>San Diego</td>\n",
       "      <td>79076</td>\n",
       "    </tr>\n",
       "    <tr>\n",
       "      <th>1</th>\n",
       "      <td>Charlie</td>\n",
       "      <td>35</td>\n",
       "      <td>Phoenix</td>\n",
       "      <td>76699</td>\n",
       "    </tr>\n",
       "    <tr>\n",
       "      <th>2</th>\n",
       "      <td>Quinn</td>\n",
       "      <td>38</td>\n",
       "      <td>New York</td>\n",
       "      <td>93478</td>\n",
       "    </tr>\n",
       "    <tr>\n",
       "      <th>3</th>\n",
       "      <td>Eve</td>\n",
       "      <td>32</td>\n",
       "      <td>Phoenix</td>\n",
       "      <td>92233</td>\n",
       "    </tr>\n",
       "    <tr>\n",
       "      <th>4</th>\n",
       "      <td>Paul</td>\n",
       "      <td>27</td>\n",
       "      <td>Houston</td>\n",
       "      <td>96396</td>\n",
       "    </tr>\n",
       "  </tbody>\n",
       "</table>\n",
       "</div>"
      ],
      "text/plain": [
       "      Name  Age       City  Salary\n",
       "0    David   34  San Diego   79076\n",
       "1  Charlie   35    Phoenix   76699\n",
       "2    Quinn   38   New York   93478\n",
       "3      Eve   32    Phoenix   92233\n",
       "4     Paul   27    Houston   96396"
      ]
     },
     "execution_count": 37,
     "metadata": {},
     "output_type": "execute_result"
    }
   ],
   "source": [
    "import pandas as pd \n",
    "\n",
    "df = pd.read_csv(\"data.csv\")\n",
    "\n",
    "df.head()"
   ]
  },
  {
   "cell_type": "markdown",
   "id": "e3e75b9d",
   "metadata": {},
   "source": [
    "step 2 load csvfile into database \n",
    "\n",
    "Step 2: Create SQLite DB & Table \n",
    "\n",
    "\n",
    "if_exists='replace': recreates the table every time\n",
    "\n",
    "index=False: avoids saving DataFrame index as a DB column"
   ]
  },
  {
   "cell_type": "markdown",
   "id": "0c85c052",
   "metadata": {},
   "source": [
    "\n",
    "import sqlite3 \n",
    "\n",
    "conn = sqlite3.connect('weather_data.db')\n",
    "print(\"Connected to:\", conn.execute(\"PRAGMA database_list\").fetchall())"
   ]
  },
  {
   "cell_type": "code",
   "execution_count": 59,
   "id": "918010c0",
   "metadata": {},
   "outputs": [
    {
     "name": "stdout",
     "output_type": "stream",
     "text": [
      "[('sqlite_sequence',), ('employee',)]\n"
     ]
    }
   ],
   "source": [
    "cursor.execute(\"SELECT name FROM sqlite_master WHERE type='table'\")\n",
    "print(cursor.fetchall())\n"
   ]
  },
  {
   "cell_type": "code",
   "execution_count": 46,
   "id": "8562734d",
   "metadata": {},
   "outputs": [
    {
     "data": {
      "text/plain": [
       "20"
      ]
     },
     "execution_count": 46,
     "metadata": {},
     "output_type": "execute_result"
    }
   ],
   "source": [
    "\n",
    "# Store CSV data into a table named \"employee\"\n",
    "df.to_sql('employee', conn, if_exists='replace', index=False)"
   ]
  },
  {
   "cell_type": "markdown",
   "id": "882b3834",
   "metadata": {},
   "source": [
    "🪜 Step 3: Run SQL Queries with Pandas"
   ]
  },
  {
   "cell_type": "code",
   "execution_count": 52,
   "id": "c377227d",
   "metadata": {},
   "outputs": [
    {
     "data": {
      "text/html": [
       "<div>\n",
       "<style scoped>\n",
       "    .dataframe tbody tr th:only-of-type {\n",
       "        vertical-align: middle;\n",
       "    }\n",
       "\n",
       "    .dataframe tbody tr th {\n",
       "        vertical-align: top;\n",
       "    }\n",
       "\n",
       "    .dataframe thead th {\n",
       "        text-align: right;\n",
       "    }\n",
       "</style>\n",
       "<table border=\"1\" class=\"dataframe\">\n",
       "  <thead>\n",
       "    <tr style=\"text-align: right;\">\n",
       "      <th></th>\n",
       "      <th>Name</th>\n",
       "      <th>Age</th>\n",
       "      <th>City</th>\n",
       "      <th>Salary</th>\n",
       "    </tr>\n",
       "  </thead>\n",
       "  <tbody>\n",
       "    <tr>\n",
       "      <th>0</th>\n",
       "      <td>David</td>\n",
       "      <td>34</td>\n",
       "      <td>San Diego</td>\n",
       "      <td>79076</td>\n",
       "    </tr>\n",
       "    <tr>\n",
       "      <th>1</th>\n",
       "      <td>Charlie</td>\n",
       "      <td>35</td>\n",
       "      <td>Phoenix</td>\n",
       "      <td>76699</td>\n",
       "    </tr>\n",
       "    <tr>\n",
       "      <th>2</th>\n",
       "      <td>Quinn</td>\n",
       "      <td>38</td>\n",
       "      <td>New York</td>\n",
       "      <td>93478</td>\n",
       "    </tr>\n",
       "    <tr>\n",
       "      <th>3</th>\n",
       "      <td>Eve</td>\n",
       "      <td>32</td>\n",
       "      <td>Phoenix</td>\n",
       "      <td>92233</td>\n",
       "    </tr>\n",
       "    <tr>\n",
       "      <th>4</th>\n",
       "      <td>Paul</td>\n",
       "      <td>27</td>\n",
       "      <td>Houston</td>\n",
       "      <td>96396</td>\n",
       "    </tr>\n",
       "  </tbody>\n",
       "</table>\n",
       "</div>"
      ],
      "text/plain": [
       "      Name  Age       City  Salary\n",
       "0    David   34  San Diego   79076\n",
       "1  Charlie   35    Phoenix   76699\n",
       "2    Quinn   38   New York   93478\n",
       "3      Eve   32    Phoenix   92233\n",
       "4     Paul   27    Houston   96396"
      ]
     },
     "execution_count": 52,
     "metadata": {},
     "output_type": "execute_result"
    }
   ],
   "source": [
    "query='SELECT * FROM employee'\n",
    "\n",
    "result_df = pd.read_sql_query(query, conn)\n",
    "result_df.head()\n"
   ]
  },
  {
   "cell_type": "code",
   "execution_count": 64,
   "id": "880016e0",
   "metadata": {},
   "outputs": [
    {
     "data": {
      "text/html": [
       "<div>\n",
       "<style scoped>\n",
       "    .dataframe tbody tr th:only-of-type {\n",
       "        vertical-align: middle;\n",
       "    }\n",
       "\n",
       "    .dataframe tbody tr th {\n",
       "        vertical-align: top;\n",
       "    }\n",
       "\n",
       "    .dataframe thead th {\n",
       "        text-align: right;\n",
       "    }\n",
       "</style>\n",
       "<table border=\"1\" class=\"dataframe\">\n",
       "  <thead>\n",
       "    <tr style=\"text-align: right;\">\n",
       "      <th></th>\n",
       "      <th>name</th>\n",
       "    </tr>\n",
       "  </thead>\n",
       "  <tbody>\n",
       "    <tr>\n",
       "      <th>0</th>\n",
       "      <td>sqlite_sequence</td>\n",
       "    </tr>\n",
       "    <tr>\n",
       "      <th>1</th>\n",
       "      <td>employee</td>\n",
       "    </tr>\n",
       "  </tbody>\n",
       "</table>\n",
       "</div>"
      ],
      "text/plain": [
       "              name\n",
       "0  sqlite_sequence\n",
       "1         employee"
      ]
     },
     "execution_count": 64,
     "metadata": {},
     "output_type": "execute_result"
    }
   ],
   "source": [
    "tabels = pd.read_sql_query(\"SELECT name FROM sqlite_master WHERE type='table'\", conn)\n",
    "tabels"
   ]
  },
  {
   "cell_type": "code",
   "execution_count": 65,
   "id": "8ac57ea1",
   "metadata": {},
   "outputs": [],
   "source": [
    "conn.close()"
   ]
  },
  {
   "cell_type": "code",
   "execution_count": 68,
   "id": "96e882fd",
   "metadata": {},
   "outputs": [],
   "source": [
    "from sqlalchemy import create_engine\n",
    "# SQLite connection (file-based)\n",
    "engine = create_engine(\"sqlite:///products.db\")"
   ]
  },
  {
   "cell_type": "code",
   "execution_count": 73,
   "id": "89dc94ab",
   "metadata": {},
   "outputs": [
    {
     "ename": "NameError",
     "evalue": "name 'Column' is not defined",
     "output_type": "error",
     "traceback": [
      "\u001b[31m---------------------------------------------------------------------------\u001b[39m",
      "\u001b[31mNameError\u001b[39m                                 Traceback (most recent call last)",
      "\u001b[36mCell\u001b[39m\u001b[36m \u001b[39m\u001b[32mIn[73]\u001b[39m\u001b[32m, line 8\u001b[39m\n\u001b[32m      3\u001b[39m \u001b[38;5;28;01mfrom\u001b[39;00m\u001b[38;5;250m \u001b[39m\u001b[34;01msqlalchemy\u001b[39;00m\u001b[34;01m.\u001b[39;00m\u001b[34;01morm\u001b[39;00m\u001b[38;5;250m \u001b[39m\u001b[38;5;28;01mimport\u001b[39;00m relationship\n\u001b[32m      6\u001b[39m Base = declarative_base() \n\u001b[32m----> \u001b[39m\u001b[32m8\u001b[39m \u001b[38;5;28;43;01mclass\u001b[39;49;00m\u001b[38;5;250;43m \u001b[39;49m\u001b[34;43;01mProduct\u001b[39;49;00m\u001b[43m(\u001b[49m\u001b[43mBase\u001b[49m\u001b[43m)\u001b[49m\u001b[43m:\u001b[49m\n\u001b[32m      9\u001b[39m \u001b[43m    \u001b[49m\u001b[43m__tablename__\u001b[49m\u001b[43m \u001b[49m\u001b[43m=\u001b[49m\u001b[43m \u001b[49m\u001b[33;43m'\u001b[39;49m\u001b[33;43mproducts\u001b[39;49m\u001b[33;43m'\u001b[39;49m\n\u001b[32m     10\u001b[39m \u001b[43m    \u001b[49m\u001b[38;5;28;43mid\u001b[39;49m\u001b[43m \u001b[49m\u001b[43m=\u001b[49m\u001b[43m \u001b[49m\u001b[43mColumn\u001b[49m\u001b[43m(\u001b[49m\u001b[43mInteger\u001b[49m\u001b[43m,\u001b[49m\u001b[43m \u001b[49m\u001b[43mprimary_key\u001b[49m\u001b[43m=\u001b[49m\u001b[38;5;28;43;01mTrue\u001b[39;49;00m\u001b[43m)\u001b[49m\n",
      "\u001b[36mCell\u001b[39m\u001b[36m \u001b[39m\u001b[32mIn[73]\u001b[39m\u001b[32m, line 10\u001b[39m, in \u001b[36mProduct\u001b[39m\u001b[34m()\u001b[39m\n\u001b[32m      8\u001b[39m \u001b[38;5;28;01mclass\u001b[39;00m\u001b[38;5;250m \u001b[39m\u001b[34;01mProduct\u001b[39;00m(Base):\n\u001b[32m      9\u001b[39m     __tablename__ = \u001b[33m'\u001b[39m\u001b[33mproducts\u001b[39m\u001b[33m'\u001b[39m\n\u001b[32m---> \u001b[39m\u001b[32m10\u001b[39m     \u001b[38;5;28mid\u001b[39m = \u001b[43mColumn\u001b[49m(Integer, primary_key=\u001b[38;5;28;01mTrue\u001b[39;00m)\n\u001b[32m     11\u001b[39m     name = Column(String)\n\u001b[32m     12\u001b[39m     price = Column(Float)\n",
      "\u001b[31mNameError\u001b[39m: name 'Column' is not defined"
     ]
    }
   ],
   "source": [
    "from sqlalchemy.orm import declarative_base\n",
    "from sqlalchemy import Integer, String, Float, ForeignKey\n",
    "from sqlalchemy.orm import relationship\n",
    "\n",
    "\n",
    "Base = declarative_base() \n",
    "\n",
    "class Product(Base):\n",
    "    __tablename__ = 'products'\n",
    "    id = Column(Integer, primary_key=True)\n",
    "    name = Column(String)\n",
    "    price = Column(Float)\n",
    "    sales = relationship(\"Sale\", back_populates=\"product\")\n",
    "\n",
    "    \n",
    "\n",
    "class Sale(Base):\n",
    "    __tablename__ = 'sales'\n",
    "    id = Column(Integer, primary_key=True)\n",
    "    product_id = Column(Integer, ForeignKey('products.id'))\n",
    "    quantity = Column(Integer)\n",
    "    product = relationship(\"Product\", back_populates=\"sales\")    "
   ]
  },
  {
   "cell_type": "code",
   "execution_count": null,
   "id": "5d31bd37",
   "metadata": {},
   "outputs": [],
   "source": []
  }
 ],
 "metadata": {
  "kernelspec": {
   "display_name": "Python 3.11.4",
   "language": "python",
   "name": "py311"
  },
  "language_info": {
   "codemirror_mode": {
    "name": "ipython",
    "version": 3
   },
   "file_extension": ".py",
   "mimetype": "text/x-python",
   "name": "python",
   "nbconvert_exporter": "python",
   "pygments_lexer": "ipython3",
   "version": "3.11.4"
  }
 },
 "nbformat": 4,
 "nbformat_minor": 5
}
