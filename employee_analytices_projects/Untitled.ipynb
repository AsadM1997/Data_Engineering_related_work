{
 "cells": [
  {
   "cell_type": "markdown",
   "id": "eb269681-862b-4a37-83b3-816e8dcd7523",
   "metadata": {},
   "source": [
    "1️⃣ Setup\n",
    "Install MySQL server and make sure it’s running.\n",
    "\n",
    "Install Python packages:\n",
    "\n",
    "pip install mysql-connector-python pandas"
   ]
  },
  {
   "cell_type": "markdown",
   "id": "f24f21ec-ec80-4d7b-b9db-87cf7bb9ed46",
   "metadata": {},
   "source": [
    "2️⃣ Create the MySQL Database & Table"
   ]
  },
  {
   "cell_type": "code",
   "execution_count": 9,
   "id": "8cd68527-8c7b-4a67-b365-7b1377cc9527",
   "metadata": {},
   "outputs": [],
   "source": [
    "import mysql.connector\n",
    "\n",
    "# Connect to MySQL (no database selected yet)\n",
    "conn = mysql.connector.connect(\n",
    "        host='127.0.0.1',\n",
    "        port=3306,\n",
    "        user='root',\n",
    "        password='*Notebook@2025',\n",
    "        connection_timeout=5\n",
    ")\n",
    "cursor = conn.cursor()\n",
    "\n",
    "# # Create database\n",
    "cursor.execute(\"CREATE DATABASE IF NOT EXISTS company_db\")\n",
    "\n",
    "# Select the database\n",
    "cursor.execute(\"USE company_db\")\n",
    "\n",
    "# Create employees table\n",
    "cursor.execute(\"\"\"\n",
    "CREATE TABLE IF NOT EXISTS employees (\n",
    "    id INT AUTO_INCREMENT PRIMARY KEY,\n",
    "    name VARCHAR(50),\n",
    "    age INT,\n",
    "    city VARCHAR(50),\n",
    "    salary DECIMAL(10, 2)\n",
    ")\n",
    "\"\"\")\n",
    "\n",
    "conn.commit()\n"
   ]
  },
  {
   "cell_type": "markdown",
   "id": "0631f0fc-113f-4c99-895d-4e4216e2cef9",
   "metadata": {},
   "source": [
    "3️⃣ Insert Employee Data (From Pandas)"
   ]
  },
  {
   "cell_type": "code",
   "execution_count": 11,
   "id": "09b93653-005d-47fd-b5c4-8c62661a94a6",
   "metadata": {},
   "outputs": [],
   "source": [
    "import pandas as pd\n",
    "\n",
    "# Sample DataFrame\n",
    "data = {\n",
    "    \n",
    "    'name': ['Alice', 'Bob', 'Charlie', 'David', 'Eva'],\n",
    "    'age': [25, 30, 35, 40, 28],\n",
    "    'city': ['New York', 'Los Angeles', 'Chicago', 'Houston', 'Phoenix'],\n",
    "    'salary': [50000, 60000, 75000, 80000, 55000]\n",
    "}\n",
    "df = pd.DataFrame(data)\n",
    "\n",
    "# Insert into MySQL\n",
    "for _, row in df.iterrows():\n",
    "    cursor.execute(\n",
    "        \"INSERT INTO employees (name, age, city, salary) VALUES (%s, %s, %s, %s)\",\n",
    "        tuple(row)\n",
    "    )\n",
    "conn.commit()\n"
   ]
  },
  {
   "cell_type": "markdown",
   "id": "3c344168-5580-4619-926b-043385293211",
   "metadata": {},
   "source": [
    "4️⃣ Query & Analysis"
   ]
  },
  {
   "cell_type": "code",
   "execution_count": 12,
   "id": "a198a982-b953-45cb-8bb6-57756564cbb6",
   "metadata": {},
   "outputs": [
    {
     "name": "stdout",
     "output_type": "stream",
     "text": [
      "\n",
      "Average Salary:\n",
      "64000.0\n",
      "\n",
      "Employees earning above 60k:\n",
      "    id     name  age     city   salary\n",
      "2    3  Charlie   35  Chicago  75000.0\n",
      "3    4    David   40  Houston  80000.0\n",
      "7    8  Charlie   35  Chicago  75000.0\n",
      "8    9    David   40  Houston  80000.0\n",
      "12  13  Charlie   35  Chicago  75000.0\n",
      "13  14    David   40  Houston  80000.0\n",
      "17  18  Charlie   35  Chicago  75000.0\n",
      "18  19    David   40  Houston  80000.0\n",
      "\n",
      "Employee count by city:\n",
      "city\n",
      "New York       4\n",
      "Los Angeles    4\n",
      "Chicago        4\n",
      "Houston        4\n",
      "Phoenix        4\n",
      "Name: count, dtype: int64\n"
     ]
    },
    {
     "name": "stderr",
     "output_type": "stream",
     "text": [
      "C:\\Users\\admin\\AppData\\Local\\Temp\\ipykernel_12828\\1190387216.py:3: UserWarning: pandas only supports SQLAlchemy connectable (engine/connection) or database string URI or sqlite3 DBAPI2 connection. Other DBAPI2 objects are not tested. Please consider using SQLAlchemy.\n",
      "  df_mysql = pd.read_sql(query, conn)\n"
     ]
    }
   ],
   "source": [
    "# Read from MySQL into Pandas\n",
    "query = \"SELECT * FROM employees\"\n",
    "df_mysql = pd.read_sql(query, conn)\n",
    "\n",
    "# Analytics Examples\n",
    "print(\"\\nAverage Salary:\")\n",
    "print(df_mysql['salary'].mean())\n",
    "\n",
    "print(\"\\nEmployees earning above 60k:\")\n",
    "print(df_mysql[df_mysql['salary'] > 60000])\n",
    "\n",
    "print(\"\\nEmployee count by city:\")\n",
    "print(df_mysql['city'].value_counts())\n"
   ]
  },
  {
   "cell_type": "markdown",
   "id": "36de21cd-84e2-44d6-8bbf-3bd66d220e75",
   "metadata": {},
   "source": [
    "📤 Export Reports in Pandas\n"
   ]
  },
  {
   "cell_type": "code",
   "execution_count": 10,
   "id": "f90a9e90-9a60-451e-ac00-2d0107fb9855",
   "metadata": {},
   "outputs": [],
   "source": [
    "# Export Average Salary to CSV\n",
    "avg_salary = df_mysql['salary'].mean()\n",
    "pd.DataFrame({'Average Salary': [avg_salary]}).to_csv('average_salary.csv', index=False)\n",
    "\n",
    "# Export Employees earning above 60k to Excel\n",
    "high_earners = df_mysql[df_mysql['salary'] > 60000]\n",
    "high_earners.to_excel('high_earners.xlsx', index=False)\n",
    "\n",
    "# Export Employee count by city to CSV\n",
    "\n",
    "city_counts = df_mysql['city'].value_counts().reset_index()\n",
    "city_counts.columns = ['City', 'Employee Count']\n",
    "city_counts.to_csv('employee_count_by_city.csv', index=False)\n"
   ]
  },
  {
   "cell_type": "code",
   "execution_count": null,
   "id": "eef88b9d-410d-4b0d-b0e1-e56fbaa1c012",
   "metadata": {},
   "outputs": [],
   "source": []
  },
  {
   "cell_type": "code",
   "execution_count": null,
   "id": "b5aaa6b3-ac3a-4e40-911a-8a79a9747fde",
   "metadata": {},
   "outputs": [],
   "source": []
  }
 ],
 "metadata": {
  "kernelspec": {
   "display_name": "Python 3 (ipykernel)",
   "language": "python",
   "name": "python3"
  },
  "language_info": {
   "codemirror_mode": {
    "name": "ipython",
    "version": 3
   },
   "file_extension": ".py",
   "mimetype": "text/x-python",
   "name": "python",
   "nbconvert_exporter": "python",
   "pygments_lexer": "ipython3",
   "version": "3.11.4"
  }
 },
 "nbformat": 4,
 "nbformat_minor": 5
}
