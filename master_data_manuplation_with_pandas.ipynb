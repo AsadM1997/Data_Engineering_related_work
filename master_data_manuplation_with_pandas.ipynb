{
 "cells": [
  {
   "cell_type": "code",
   "execution_count": 3,
   "id": "feb2ec8d-0e23-4dd5-b70a-5a0dd8e15113",
   "metadata": {},
   "outputs": [
    {
     "data": {
      "text/html": [
       "<div>\n",
       "<style scoped>\n",
       "    .dataframe tbody tr th:only-of-type {\n",
       "        vertical-align: middle;\n",
       "    }\n",
       "\n",
       "    .dataframe tbody tr th {\n",
       "        vertical-align: top;\n",
       "    }\n",
       "\n",
       "    .dataframe thead th {\n",
       "        text-align: right;\n",
       "    }\n",
       "</style>\n",
       "<table border=\"1\" class=\"dataframe\">\n",
       "  <thead>\n",
       "    <tr style=\"text-align: right;\">\n",
       "      <th></th>\n",
       "      <th>Name</th>\n",
       "      <th>Age</th>\n",
       "      <th>City</th>\n",
       "      <th>Salary</th>\n",
       "    </tr>\n",
       "  </thead>\n",
       "  <tbody>\n",
       "    <tr>\n",
       "      <th>0</th>\n",
       "      <td>David</td>\n",
       "      <td>34</td>\n",
       "      <td>San Diego</td>\n",
       "      <td>79076</td>\n",
       "    </tr>\n",
       "    <tr>\n",
       "      <th>1</th>\n",
       "      <td>Charlie</td>\n",
       "      <td>35</td>\n",
       "      <td>Phoenix</td>\n",
       "      <td>76699</td>\n",
       "    </tr>\n",
       "    <tr>\n",
       "      <th>2</th>\n",
       "      <td>Quinn</td>\n",
       "      <td>38</td>\n",
       "      <td>New York</td>\n",
       "      <td>93478</td>\n",
       "    </tr>\n",
       "    <tr>\n",
       "      <th>3</th>\n",
       "      <td>Eve</td>\n",
       "      <td>32</td>\n",
       "      <td>Phoenix</td>\n",
       "      <td>92233</td>\n",
       "    </tr>\n",
       "    <tr>\n",
       "      <th>4</th>\n",
       "      <td>Paul</td>\n",
       "      <td>27</td>\n",
       "      <td>Houston</td>\n",
       "      <td>96396</td>\n",
       "    </tr>\n",
       "  </tbody>\n",
       "</table>\n",
       "</div>"
      ],
      "text/plain": [
       "      Name  Age       City  Salary\n",
       "0    David   34  San Diego   79076\n",
       "1  Charlie   35    Phoenix   76699\n",
       "2    Quinn   38   New York   93478\n",
       "3      Eve   32    Phoenix   92233\n",
       "4     Paul   27    Houston   96396"
      ]
     },
     "execution_count": 3,
     "metadata": {},
     "output_type": "execute_result"
    }
   ],
   "source": [
    "import pandas as pd \n",
    "\n",
    "# load csv\n",
    "df = pd.read_csv('data.csv')\n",
    "df.head()"
   ]
  },
  {
   "cell_type": "code",
   "execution_count": 6,
   "id": "f8d41c60-9add-481b-8dc4-93d6e18d7dca",
   "metadata": {},
   "outputs": [
    {
     "data": {
      "text/plain": [
       "Index(['Name', 'Age', 'City', 'Salary'], dtype='object')"
      ]
     },
     "execution_count": 6,
     "metadata": {},
     "output_type": "execute_result"
    }
   ],
   "source": [
    "# Lists column names\n",
    "df.columns"
   ]
  },
  {
   "cell_type": "code",
   "execution_count": 5,
   "id": "5f91d319-5a72-4276-b810-3d8e82f8e736",
   "metadata": {},
   "outputs": [
    {
     "data": {
      "text/plain": [
       "(20, 4)"
      ]
     },
     "execution_count": 5,
     "metadata": {},
     "output_type": "execute_result"
    }
   ],
   "source": [
    "# (rows, columns)\n",
    "df.shape "
   ]
  },
  {
   "cell_type": "code",
   "execution_count": 32,
   "id": "81f25468-f33c-478c-95fb-8977f1c99886",
   "metadata": {},
   "outputs": [
    {
     "name": "stdout",
     "output_type": "stream",
     "text": [
      "<class 'pandas.core.frame.DataFrame'>\n",
      "RangeIndex: 20 entries, 0 to 19\n",
      "Data columns (total 4 columns):\n",
      " #   Column  Non-Null Count  Dtype \n",
      "---  ------  --------------  ----- \n",
      " 0   Name    20 non-null     object\n",
      " 1   Age     20 non-null     int64 \n",
      " 2   City    20 non-null     object\n",
      " 3   Salary  20 non-null     int64 \n",
      "dtypes: int64(2), object(2)\n",
      "memory usage: 772.0+ bytes\n"
     ]
    }
   ],
   "source": [
    "# for badic info\n",
    "\n",
    "df.info()"
   ]
  },
  {
   "cell_type": "code",
   "execution_count": 33,
   "id": "817f574f-bab3-487b-b4c3-4b847248d120",
   "metadata": {
    "scrolled": true
   },
   "outputs": [
    {
     "data": {
      "text/html": [
       "<div>\n",
       "<style scoped>\n",
       "    .dataframe tbody tr th:only-of-type {\n",
       "        vertical-align: middle;\n",
       "    }\n",
       "\n",
       "    .dataframe tbody tr th {\n",
       "        vertical-align: top;\n",
       "    }\n",
       "\n",
       "    .dataframe thead th {\n",
       "        text-align: right;\n",
       "    }\n",
       "</style>\n",
       "<table border=\"1\" class=\"dataframe\">\n",
       "  <thead>\n",
       "    <tr style=\"text-align: right;\">\n",
       "      <th></th>\n",
       "      <th>Age</th>\n",
       "      <th>Salary</th>\n",
       "    </tr>\n",
       "  </thead>\n",
       "  <tbody>\n",
       "    <tr>\n",
       "      <th>count</th>\n",
       "      <td>20.000000</td>\n",
       "      <td>20.000000</td>\n",
       "    </tr>\n",
       "    <tr>\n",
       "      <th>mean</th>\n",
       "      <td>40.950000</td>\n",
       "      <td>82377.000000</td>\n",
       "    </tr>\n",
       "    <tr>\n",
       "      <th>std</th>\n",
       "      <td>10.485454</td>\n",
       "      <td>15568.226174</td>\n",
       "    </tr>\n",
       "    <tr>\n",
       "      <th>min</th>\n",
       "      <td>27.000000</td>\n",
       "      <td>48379.000000</td>\n",
       "    </tr>\n",
       "    <tr>\n",
       "      <th>25%</th>\n",
       "      <td>33.500000</td>\n",
       "      <td>78425.500000</td>\n",
       "    </tr>\n",
       "    <tr>\n",
       "      <th>50%</th>\n",
       "      <td>38.000000</td>\n",
       "      <td>83986.000000</td>\n",
       "    </tr>\n",
       "    <tr>\n",
       "      <th>75%</th>\n",
       "      <td>47.500000</td>\n",
       "      <td>91636.750000</td>\n",
       "    </tr>\n",
       "    <tr>\n",
       "      <th>max</th>\n",
       "      <td>59.000000</td>\n",
       "      <td>118931.000000</td>\n",
       "    </tr>\n",
       "  </tbody>\n",
       "</table>\n",
       "</div>"
      ],
      "text/plain": [
       "             Age         Salary\n",
       "count  20.000000      20.000000\n",
       "mean   40.950000   82377.000000\n",
       "std    10.485454   15568.226174\n",
       "min    27.000000   48379.000000\n",
       "25%    33.500000   78425.500000\n",
       "50%    38.000000   83986.000000\n",
       "75%    47.500000   91636.750000\n",
       "max    59.000000  118931.000000"
      ]
     },
     "execution_count": 33,
     "metadata": {},
     "output_type": "execute_result"
    }
   ],
   "source": [
    "# summary stats\n",
    "df.describe()"
   ]
  },
  {
   "cell_type": "markdown",
   "id": "e9a091a5-724b-46f9-be1d-7e61d20bae9c",
   "metadata": {},
   "source": [
    "📊  Selecting and Filtering Data\n",
    "Goal: Select specific rows/columns & apply conditions.\n",
    "\n",
    "🔹 Learn:"
   ]
  },
  {
   "cell_type": "code",
   "execution_count": 34,
   "id": "f15e7aa2-dce0-4861-b2f9-016d426ffbbf",
   "metadata": {},
   "outputs": [
    {
     "data": {
      "text/plain": [
       "array(['San Diego', 'Phoenix', 'New York', 'Houston', 'San Antonio',\n",
       "       'Chicago', 'Los Angeles'], dtype=object)"
      ]
     },
     "execution_count": 34,
     "metadata": {},
     "output_type": "execute_result"
    }
   ],
   "source": [
    "df['City'].unique()\n"
   ]
  },
  {
   "cell_type": "code",
   "execution_count": 35,
   "id": "02b20fe3-688f-46b9-9e02-17abaeebcc11",
   "metadata": {},
   "outputs": [
    {
     "data": {
      "text/plain": [
       "0      79076\n",
       "1      76699\n",
       "2      93478\n",
       "3      92233\n",
       "4      96396\n",
       "5      59351\n",
       "6      60027\n",
       "7      83846\n",
       "8      84534\n",
       "9      83279\n",
       "10     79001\n",
       "11     65220\n",
       "12     48379\n",
       "13     84126\n",
       "14     91438\n",
       "15    118931\n",
       "16     80513\n",
       "17     89020\n",
       "18     87224\n",
       "19     94769\n",
       "Name: Salary, dtype: int64"
      ]
     },
     "execution_count": 35,
     "metadata": {},
     "output_type": "execute_result"
    }
   ],
   "source": [
    "# Select columns\n",
    "df['Salary'] \n"
   ]
  },
  {
   "cell_type": "code",
   "execution_count": 39,
   "id": "85fddbc8-41c8-4b01-9d63-7db26f449c7f",
   "metadata": {},
   "outputs": [
    {
     "data": {
      "text/html": [
       "<div>\n",
       "<style scoped>\n",
       "    .dataframe tbody tr th:only-of-type {\n",
       "        vertical-align: middle;\n",
       "    }\n",
       "\n",
       "    .dataframe tbody tr th {\n",
       "        vertical-align: top;\n",
       "    }\n",
       "\n",
       "    .dataframe thead th {\n",
       "        text-align: right;\n",
       "    }\n",
       "</style>\n",
       "<table border=\"1\" class=\"dataframe\">\n",
       "  <thead>\n",
       "    <tr style=\"text-align: right;\">\n",
       "      <th></th>\n",
       "      <th>Name</th>\n",
       "      <th>Age</th>\n",
       "      <th>City</th>\n",
       "      <th>Salary</th>\n",
       "    </tr>\n",
       "  </thead>\n",
       "  <tbody>\n",
       "    <tr>\n",
       "      <th>0</th>\n",
       "      <td>David</td>\n",
       "      <td>34</td>\n",
       "      <td>San Diego</td>\n",
       "      <td>79076</td>\n",
       "    </tr>\n",
       "    <tr>\n",
       "      <th>1</th>\n",
       "      <td>Charlie</td>\n",
       "      <td>35</td>\n",
       "      <td>Phoenix</td>\n",
       "      <td>76699</td>\n",
       "    </tr>\n",
       "    <tr>\n",
       "      <th>2</th>\n",
       "      <td>Quinn</td>\n",
       "      <td>38</td>\n",
       "      <td>New York</td>\n",
       "      <td>93478</td>\n",
       "    </tr>\n",
       "    <tr>\n",
       "      <th>3</th>\n",
       "      <td>Eve</td>\n",
       "      <td>32</td>\n",
       "      <td>Phoenix</td>\n",
       "      <td>92233</td>\n",
       "    </tr>\n",
       "    <tr>\n",
       "      <th>4</th>\n",
       "      <td>Paul</td>\n",
       "      <td>27</td>\n",
       "      <td>Houston</td>\n",
       "      <td>96396</td>\n",
       "    </tr>\n",
       "    <tr>\n",
       "      <th>7</th>\n",
       "      <td>Grace</td>\n",
       "      <td>47</td>\n",
       "      <td>San Diego</td>\n",
       "      <td>83846</td>\n",
       "    </tr>\n",
       "    <tr>\n",
       "      <th>8</th>\n",
       "      <td>Nate</td>\n",
       "      <td>59</td>\n",
       "      <td>Houston</td>\n",
       "      <td>84534</td>\n",
       "    </tr>\n",
       "    <tr>\n",
       "      <th>9</th>\n",
       "      <td>Quinn</td>\n",
       "      <td>59</td>\n",
       "      <td>San Antonio</td>\n",
       "      <td>83279</td>\n",
       "    </tr>\n",
       "    <tr>\n",
       "      <th>10</th>\n",
       "      <td>Grace</td>\n",
       "      <td>39</td>\n",
       "      <td>San Antonio</td>\n",
       "      <td>79001</td>\n",
       "    </tr>\n",
       "    <tr>\n",
       "      <th>13</th>\n",
       "      <td>Hannah</td>\n",
       "      <td>56</td>\n",
       "      <td>New York</td>\n",
       "      <td>84126</td>\n",
       "    </tr>\n",
       "    <tr>\n",
       "      <th>14</th>\n",
       "      <td>Paul</td>\n",
       "      <td>35</td>\n",
       "      <td>Houston</td>\n",
       "      <td>91438</td>\n",
       "    </tr>\n",
       "    <tr>\n",
       "      <th>15</th>\n",
       "      <td>Liam</td>\n",
       "      <td>32</td>\n",
       "      <td>Chicago</td>\n",
       "      <td>118931</td>\n",
       "    </tr>\n",
       "    <tr>\n",
       "      <th>16</th>\n",
       "      <td>Hannah</td>\n",
       "      <td>36</td>\n",
       "      <td>Los Angeles</td>\n",
       "      <td>80513</td>\n",
       "    </tr>\n",
       "    <tr>\n",
       "      <th>17</th>\n",
       "      <td>Nate</td>\n",
       "      <td>29</td>\n",
       "      <td>San Antonio</td>\n",
       "      <td>89020</td>\n",
       "    </tr>\n",
       "    <tr>\n",
       "      <th>18</th>\n",
       "      <td>Olivia</td>\n",
       "      <td>49</td>\n",
       "      <td>San Antonio</td>\n",
       "      <td>87224</td>\n",
       "    </tr>\n",
       "    <tr>\n",
       "      <th>19</th>\n",
       "      <td>Steve</td>\n",
       "      <td>38</td>\n",
       "      <td>New York</td>\n",
       "      <td>94769</td>\n",
       "    </tr>\n",
       "  </tbody>\n",
       "</table>\n",
       "</div>"
      ],
      "text/plain": [
       "       Name  Age         City  Salary\n",
       "0     David   34    San Diego   79076\n",
       "1   Charlie   35      Phoenix   76699\n",
       "2     Quinn   38     New York   93478\n",
       "3       Eve   32      Phoenix   92233\n",
       "4      Paul   27      Houston   96396\n",
       "7     Grace   47    San Diego   83846\n",
       "8      Nate   59      Houston   84534\n",
       "9     Quinn   59  San Antonio   83279\n",
       "10    Grace   39  San Antonio   79001\n",
       "13   Hannah   56     New York   84126\n",
       "14     Paul   35      Houston   91438\n",
       "15     Liam   32      Chicago  118931\n",
       "16   Hannah   36  Los Angeles   80513\n",
       "17     Nate   29  San Antonio   89020\n",
       "18   Olivia   49  San Antonio   87224\n",
       "19    Steve   38     New York   94769"
      ]
     },
     "execution_count": 39,
     "metadata": {},
     "output_type": "execute_result"
    }
   ],
   "source": [
    "\n",
    "# Filter rows\n",
    "df[df['Salary'] > 70000]\n"
   ]
  },
  {
   "cell_type": "code",
   "execution_count": 40,
   "id": "b9ab6c7f-85c2-4471-9d88-f9845986cbc3",
   "metadata": {},
   "outputs": [
    {
     "data": {
      "text/html": [
       "<div>\n",
       "<style scoped>\n",
       "    .dataframe tbody tr th:only-of-type {\n",
       "        vertical-align: middle;\n",
       "    }\n",
       "\n",
       "    .dataframe tbody tr th {\n",
       "        vertical-align: top;\n",
       "    }\n",
       "\n",
       "    .dataframe thead th {\n",
       "        text-align: right;\n",
       "    }\n",
       "</style>\n",
       "<table border=\"1\" class=\"dataframe\">\n",
       "  <thead>\n",
       "    <tr style=\"text-align: right;\">\n",
       "      <th></th>\n",
       "      <th>Name</th>\n",
       "      <th>Age</th>\n",
       "      <th>City</th>\n",
       "      <th>Salary</th>\n",
       "    </tr>\n",
       "  </thead>\n",
       "  <tbody>\n",
       "    <tr>\n",
       "      <th>2</th>\n",
       "      <td>Quinn</td>\n",
       "      <td>38</td>\n",
       "      <td>New York</td>\n",
       "      <td>93478</td>\n",
       "    </tr>\n",
       "    <tr>\n",
       "      <th>13</th>\n",
       "      <td>Hannah</td>\n",
       "      <td>56</td>\n",
       "      <td>New York</td>\n",
       "      <td>84126</td>\n",
       "    </tr>\n",
       "    <tr>\n",
       "      <th>19</th>\n",
       "      <td>Steve</td>\n",
       "      <td>38</td>\n",
       "      <td>New York</td>\n",
       "      <td>94769</td>\n",
       "    </tr>\n",
       "  </tbody>\n",
       "</table>\n",
       "</div>"
      ],
      "text/plain": [
       "      Name  Age      City  Salary\n",
       "2    Quinn   38  New York   93478\n",
       "13  Hannah   56  New York   84126\n",
       "19   Steve   38  New York   94769"
      ]
     },
     "execution_count": 40,
     "metadata": {},
     "output_type": "execute_result"
    }
   ],
   "source": [
    "df[df['City'] == 'New York']\n"
   ]
  },
  {
   "cell_type": "code",
   "execution_count": 41,
   "id": "98c3dec8-240e-438b-977d-ea8b24c43884",
   "metadata": {},
   "outputs": [
    {
     "data": {
      "text/html": [
       "<div>\n",
       "<style scoped>\n",
       "    .dataframe tbody tr th:only-of-type {\n",
       "        vertical-align: middle;\n",
       "    }\n",
       "\n",
       "    .dataframe tbody tr th {\n",
       "        vertical-align: top;\n",
       "    }\n",
       "\n",
       "    .dataframe thead th {\n",
       "        text-align: right;\n",
       "    }\n",
       "</style>\n",
       "<table border=\"1\" class=\"dataframe\">\n",
       "  <thead>\n",
       "    <tr style=\"text-align: right;\">\n",
       "      <th></th>\n",
       "      <th>Name</th>\n",
       "      <th>Age</th>\n",
       "      <th>City</th>\n",
       "      <th>Salary</th>\n",
       "    </tr>\n",
       "  </thead>\n",
       "  <tbody>\n",
       "    <tr>\n",
       "      <th>0</th>\n",
       "      <td>David</td>\n",
       "      <td>34</td>\n",
       "      <td>San Diego</td>\n",
       "      <td>79076</td>\n",
       "    </tr>\n",
       "    <tr>\n",
       "      <th>1</th>\n",
       "      <td>Charlie</td>\n",
       "      <td>35</td>\n",
       "      <td>Phoenix</td>\n",
       "      <td>76699</td>\n",
       "    </tr>\n",
       "    <tr>\n",
       "      <th>2</th>\n",
       "      <td>Quinn</td>\n",
       "      <td>38</td>\n",
       "      <td>New York</td>\n",
       "      <td>93478</td>\n",
       "    </tr>\n",
       "    <tr>\n",
       "      <th>3</th>\n",
       "      <td>Eve</td>\n",
       "      <td>32</td>\n",
       "      <td>Phoenix</td>\n",
       "      <td>92233</td>\n",
       "    </tr>\n",
       "    <tr>\n",
       "      <th>4</th>\n",
       "      <td>Paul</td>\n",
       "      <td>27</td>\n",
       "      <td>Houston</td>\n",
       "      <td>96396</td>\n",
       "    </tr>\n",
       "  </tbody>\n",
       "</table>\n",
       "</div>"
      ],
      "text/plain": [
       "      Name  Age       City  Salary\n",
       "0    David   34  San Diego   79076\n",
       "1  Charlie   35    Phoenix   76699\n",
       "2    Quinn   38   New York   93478\n",
       "3      Eve   32    Phoenix   92233\n",
       "4     Paul   27    Houston   96396"
      ]
     },
     "execution_count": 41,
     "metadata": {},
     "output_type": "execute_result"
    }
   ],
   "source": [
    "df.head()"
   ]
  },
  {
   "cell_type": "code",
   "execution_count": 3,
   "id": "aa53f5ac-274e-42e6-9648-9d9e6cdb5995",
   "metadata": {},
   "outputs": [
    {
     "data": {
      "text/html": [
       "<div>\n",
       "<style scoped>\n",
       "    .dataframe tbody tr th:only-of-type {\n",
       "        vertical-align: middle;\n",
       "    }\n",
       "\n",
       "    .dataframe tbody tr th {\n",
       "        vertical-align: top;\n",
       "    }\n",
       "\n",
       "    .dataframe thead th {\n",
       "        text-align: right;\n",
       "    }\n",
       "</style>\n",
       "<table border=\"1\" class=\"dataframe\">\n",
       "  <thead>\n",
       "    <tr style=\"text-align: right;\">\n",
       "      <th></th>\n",
       "      <th>Name</th>\n",
       "      <th>Age</th>\n",
       "      <th>City</th>\n",
       "      <th>Salary</th>\n",
       "    </tr>\n",
       "  </thead>\n",
       "  <tbody>\n",
       "    <tr>\n",
       "      <th>2</th>\n",
       "      <td>Quinn</td>\n",
       "      <td>38</td>\n",
       "      <td>New York</td>\n",
       "      <td>93478</td>\n",
       "    </tr>\n",
       "    <tr>\n",
       "      <th>13</th>\n",
       "      <td>Hannah</td>\n",
       "      <td>56</td>\n",
       "      <td>New York</td>\n",
       "      <td>84126</td>\n",
       "    </tr>\n",
       "    <tr>\n",
       "      <th>19</th>\n",
       "      <td>Steve</td>\n",
       "      <td>38</td>\n",
       "      <td>New York</td>\n",
       "      <td>94769</td>\n",
       "    </tr>\n",
       "  </tbody>\n",
       "</table>\n",
       "</div>"
      ],
      "text/plain": [
       "      Name  Age      City  Salary\n",
       "2    Quinn   38  New York   93478\n",
       "13  Hannah   56  New York   84126\n",
       "19   Steve   38  New York   94769"
      ]
     },
     "execution_count": 3,
     "metadata": {},
     "output_type": "execute_result"
    }
   ],
   "source": [
    "# Multiple conditions\n",
    "df[(df['City'] == 'New York') & (df['Salary'] > 70000)]"
   ]
  },
  {
   "cell_type": "markdown",
   "id": "b8469d3a-e810-43b1-9f7a-10bf6f9bbcb9",
   "metadata": {},
   "source": [
    "\n",
    "\n",
    "🧹 : Cleaning Nulls & Formatting\n",
    "Goal: Handle missing or incorrect data.\n",
    "\n",
    "\n",
    "\n",
    "# i made count method itself it is copy paste jsut see don't worry\n",
    "df.isnull().count()\n",
    "# Check for nulls\n",
    "df.isnull().sum()\n",
    "\n",
    "# Drop rows with nulls\n",
    "df.dropna(inplace=True)\n",
    "\n",
    "# Fill nulls with mean\n",
    "df[\"Salary\"] = df[\"Salary\"].fillna(df[\"Salary\"].mean())\n",
    "\n",
    "\n",
    "# Convert column to datetime\n",
    "df['Date'] = pd.to_datetime(df['Date'])\n"
   ]
  },
  {
   "cell_type": "markdown",
   "id": "9a193cb2-440e-4c40-802c-51d9a4b3d3f1",
   "metadata": {},
   "source": [
    "📈  Grouping and Aggregating\n",
    "Goal: Use groupby and agg to analyze trends."
   ]
  },
  {
   "cell_type": "code",
   "execution_count": 4,
   "id": "77444e85-7f03-452e-adeb-0fd55d8d668f",
   "metadata": {},
   "outputs": [
    {
     "data": {
      "text/plain": [
       "City\n",
       "Chicago        118931.000000\n",
       "Houston         90789.333333\n",
       "Los Angeles     80513.000000\n",
       "New York        82931.000000\n",
       "Phoenix         84466.000000\n",
       "San Antonio     77295.166667\n",
       "San Diego       70433.666667\n",
       "Name: Salary, dtype: float64"
      ]
     },
     "execution_count": 4,
     "metadata": {},
     "output_type": "execute_result"
    }
   ],
   "source": [
    "# Average salary per city \n",
    "df.groupby('City')['Salary'].mean()\n"
   ]
  },
  {
   "cell_type": "code",
   "execution_count": 58,
   "id": "e75225c2-160f-4349-a06c-2e25695db72b",
   "metadata": {},
   "outputs": [
    {
     "data": {
      "text/plain": [
       "City\n",
       "Chicago        118931\n",
       "Houston         96396\n",
       "Los Angeles     80513\n",
       "New York        94769\n",
       "Phoenix         92233\n",
       "San Antonio     89020\n",
       "San Diego       83846\n",
       "Name: Salary, dtype: int64"
      ]
     },
     "execution_count": 58,
     "metadata": {},
     "output_type": "execute_result"
    }
   ],
   "source": [
    "df.groupby('City')['Salary'].max()"
   ]
  },
  {
   "cell_type": "code",
   "execution_count": 49,
   "id": "1d888d87-56c8-4ba2-b11f-40b449b14543",
   "metadata": {},
   "outputs": [
    {
     "data": {
      "text/html": [
       "<div>\n",
       "<style scoped>\n",
       "    .dataframe tbody tr th:only-of-type {\n",
       "        vertical-align: middle;\n",
       "    }\n",
       "\n",
       "    .dataframe tbody tr th {\n",
       "        vertical-align: top;\n",
       "    }\n",
       "\n",
       "    .dataframe thead th {\n",
       "        text-align: right;\n",
       "    }\n",
       "</style>\n",
       "<table border=\"1\" class=\"dataframe\">\n",
       "  <thead>\n",
       "    <tr style=\"text-align: right;\">\n",
       "      <th></th>\n",
       "      <th>Name</th>\n",
       "      <th>Age</th>\n",
       "      <th>City</th>\n",
       "      <th>Salary</th>\n",
       "    </tr>\n",
       "  </thead>\n",
       "  <tbody>\n",
       "    <tr>\n",
       "      <th>0</th>\n",
       "      <td>David</td>\n",
       "      <td>34</td>\n",
       "      <td>San Diego</td>\n",
       "      <td>79076</td>\n",
       "    </tr>\n",
       "    <tr>\n",
       "      <th>1</th>\n",
       "      <td>Charlie</td>\n",
       "      <td>35</td>\n",
       "      <td>Phoenix</td>\n",
       "      <td>76699</td>\n",
       "    </tr>\n",
       "    <tr>\n",
       "      <th>2</th>\n",
       "      <td>Quinn</td>\n",
       "      <td>38</td>\n",
       "      <td>New York</td>\n",
       "      <td>93478</td>\n",
       "    </tr>\n",
       "    <tr>\n",
       "      <th>3</th>\n",
       "      <td>Eve</td>\n",
       "      <td>32</td>\n",
       "      <td>Phoenix</td>\n",
       "      <td>92233</td>\n",
       "    </tr>\n",
       "    <tr>\n",
       "      <th>4</th>\n",
       "      <td>Paul</td>\n",
       "      <td>27</td>\n",
       "      <td>Houston</td>\n",
       "      <td>96396</td>\n",
       "    </tr>\n",
       "  </tbody>\n",
       "</table>\n",
       "</div>"
      ],
      "text/plain": [
       "      Name  Age       City  Salary\n",
       "0    David   34  San Diego   79076\n",
       "1  Charlie   35    Phoenix   76699\n",
       "2    Quinn   38   New York   93478\n",
       "3      Eve   32    Phoenix   92233\n",
       "4     Paul   27    Houston   96396"
      ]
     },
     "execution_count": 49,
     "metadata": {},
     "output_type": "execute_result"
    }
   ],
   "source": [
    "df.head()"
   ]
  },
  {
   "cell_type": "markdown",
   "id": "72fb7dbc-07c7-440e-bf44-2c59ead10c0b",
   "metadata": {},
   "source": [
    "✅  Add a Date column (e.g., one date per week)"
   ]
  },
  {
   "cell_type": "code",
   "execution_count": 53,
   "id": "0b8bb3c0-f8a6-4b90-a75a-69cf14513538",
   "metadata": {},
   "outputs": [],
   "source": [
    "df['date'] = pd.date_range(start='30-07-2025', periods=len(df), freq='W')"
   ]
  },
  {
   "cell_type": "code",
   "execution_count": 54,
   "id": "35e6fdb2-7b44-447c-a88d-bf3c57f196a8",
   "metadata": {},
   "outputs": [
    {
     "data": {
      "text/html": [
       "<div>\n",
       "<style scoped>\n",
       "    .dataframe tbody tr th:only-of-type {\n",
       "        vertical-align: middle;\n",
       "    }\n",
       "\n",
       "    .dataframe tbody tr th {\n",
       "        vertical-align: top;\n",
       "    }\n",
       "\n",
       "    .dataframe thead th {\n",
       "        text-align: right;\n",
       "    }\n",
       "</style>\n",
       "<table border=\"1\" class=\"dataframe\">\n",
       "  <thead>\n",
       "    <tr style=\"text-align: right;\">\n",
       "      <th></th>\n",
       "      <th>Name</th>\n",
       "      <th>Age</th>\n",
       "      <th>City</th>\n",
       "      <th>Salary</th>\n",
       "      <th>date</th>\n",
       "    </tr>\n",
       "  </thead>\n",
       "  <tbody>\n",
       "    <tr>\n",
       "      <th>0</th>\n",
       "      <td>David</td>\n",
       "      <td>34</td>\n",
       "      <td>San Diego</td>\n",
       "      <td>79076</td>\n",
       "      <td>2025-08-03</td>\n",
       "    </tr>\n",
       "    <tr>\n",
       "      <th>1</th>\n",
       "      <td>Charlie</td>\n",
       "      <td>35</td>\n",
       "      <td>Phoenix</td>\n",
       "      <td>76699</td>\n",
       "      <td>2025-08-10</td>\n",
       "    </tr>\n",
       "    <tr>\n",
       "      <th>2</th>\n",
       "      <td>Quinn</td>\n",
       "      <td>38</td>\n",
       "      <td>New York</td>\n",
       "      <td>93478</td>\n",
       "      <td>2025-08-17</td>\n",
       "    </tr>\n",
       "    <tr>\n",
       "      <th>3</th>\n",
       "      <td>Eve</td>\n",
       "      <td>32</td>\n",
       "      <td>Phoenix</td>\n",
       "      <td>92233</td>\n",
       "      <td>2025-08-24</td>\n",
       "    </tr>\n",
       "    <tr>\n",
       "      <th>4</th>\n",
       "      <td>Paul</td>\n",
       "      <td>27</td>\n",
       "      <td>Houston</td>\n",
       "      <td>96396</td>\n",
       "      <td>2025-08-31</td>\n",
       "    </tr>\n",
       "  </tbody>\n",
       "</table>\n",
       "</div>"
      ],
      "text/plain": [
       "      Name  Age       City  Salary       date\n",
       "0    David   34  San Diego   79076 2025-08-03\n",
       "1  Charlie   35    Phoenix   76699 2025-08-10\n",
       "2    Quinn   38   New York   93478 2025-08-17\n",
       "3      Eve   32    Phoenix   92233 2025-08-24\n",
       "4     Paul   27    Houston   96396 2025-08-31"
      ]
     },
     "execution_count": 54,
     "metadata": {},
     "output_type": "execute_result"
    }
   ],
   "source": [
    "df.head()"
   ]
  },
  {
   "cell_type": "code",
   "execution_count": 57,
   "id": "2e9c525e-55df-4762-9dc8-795f096c49db",
   "metadata": {},
   "outputs": [
    {
     "data": {
      "image/png": "[encoded data removed]",
      "text/plain": [
       "<Figure size 640x480 with 1 Axes>"
      ]
     },
     "metadata": {},
     "output_type": "display_data"
    }
   ],
   "source": [
    "import matplotlib.pyplot as plt\n",
    "\n",
    "df.set_index('date')['Salary'].resample('W').mean().plot(marker='o')\n",
    "plt.title(\"weekly Avg salary\")\n",
    "plt.ylabel('salary')\n",
    "plt.grid(True)\n",
    "plt.show()"
   ]
  },
  {
   "cell_type": "markdown",
   "id": "ad4d2cde-7291-420d-89c5-91aa0348914d",
   "metadata": {},
   "source": [
    "✅ Project: Analyze Weather Dataset\n",
    "📂 Step 1: Load the Dataset\n"
   ]
  },
  {
   "cell_type": "code",
   "execution_count": 7,
   "id": "891c5a23-b401-48ac-8634-59872a547f49",
   "metadata": {},
   "outputs": [
    {
     "data": {
      "text/html": [
       "<div>\n",
       "<style scoped>\n",
       "    .dataframe tbody tr th:only-of-type {\n",
       "        vertical-align: middle;\n",
       "    }\n",
       "\n",
       "    .dataframe tbody tr th {\n",
       "        vertical-align: top;\n",
       "    }\n",
       "\n",
       "    .dataframe thead th {\n",
       "        text-align: right;\n",
       "    }\n",
       "</style>\n",
       "<table border=\"1\" class=\"dataframe\">\n",
       "  <thead>\n",
       "    <tr style=\"text-align: right;\">\n",
       "      <th></th>\n",
       "      <th>Date</th>\n",
       "      <th>City</th>\n",
       "      <th>State</th>\n",
       "      <th>Temperature</th>\n",
       "      <th>Max_Temp</th>\n",
       "      <th>Min_Temp</th>\n",
       "      <th>WindSpeed</th>\n",
       "      <th>Precipitation</th>\n",
       "    </tr>\n",
       "  </thead>\n",
       "  <tbody>\n",
       "    <tr>\n",
       "      <th>0</th>\n",
       "      <td>2024-01-01</td>\n",
       "      <td>New York</td>\n",
       "      <td>NY</td>\n",
       "      <td>30</td>\n",
       "      <td>35</td>\n",
       "      <td>25</td>\n",
       "      <td>10</td>\n",
       "      <td>0.00</td>\n",
       "    </tr>\n",
       "    <tr>\n",
       "      <th>1</th>\n",
       "      <td>2024-01-02</td>\n",
       "      <td>Los Angeles</td>\n",
       "      <td>CA</td>\n",
       "      <td>65</td>\n",
       "      <td>70</td>\n",
       "      <td>60</td>\n",
       "      <td>5</td>\n",
       "      <td>0.10</td>\n",
       "    </tr>\n",
       "    <tr>\n",
       "      <th>2</th>\n",
       "      <td>2024-01-03</td>\n",
       "      <td>Chicago</td>\n",
       "      <td>IL</td>\n",
       "      <td>25</td>\n",
       "      <td>30</td>\n",
       "      <td>20</td>\n",
       "      <td>12</td>\n",
       "      <td>0.00</td>\n",
       "    </tr>\n",
       "    <tr>\n",
       "      <th>3</th>\n",
       "      <td>2024-01-04</td>\n",
       "      <td>Houston</td>\n",
       "      <td>TX</td>\n",
       "      <td>55</td>\n",
       "      <td>60</td>\n",
       "      <td>50</td>\n",
       "      <td>8</td>\n",
       "      <td>0.05</td>\n",
       "    </tr>\n",
       "    <tr>\n",
       "      <th>4</th>\n",
       "      <td>2024-01-05</td>\n",
       "      <td>Phoenix</td>\n",
       "      <td>AZ</td>\n",
       "      <td>70</td>\n",
       "      <td>75</td>\n",
       "      <td>65</td>\n",
       "      <td>6</td>\n",
       "      <td>0.20</td>\n",
       "    </tr>\n",
       "  </tbody>\n",
       "</table>\n",
       "</div>"
      ],
      "text/plain": [
       "        Date         City State  Temperature  Max_Temp  Min_Temp  WindSpeed  \\\n",
       "0 2024-01-01     New York    NY           30        35        25         10   \n",
       "1 2024-01-02  Los Angeles    CA           65        70        60          5   \n",
       "2 2024-01-03      Chicago    IL           25        30        20         12   \n",
       "3 2024-01-04      Houston    TX           55        60        50          8   \n",
       "4 2024-01-05      Phoenix    AZ           70        75        65          6   \n",
       "\n",
       "   Precipitation  \n",
       "0           0.00  \n",
       "1           0.10  \n",
       "2           0.00  \n",
       "3           0.05  \n",
       "4           0.20  "
      ]
     },
     "execution_count": 7,
     "metadata": {},
     "output_type": "execute_result"
    }
   ],
   "source": [
    "import pandas as pd \n",
    "\n",
    "df = pd.read_excel(\"sample_weather_data.xlsx\")\n",
    "df.head()"
   ]
  },
  {
   "cell_type": "markdown",
   "id": "c32fc77f-8bf6-4ac1-ace5-68590d9831a4",
   "metadata": {},
   "source": [
    "\n",
    "📊  Basic Data Exploration\n",
    "Check structure and missing values:\n",
    "\n",
    "\n"
   ]
  },
  {
   "cell_type": "code",
   "execution_count": 62,
   "id": "27f07e2f-75e4-4e51-a29d-618980516bba",
   "metadata": {},
   "outputs": [
    {
     "data": {
      "text/plain": [
       "Date             0\n",
       "City             0\n",
       "State            0\n",
       "Temperature      0\n",
       "Max_Temp         0\n",
       "Min_Temp         0\n",
       "WindSpeed        0\n",
       "Precipitation    0\n",
       "dtype: int64"
      ]
     },
     "execution_count": 62,
     "metadata": {},
     "output_type": "execute_result"
    }
   ],
   "source": [
    "df.isnull().sum()"
   ]
  },
  {
   "cell_type": "code",
   "execution_count": 63,
   "id": "66982690-e23c-4380-bae9-778fc0357584",
   "metadata": {},
   "outputs": [
    {
     "name": "stdout",
     "output_type": "stream",
     "text": [
      "<class 'pandas.core.frame.DataFrame'>\n",
      "RangeIndex: 20 entries, 0 to 19\n",
      "Data columns (total 8 columns):\n",
      " #   Column         Non-Null Count  Dtype         \n",
      "---  ------         --------------  -----         \n",
      " 0   Date           20 non-null     datetime64[ns]\n",
      " 1   City           20 non-null     object        \n",
      " 2   State          20 non-null     object        \n",
      " 3   Temperature    20 non-null     int64         \n",
      " 4   Max_Temp       20 non-null     int64         \n",
      " 5   Min_Temp       20 non-null     int64         \n",
      " 6   WindSpeed      20 non-null     int64         \n",
      " 7   Precipitation  20 non-null     float64       \n",
      "dtypes: datetime64[ns](1), float64(1), int64(4), object(2)\n",
      "memory usage: 1.4+ KB\n"
     ]
    }
   ],
   "source": [
    "df.info() # Data types and non-null counts"
   ]
  },
  {
   "cell_type": "code",
   "execution_count": 64,
   "id": "e817031e-8466-4346-a937-4333b6c5d123",
   "metadata": {},
   "outputs": [
    {
     "data": {
      "text/html": [
       "<div>\n",
       "<style scoped>\n",
       "    .dataframe tbody tr th:only-of-type {\n",
       "        vertical-align: middle;\n",
       "    }\n",
       "\n",
       "    .dataframe tbody tr th {\n",
       "        vertical-align: top;\n",
       "    }\n",
       "\n",
       "    .dataframe thead th {\n",
       "        text-align: right;\n",
       "    }\n",
       "</style>\n",
       "<table border=\"1\" class=\"dataframe\">\n",
       "  <thead>\n",
       "    <tr style=\"text-align: right;\">\n",
       "      <th></th>\n",
       "      <th>Date</th>\n",
       "      <th>Temperature</th>\n",
       "      <th>Max_Temp</th>\n",
       "      <th>Min_Temp</th>\n",
       "      <th>WindSpeed</th>\n",
       "      <th>Precipitation</th>\n",
       "    </tr>\n",
       "  </thead>\n",
       "  <tbody>\n",
       "    <tr>\n",
       "      <th>count</th>\n",
       "      <td>20</td>\n",
       "      <td>20.000000</td>\n",
       "      <td>20.000000</td>\n",
       "      <td>20.000000</td>\n",
       "      <td>20.000000</td>\n",
       "      <td>20.000000</td>\n",
       "    </tr>\n",
       "    <tr>\n",
       "      <th>mean</th>\n",
       "      <td>2024-01-10 12:00:00</td>\n",
       "      <td>51.450000</td>\n",
       "      <td>56.100000</td>\n",
       "      <td>46.800000</td>\n",
       "      <td>8.300000</td>\n",
       "      <td>0.092500</td>\n",
       "    </tr>\n",
       "    <tr>\n",
       "      <th>min</th>\n",
       "      <td>2024-01-01 00:00:00</td>\n",
       "      <td>25.000000</td>\n",
       "      <td>30.000000</td>\n",
       "      <td>20.000000</td>\n",
       "      <td>4.000000</td>\n",
       "      <td>0.000000</td>\n",
       "    </tr>\n",
       "    <tr>\n",
       "      <th>25%</th>\n",
       "      <td>2024-01-05 18:00:00</td>\n",
       "      <td>30.750000</td>\n",
       "      <td>35.750000</td>\n",
       "      <td>26.750000</td>\n",
       "      <td>6.000000</td>\n",
       "      <td>0.000000</td>\n",
       "    </tr>\n",
       "    <tr>\n",
       "      <th>50%</th>\n",
       "      <td>2024-01-10 12:00:00</td>\n",
       "      <td>57.500000</td>\n",
       "      <td>62.500000</td>\n",
       "      <td>52.500000</td>\n",
       "      <td>8.000000</td>\n",
       "      <td>0.075000</td>\n",
       "    </tr>\n",
       "    <tr>\n",
       "      <th>75%</th>\n",
       "      <td>2024-01-15 06:00:00</td>\n",
       "      <td>68.500000</td>\n",
       "      <td>72.750000</td>\n",
       "      <td>64.250000</td>\n",
       "      <td>10.250000</td>\n",
       "      <td>0.162500</td>\n",
       "    </tr>\n",
       "    <tr>\n",
       "      <th>max</th>\n",
       "      <td>2024-01-20 00:00:00</td>\n",
       "      <td>75.000000</td>\n",
       "      <td>80.000000</td>\n",
       "      <td>70.000000</td>\n",
       "      <td>13.000000</td>\n",
       "      <td>0.300000</td>\n",
       "    </tr>\n",
       "    <tr>\n",
       "      <th>std</th>\n",
       "      <td>NaN</td>\n",
       "      <td>18.777016</td>\n",
       "      <td>18.978936</td>\n",
       "      <td>18.695904</td>\n",
       "      <td>2.637782</td>\n",
       "      <td>0.097704</td>\n",
       "    </tr>\n",
       "  </tbody>\n",
       "</table>\n",
       "</div>"
      ],
      "text/plain": [
       "                      Date  Temperature   Max_Temp   Min_Temp  WindSpeed  \\\n",
       "count                   20    20.000000  20.000000  20.000000  20.000000   \n",
       "mean   2024-01-10 12:00:00    51.450000  56.100000  46.800000   8.300000   \n",
       "min    2024-01-01 00:00:00    25.000000  30.000000  20.000000   4.000000   \n",
       "25%    2024-01-05 18:00:00    30.750000  35.750000  26.750000   6.000000   \n",
       "50%    2024-01-10 12:00:00    57.500000  62.500000  52.500000   8.000000   \n",
       "75%    2024-01-15 06:00:00    68.500000  72.750000  64.250000  10.250000   \n",
       "max    2024-01-20 00:00:00    75.000000  80.000000  70.000000  13.000000   \n",
       "std                    NaN    18.777016  18.978936  18.695904   2.637782   \n",
       "\n",
       "       Precipitation  \n",
       "count      20.000000  \n",
       "mean        0.092500  \n",
       "min         0.000000  \n",
       "25%         0.000000  \n",
       "50%         0.075000  \n",
       "75%         0.162500  \n",
       "max         0.300000  \n",
       "std         0.097704  "
      ]
     },
     "execution_count": 64,
     "metadata": {},
     "output_type": "execute_result"
    }
   ],
   "source": [
    "df.describe()\n",
    "# Summary statistics"
   ]
  },
  {
   "cell_type": "markdown",
   "id": "27990314-648f-49cd-b045-ea2a13db7e9b",
   "metadata": {},
   "source": [
    "🔍 Step 3: Temperature Trends\n",
    "A. Average Temperature by City"
   ]
  },
  {
   "cell_type": "code",
   "execution_count": 65,
   "id": "b1f0dd52-4b7c-4344-9704-a23ad382d7c1",
   "metadata": {},
   "outputs": [
    {
     "data": {
      "text/plain": [
       "City\n",
       "Chicago        28.00\n",
       "Houston        57.50\n",
       "Los Angeles    67.25\n",
       "New York       32.00\n",
       "Phoenix        72.50\n",
       "Name: Temperature, dtype: float64"
      ]
     },
     "execution_count": 65,
     "metadata": {},
     "output_type": "execute_result"
    }
   ],
   "source": [
    "avg_temp_by_city = df.groupby('City')['Temperature'].mean() \n",
    "avg_temp_by_city"
   ]
  },
  {
   "cell_type": "markdown",
   "id": "d37d5566-808b-4392-b168-0e991c22d261",
   "metadata": {},
   "source": [
    " Plotting (Optional, if using Jupyter)\n"
   ]
  },
  {
   "cell_type": "code",
   "execution_count": 76,
   "id": "9e759c3c-cdbc-4bb2-9b20-ac554ff04f12",
   "metadata": {},
   "outputs": [
    {
     "data": {
      "image/png": "[encoded data removed]",
      "text/plain": [
       "<Figure size 800x400 with 1 Axes>"
      ]
     },
     "metadata": {},
     "output_type": "display_data"
    }
   ],
   "source": [
    "import matplotlib.pyplot as plt\n",
    "\n",
    "avg_temp_by_city.plot(kind='bar', title=\"Average Temperature by City\", ylabel=\"Temperature (°F)\", xlabel=\"City\", figsize=(8,4))\n",
    "plt.tight_layout()\n",
    "plt.show()\n"
   ]
  },
  {
   "cell_type": "markdown",
   "id": "8101ea53-8ad1-4415-ae0e-29a102dd9db3",
   "metadata": {},
   "source": [
    "A. Check for temperature outliers (e.g., values above 100°F) "
   ]
  },
  {
   "cell_type": "code",
   "execution_count": 77,
   "id": "c6f0fd69-97f9-431e-8b6a-ff9d2c84fadb",
   "metadata": {},
   "outputs": [
    {
     "data": {
      "text/html": [
       "<div>\n",
       "<style scoped>\n",
       "    .dataframe tbody tr th:only-of-type {\n",
       "        vertical-align: middle;\n",
       "    }\n",
       "\n",
       "    .dataframe tbody tr th {\n",
       "        vertical-align: top;\n",
       "    }\n",
       "\n",
       "    .dataframe thead th {\n",
       "        text-align: right;\n",
       "    }\n",
       "</style>\n",
       "<table border=\"1\" class=\"dataframe\">\n",
       "  <thead>\n",
       "    <tr style=\"text-align: right;\">\n",
       "      <th></th>\n",
       "      <th>Date</th>\n",
       "      <th>City</th>\n",
       "      <th>State</th>\n",
       "      <th>Temperature</th>\n",
       "      <th>Max_Temp</th>\n",
       "      <th>Min_Temp</th>\n",
       "      <th>WindSpeed</th>\n",
       "      <th>Precipitation</th>\n",
       "    </tr>\n",
       "  </thead>\n",
       "  <tbody>\n",
       "    <tr>\n",
       "      <th>9</th>\n",
       "      <td>2024-01-10</td>\n",
       "      <td>Phoenix</td>\n",
       "      <td>AZ</td>\n",
       "      <td>72</td>\n",
       "      <td>78</td>\n",
       "      <td>67</td>\n",
       "      <td>7</td>\n",
       "      <td>0.30</td>\n",
       "    </tr>\n",
       "    <tr>\n",
       "      <th>14</th>\n",
       "      <td>2024-01-15</td>\n",
       "      <td>Phoenix</td>\n",
       "      <td>AZ</td>\n",
       "      <td>75</td>\n",
       "      <td>80</td>\n",
       "      <td>70</td>\n",
       "      <td>7</td>\n",
       "      <td>0.25</td>\n",
       "    </tr>\n",
       "    <tr>\n",
       "      <th>19</th>\n",
       "      <td>2024-01-20</td>\n",
       "      <td>Phoenix</td>\n",
       "      <td>AZ</td>\n",
       "      <td>73</td>\n",
       "      <td>77</td>\n",
       "      <td>69</td>\n",
       "      <td>6</td>\n",
       "      <td>0.15</td>\n",
       "    </tr>\n",
       "  </tbody>\n",
       "</table>\n",
       "</div>"
      ],
      "text/plain": [
       "         Date     City State  Temperature  Max_Temp  Min_Temp  WindSpeed  \\\n",
       "9  2024-01-10  Phoenix    AZ           72        78        67          7   \n",
       "14 2024-01-15  Phoenix    AZ           75        80        70          7   \n",
       "19 2024-01-20  Phoenix    AZ           73        77        69          6   \n",
       "\n",
       "    Precipitation  \n",
       "9            0.30  \n",
       "14           0.25  \n",
       "19           0.15  "
      ]
     },
     "execution_count": 77,
     "metadata": {},
     "output_type": "execute_result"
    }
   ],
   "source": [
    "outliers = df[df['Temperature'] > 70]\n",
    "outliers"
   ]
  },
  {
   "cell_type": "markdown",
   "id": "8fe0bed9-0224-42d7-ac74-e1deb9c314e6",
   "metadata": {},
   "source": [
    "B. Replace or cap values (clip at 95th percentile)"
   ]
  },
  {
   "cell_type": "code",
   "execution_count": 80,
   "id": "ec242e31-79fa-4bdc-9d16-0bd953e1e121",
   "metadata": {},
   "outputs": [
    {
     "data": {
      "text/html": [
       "<div>\n",
       "<style scoped>\n",
       "    .dataframe tbody tr th:only-of-type {\n",
       "        vertical-align: middle;\n",
       "    }\n",
       "\n",
       "    .dataframe tbody tr th {\n",
       "        vertical-align: top;\n",
       "    }\n",
       "\n",
       "    .dataframe thead th {\n",
       "        text-align: right;\n",
       "    }\n",
       "</style>\n",
       "<table border=\"1\" class=\"dataframe\">\n",
       "  <thead>\n",
       "    <tr style=\"text-align: right;\">\n",
       "      <th></th>\n",
       "      <th>Date</th>\n",
       "      <th>City</th>\n",
       "      <th>State</th>\n",
       "      <th>Temperature</th>\n",
       "      <th>Max_Temp</th>\n",
       "      <th>Min_Temp</th>\n",
       "      <th>WindSpeed</th>\n",
       "      <th>Precipitation</th>\n",
       "    </tr>\n",
       "  </thead>\n",
       "  <tbody>\n",
       "    <tr>\n",
       "      <th>0</th>\n",
       "      <td>2024-01-01</td>\n",
       "      <td>New York</td>\n",
       "      <td>NY</td>\n",
       "      <td>30.0</td>\n",
       "      <td>35</td>\n",
       "      <td>25</td>\n",
       "      <td>10</td>\n",
       "      <td>0.00</td>\n",
       "    </tr>\n",
       "    <tr>\n",
       "      <th>1</th>\n",
       "      <td>2024-01-02</td>\n",
       "      <td>Los Angeles</td>\n",
       "      <td>CA</td>\n",
       "      <td>65.0</td>\n",
       "      <td>70</td>\n",
       "      <td>60</td>\n",
       "      <td>5</td>\n",
       "      <td>0.10</td>\n",
       "    </tr>\n",
       "    <tr>\n",
       "      <th>2</th>\n",
       "      <td>2024-01-03</td>\n",
       "      <td>Chicago</td>\n",
       "      <td>IL</td>\n",
       "      <td>25.0</td>\n",
       "      <td>30</td>\n",
       "      <td>20</td>\n",
       "      <td>12</td>\n",
       "      <td>0.00</td>\n",
       "    </tr>\n",
       "    <tr>\n",
       "      <th>3</th>\n",
       "      <td>2024-01-04</td>\n",
       "      <td>Houston</td>\n",
       "      <td>TX</td>\n",
       "      <td>55.0</td>\n",
       "      <td>60</td>\n",
       "      <td>50</td>\n",
       "      <td>8</td>\n",
       "      <td>0.05</td>\n",
       "    </tr>\n",
       "    <tr>\n",
       "      <th>4</th>\n",
       "      <td>2024-01-05</td>\n",
       "      <td>Phoenix</td>\n",
       "      <td>AZ</td>\n",
       "      <td>70.0</td>\n",
       "      <td>75</td>\n",
       "      <td>65</td>\n",
       "      <td>6</td>\n",
       "      <td>0.20</td>\n",
       "    </tr>\n",
       "  </tbody>\n",
       "</table>\n",
       "</div>"
      ],
      "text/plain": [
       "        Date         City State  Temperature  Max_Temp  Min_Temp  WindSpeed  \\\n",
       "0 2024-01-01     New York    NY         30.0        35        25         10   \n",
       "1 2024-01-02  Los Angeles    CA         65.0        70        60          5   \n",
       "2 2024-01-03      Chicago    IL         25.0        30        20         12   \n",
       "3 2024-01-04      Houston    TX         55.0        60        50          8   \n",
       "4 2024-01-05      Phoenix    AZ         70.0        75        65          6   \n",
       "\n",
       "   Precipitation  \n",
       "0           0.00  \n",
       "1           0.10  \n",
       "2           0.00  \n",
       "3           0.05  \n",
       "4           0.20  "
      ]
     },
     "execution_count": 80,
     "metadata": {},
     "output_type": "execute_result"
    }
   ],
   "source": [
    "df['Temperature'] = df['Temperature'].clip(upper=df['Temperature'].quantile(0.95))\n",
    "df.head()"
   ]
  },
  {
   "cell_type": "code",
   "execution_count": 1,
   "id": "8f8d3c06-c222-4f07-ae32-d67b470df863",
   "metadata": {},
   "outputs": [
    {
     "ename": "NameError",
     "evalue": "name 'df' is not defined",
     "output_type": "error",
     "traceback": [
      "\u001b[31m---------------------------------------------------------------------------\u001b[39m",
      "\u001b[31mNameError\u001b[39m                                 Traceback (most recent call last)",
      "\u001b[36mCell\u001b[39m\u001b[36m \u001b[39m\u001b[32mIn[1]\u001b[39m\u001b[32m, line 2\u001b[39m\n\u001b[32m      1\u001b[39m \u001b[38;5;66;03m# Step 1: Calculate the 95th percentile value\u001b[39;00m\n\u001b[32m----> \u001b[39m\u001b[32m2\u001b[39m threshold = \u001b[43mdf\u001b[49m[\u001b[33m'\u001b[39m\u001b[33mSalary\u001b[39m\u001b[33m'\u001b[39m].quantile(\u001b[32m0.95\u001b[39m)\n\u001b[32m      5\u001b[39m \u001b[38;5;66;03m# Step 2: Filter rows where Salary is greater than this threshold (i.e., outliers)\u001b[39;00m\n\u001b[32m      6\u001b[39m outliers = df[df[\u001b[33m'\u001b[39m\u001b[33mSalary\u001b[39m\u001b[33m'\u001b[39m] > threshold]\n",
      "\u001b[31mNameError\u001b[39m: name 'df' is not defined"
     ]
    }
   ],
   "source": [
    "# Step 1: Calculate the 95th percentile value\n",
    "threshold = df['Salary'].quantile(0.95)\n",
    "\n",
    "\n",
    "# Step 2: Filter rows where Salary is greater than this threshold (i.e., outliers)\n",
    "outliers = df[df['Salary'] > threshold]\n",
    "\n",
    "# Step 3: See the top few outliers\n",
    "outliers.head()"
   ]
  },
  {
   "cell_type": "code",
   "execution_count": null,
   "id": "c938e255",
   "metadata": {},
   "outputs": [],
   "source": []
  }
 ],
 "metadata": {
  "kernelspec": {
   "display_name": "Python 3.11.4",
   "language": "python",
   "name": "py311"
  },
  "language_info": {
   "codemirror_mode": {
    "name": "ipython",
    "version": 3
   },
   "file_extension": ".py",
   "mimetype": "text/x-python",
   "name": "python",
   "nbconvert_exporter": "python",
   "pygments_lexer": "ipython3",
   "version": "3.11.4"
  }
 },
 "nbformat": 4,
 "nbformat_minor": 5
}
