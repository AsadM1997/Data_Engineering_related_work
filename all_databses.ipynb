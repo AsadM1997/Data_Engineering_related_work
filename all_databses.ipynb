{
 "cells": [
  {
   "cell_type": "markdown",
   "id": "59dd4abb",
   "metadata": {},
   "source": [
    "Step 1: Import sqlite3 and Create a Database"
   ]
  },
  {
   "cell_type": "code",
   "execution_count": 2,
   "id": "ffc76107",
   "metadata": {},
   "outputs": [
    {
     "name": "stdout",
     "output_type": "stream",
     "text": [
      "Connected to: [(0, 'main', 'J:\\\\Asad-Learning\\\\Python-Learning\\\\weather_data.db')]\n"
     ]
    }
   ],
   "source": [
    "import sqlite3 \n",
    "\n",
    "# Create a connection to a database file (or use ':memory:' for temporary DB)\n",
    "\n",
    "conn = sqlite3.connect('weather_data.db') # This creates weather_data.db in your folder\n",
    "\n",
    "cursor = conn.cursor()\n",
    "print(\"Connected to:\", conn.execute(\"PRAGMA database_list\").fetchall())"
   ]
  },
  {
   "cell_type": "code",
   "execution_count": 3,
   "id": "b8937a5f-5771-41f0-895c-f88a060bd219",
   "metadata": {},
   "outputs": [
    {
     "name": "stdout",
     "output_type": "stream",
     "text": [
      "[('sqlite_sequence',), ('employee',), ('weather',)]\n"
     ]
    }
   ],
   "source": [
    "cursor.execute(\"SELECT name FROM sqlite_master WHERE type='table'\")\n",
    "print(cursor.fetchall())\n"
   ]
  },
  {
   "cell_type": "markdown",
   "id": "2ccea91d",
   "metadata": {},
   "source": [
    ".\n",
    "\n",
    "🪜 Step 2: Create a Table\n",
    "Let’s create a simple table for weather data:\n",
    "\n"
   ]
  },
  {
   "cell_type": "code",
   "execution_count": 72,
   "id": "4c97f921",
   "metadata": {},
   "outputs": [],
   "source": [
    "create_table_query = '''\n",
    "        CREATE TABLE IF NOT EXISTS weather(\n",
    "            id INTEGER PRIMARY KEY AUTOINCREMENT,\n",
    "            date TEXT,\n",
    "            city TEXT,\n",
    "            state TEXT,\n",
    "            tempereture REAL,\n",
    "            max_temp REAL,\n",
    "            min_temp REAL,\n",
    "            wind_speed REAL,\n",
    "            precipitation REAL\n",
    "            );\n",
    "'''\n",
    "cursor.execute(create_table_query)\n",
    "conn.commit()"
   ]
  },
  {
   "cell_type": "code",
   "execution_count": 73,
   "id": "650fac90",
   "metadata": {},
   "outputs": [
    {
     "name": "stdout",
     "output_type": "stream",
     "text": [
      "(0, 'id', 'INTEGER', 0, None, 1)\n",
      "(1, 'date', 'TEXT', 0, None, 0)\n",
      "(2, 'city', 'TEXT', 0, None, 0)\n",
      "(3, 'state', 'TEXT', 0, None, 0)\n",
      "(4, 'tempereture', 'REAL', 0, None, 0)\n",
      "(5, 'max_temp', 'REAL', 0, None, 0)\n",
      "(6, 'min_temp', 'REAL', 0, None, 0)\n",
      "(7, 'wind_speed', 'REAL', 0, None, 0)\n",
      "(8, 'precipitation', 'REAL', 0, None, 0)\n"
     ]
    }
   ],
   "source": [
    "cursor.execute('PRAGMA table_info(weather)')\n",
    "for col in cursor.fetchall():\n",
    "    print(col)"
   ]
  },
  {
   "cell_type": "code",
   "execution_count": 21,
   "id": "7a673acf",
   "metadata": {},
   "outputs": [],
   "source": [
    "# cursor.execute(\"ALTER TABLE weather RENAME COLUMN tempreture TO temperature\")\n",
    "# conn.commit()\n"
   ]
  },
  {
   "cell_type": "markdown",
   "id": "259f48f8",
   "metadata": {},
   "source": [
    "🪜 Step 3: Insert Sample Data\n",
    "Here’s how you insert one row manually:"
   ]
  },
  {
   "cell_type": "code",
   "execution_count": 74,
   "id": "fd01f259",
   "metadata": {},
   "outputs": [],
   "source": [
    "create_data_query = '''\n",
    "    INSERT INTO weather(date, city, state, tempereture, max_temp, min_temp, wind_speed, precipitation)\n",
    "    VALUES (?, ?, ?, ?, ?, ?, ?, ?)\n",
    "'''\n",
    "\n",
    "values = ('2025-07-29', 'New York', 'NY', 29.5, 32.0, 27.0, 12.5, 0.0)\n",
    "\n",
    "cursor.execute(create_data_query, values)\n",
    "conn.commit()\n"
   ]
  },
  {
   "cell_type": "markdown",
   "id": "f8773f30",
   "metadata": {},
   "source": [
    "🪜 Step 4: Read Data from the Table"
   ]
  },
  {
   "cell_type": "code",
   "execution_count": 75,
   "id": "273aff77",
   "metadata": {},
   "outputs": [
    {
     "name": "stdout",
     "output_type": "stream",
     "text": [
      "(1, '2025-07-29', 'New York', 'NY', 29.5, 32.0, 27.0, 12.5, 0.0)\n"
     ]
    }
   ],
   "source": [
    "cursor.execute('SELECT * FROM weather')\n",
    "rows = cursor.fetchall()\n",
    "\n",
    "for row in rows:\n",
    "    print(row)"
   ]
  },
  {
   "cell_type": "markdown",
   "id": "559862df",
   "metadata": {},
   "source": [
    "Or better — with Pandas:"
   ]
  },
  {
   "cell_type": "code",
   "execution_count": 76,
   "id": "aea03d74",
   "metadata": {},
   "outputs": [
    {
     "data": {
      "text/html": [
       "<div>\n",
       "<style scoped>\n",
       "    .dataframe tbody tr th:only-of-type {\n",
       "        vertical-align: middle;\n",
       "    }\n",
       "\n",
       "    .dataframe tbody tr th {\n",
       "        vertical-align: top;\n",
       "    }\n",
       "\n",
       "    .dataframe thead th {\n",
       "        text-align: right;\n",
       "    }\n",
       "</style>\n",
       "<table border=\"1\" class=\"dataframe\">\n",
       "  <thead>\n",
       "    <tr style=\"text-align: right;\">\n",
       "      <th></th>\n",
       "      <th>id</th>\n",
       "      <th>date</th>\n",
       "      <th>city</th>\n",
       "      <th>state</th>\n",
       "      <th>tempereture</th>\n",
       "      <th>max_temp</th>\n",
       "      <th>min_temp</th>\n",
       "      <th>wind_speed</th>\n",
       "      <th>precipitation</th>\n",
       "    </tr>\n",
       "  </thead>\n",
       "  <tbody>\n",
       "    <tr>\n",
       "      <th>0</th>\n",
       "      <td>1</td>\n",
       "      <td>2025-07-29</td>\n",
       "      <td>New York</td>\n",
       "      <td>NY</td>\n",
       "      <td>29.5</td>\n",
       "      <td>32.0</td>\n",
       "      <td>27.0</td>\n",
       "      <td>12.5</td>\n",
       "      <td>0.0</td>\n",
       "    </tr>\n",
       "  </tbody>\n",
       "</table>\n",
       "</div>"
      ],
      "text/plain": [
       "   id        date      city state  tempereture  max_temp  min_temp  \\\n",
       "0   1  2025-07-29  New York    NY         29.5      32.0      27.0   \n",
       "\n",
       "   wind_speed  precipitation  \n",
       "0        12.5            0.0  "
      ]
     },
     "execution_count": 76,
     "metadata": {},
     "output_type": "execute_result"
    }
   ],
   "source": [
    "import pandas as pd \n",
    "\n",
    "df = pd.read_sql_query('SELECT * FROM weather', conn)\n",
    "df"
   ]
  },
  {
   "cell_type": "markdown",
   "id": "b947b3c1",
   "metadata": {},
   "source": [
    "🪜 Step 5: Close the Connection"
   ]
  },
  {
   "cell_type": "code",
   "execution_count": 77,
   "id": "f224aac7",
   "metadata": {},
   "outputs": [],
   "source": [
    "conn.close()"
   ]
  },
  {
   "cell_type": "markdown",
   "id": "cbe66ecd",
   "metadata": {},
   "source": [
    "✅ Project: Import CSV into SQLite & Query It\n",
    "     Step 1: Load CSV with Pandas"
   ]
  },
  {
   "cell_type": "code",
   "execution_count": 45,
   "id": "5d903b3f",
   "metadata": {},
   "outputs": [
    {
     "data": {
      "text/html": [
       "<div>\n",
       "<style scoped>\n",
       "    .dataframe tbody tr th:only-of-type {\n",
       "        vertical-align: middle;\n",
       "    }\n",
       "\n",
       "    .dataframe tbody tr th {\n",
       "        vertical-align: top;\n",
       "    }\n",
       "\n",
       "    .dataframe thead th {\n",
       "        text-align: right;\n",
       "    }\n",
       "</style>\n",
       "<table border=\"1\" class=\"dataframe\">\n",
       "  <thead>\n",
       "    <tr style=\"text-align: right;\">\n",
       "      <th></th>\n",
       "      <th>Name</th>\n",
       "      <th>Age</th>\n",
       "      <th>City</th>\n",
       "      <th>Salary</th>\n",
       "    </tr>\n",
       "  </thead>\n",
       "  <tbody>\n",
       "    <tr>\n",
       "      <th>0</th>\n",
       "      <td>David</td>\n",
       "      <td>34</td>\n",
       "      <td>San Diego</td>\n",
       "      <td>79076</td>\n",
       "    </tr>\n",
       "    <tr>\n",
       "      <th>1</th>\n",
       "      <td>Charlie</td>\n",
       "      <td>35</td>\n",
       "      <td>Phoenix</td>\n",
       "      <td>76699</td>\n",
       "    </tr>\n",
       "    <tr>\n",
       "      <th>2</th>\n",
       "      <td>Quinn</td>\n",
       "      <td>38</td>\n",
       "      <td>New York</td>\n",
       "      <td>93478</td>\n",
       "    </tr>\n",
       "    <tr>\n",
       "      <th>3</th>\n",
       "      <td>Eve</td>\n",
       "      <td>32</td>\n",
       "      <td>Phoenix</td>\n",
       "      <td>92233</td>\n",
       "    </tr>\n",
       "    <tr>\n",
       "      <th>4</th>\n",
       "      <td>Paul</td>\n",
       "      <td>27</td>\n",
       "      <td>Houston</td>\n",
       "      <td>96396</td>\n",
       "    </tr>\n",
       "  </tbody>\n",
       "</table>\n",
       "</div>"
      ],
      "text/plain": [
       "      Name  Age       City  Salary\n",
       "0    David   34  San Diego   79076\n",
       "1  Charlie   35    Phoenix   76699\n",
       "2    Quinn   38   New York   93478\n",
       "3      Eve   32    Phoenix   92233\n",
       "4     Paul   27    Houston   96396"
      ]
     },
     "execution_count": 45,
     "metadata": {},
     "output_type": "execute_result"
    }
   ],
   "source": [
    "import pandas as pd \n",
    "\n",
    "df = pd.read_csv('data.csv')\n",
    "df.head()\n",
    "\n"
   ]
  },
  {
   "cell_type": "markdown",
   "id": "d7e8a3d0",
   "metadata": {},
   "source": [
    "Step 2: Create SQLite DB & Table \n",
    "\n",
    "\n",
    "if_exists='replace': recreates the table every time\n",
    "\n",
    "index=False: avoids saving DataFrame index as a DB column"
   ]
  },
  {
   "cell_type": "code",
   "execution_count": null,
   "id": "b4b1202b-c385-44d6-b484-c389540c9ef7",
   "metadata": {},
   "outputs": [],
   "source": [
    "# import sqlite3\n",
    "\n",
    "# with sqlite3.connect('mydb.sqlite') as conn:\n",
    "#     df = pd.read_sql_query(\"SELECT * FROM table_name\", conn)\n",
    "# # Connection is automatically closed here\n"
   ]
  },
  {
   "cell_type": "code",
   "execution_count": 78,
   "id": "9e92d381",
   "metadata": {},
   "outputs": [
    {
     "data": {
      "text/plain": [
       "1"
      ]
     },
     "execution_count": 78,
     "metadata": {},
     "output_type": "execute_result"
    }
   ],
   "source": [
    "import sqlite3 \n",
    "\n",
    "\n",
    "# Connect to a new or existing SQLite database\n",
    "conn = sqlite3.connect('weather_data.db')\n",
    "\n",
    "\n",
    "# Store CSV data into a table named \"weather\"\n",
    "df.to_sql('weather', conn, if_exists='replace', index=False)\n",
    "\n"
   ]
  },
  {
   "cell_type": "markdown",
   "id": "44c28256",
   "metadata": {},
   "source": [
    "🪜 Step 3: Run SQL Queries with Pandas"
   ]
  },
  {
   "cell_type": "code",
   "execution_count": 41,
   "id": "3899de0b",
   "metadata": {},
   "outputs": [
    {
     "data": {
      "text/html": [
       "<div>\n",
       "<style scoped>\n",
       "    .dataframe tbody tr th:only-of-type {\n",
       "        vertical-align: middle;\n",
       "    }\n",
       "\n",
       "    .dataframe tbody tr th {\n",
       "        vertical-align: top;\n",
       "    }\n",
       "\n",
       "    .dataframe thead th {\n",
       "        text-align: right;\n",
       "    }\n",
       "</style>\n",
       "<table border=\"1\" class=\"dataframe\">\n",
       "  <thead>\n",
       "    <tr style=\"text-align: right;\">\n",
       "      <th></th>\n",
       "      <th>City</th>\n",
       "      <th>Age</th>\n",
       "    </tr>\n",
       "  </thead>\n",
       "  <tbody>\n",
       "    <tr>\n",
       "      <th>0</th>\n",
       "      <td>New York</td>\n",
       "      <td>38</td>\n",
       "    </tr>\n",
       "    <tr>\n",
       "      <th>1</th>\n",
       "      <td>Los Angeles</td>\n",
       "      <td>36</td>\n",
       "    </tr>\n",
       "    <tr>\n",
       "      <th>2</th>\n",
       "      <td>Phoenix</td>\n",
       "      <td>35</td>\n",
       "    </tr>\n",
       "    <tr>\n",
       "      <th>3</th>\n",
       "      <td>San Diego</td>\n",
       "      <td>34</td>\n",
       "    </tr>\n",
       "    <tr>\n",
       "      <th>4</th>\n",
       "      <td>Chicago</td>\n",
       "      <td>32</td>\n",
       "    </tr>\n",
       "    <tr>\n",
       "      <th>5</th>\n",
       "      <td>San Antonio</td>\n",
       "      <td>29</td>\n",
       "    </tr>\n",
       "    <tr>\n",
       "      <th>6</th>\n",
       "      <td>Houston</td>\n",
       "      <td>27</td>\n",
       "    </tr>\n",
       "  </tbody>\n",
       "</table>\n",
       "</div>"
      ],
      "text/plain": [
       "          City  Age\n",
       "0     New York   38\n",
       "1  Los Angeles   36\n",
       "2      Phoenix   35\n",
       "3    San Diego   34\n",
       "4      Chicago   32\n",
       "5  San Antonio   29\n",
       "6      Houston   27"
      ]
     },
     "execution_count": 41,
     "metadata": {},
     "output_type": "execute_result"
    }
   ],
   "source": [
    "# Example: Get group of city and age in asc \n",
    "query = '''\n",
    "SELECT city, Age\n",
    "FROM weather\n",
    "GROUP BY city\n",
    "ORDER BY Age DESC\n",
    "'''\n",
    "\n",
    "result_df = pd.read_sql_query(query, conn)\n",
    "result_df\n"
   ]
  },
  {
   "cell_type": "markdown",
   "id": "a2ea9de1",
   "metadata": {},
   "source": [
    "You can also try:"
   ]
  },
  {
   "cell_type": "code",
   "execution_count": 43,
   "id": "59b60fac",
   "metadata": {},
   "outputs": [
    {
     "data": {
      "text/html": [
       "<div>\n",
       "<style scoped>\n",
       "    .dataframe tbody tr th:only-of-type {\n",
       "        vertical-align: middle;\n",
       "    }\n",
       "\n",
       "    .dataframe tbody tr th {\n",
       "        vertical-align: top;\n",
       "    }\n",
       "\n",
       "    .dataframe thead th {\n",
       "        text-align: right;\n",
       "    }\n",
       "</style>\n",
       "<table border=\"1\" class=\"dataframe\">\n",
       "  <thead>\n",
       "    <tr style=\"text-align: right;\">\n",
       "      <th></th>\n",
       "      <th>Name</th>\n",
       "      <th>Age</th>\n",
       "      <th>City</th>\n",
       "      <th>Salary</th>\n",
       "    </tr>\n",
       "  </thead>\n",
       "  <tbody>\n",
       "    <tr>\n",
       "      <th>0</th>\n",
       "      <td>Quinn</td>\n",
       "      <td>38</td>\n",
       "      <td>New York</td>\n",
       "      <td>93478</td>\n",
       "    </tr>\n",
       "    <tr>\n",
       "      <th>1</th>\n",
       "      <td>Hannah</td>\n",
       "      <td>58</td>\n",
       "      <td>New York</td>\n",
       "      <td>59351</td>\n",
       "    </tr>\n",
       "    <tr>\n",
       "      <th>2</th>\n",
       "      <td>Hannah</td>\n",
       "      <td>56</td>\n",
       "      <td>New York</td>\n",
       "      <td>84126</td>\n",
       "    </tr>\n",
       "    <tr>\n",
       "      <th>3</th>\n",
       "      <td>Steve</td>\n",
       "      <td>38</td>\n",
       "      <td>New York</td>\n",
       "      <td>94769</td>\n",
       "    </tr>\n",
       "  </tbody>\n",
       "</table>\n",
       "</div>"
      ],
      "text/plain": [
       "     Name  Age      City  Salary\n",
       "0   Quinn   38  New York   93478\n",
       "1  Hannah   58  New York   59351\n",
       "2  Hannah   56  New York   84126\n",
       "3   Steve   38  New York   94769"
      ]
     },
     "execution_count": 43,
     "metadata": {},
     "output_type": "execute_result"
    }
   ],
   "source": [
    "pd.read_sql_query( \"SELECT * FROM weather WHERE city='New York'\", conn)\n"
   ]
  },
  {
   "cell_type": "markdown",
   "id": "8ddb5167",
   "metadata": {},
   "source": [
    " Step 4: Close the Connection"
   ]
  },
  {
   "cell_type": "code",
   "execution_count": 44,
   "id": "3d5b4b5e",
   "metadata": {},
   "outputs": [],
   "source": [
    "conn.close()"
   ]
  },
  {
   "cell_type": "markdown",
   "id": "3175c391",
   "metadata": {},
   "source": [
    "✅ Step 1: Setup\n",
    "🔧 Install SQLAlchemy"
   ]
  },
  {
   "cell_type": "code",
   "execution_count": null,
   "id": "2fbe219e",
   "metadata": {},
   "outputs": [],
   "source": [
    "pip install SQLAlchemy\n"
   ]
  },
  {
   "cell_type": "code",
   "execution_count": 4,
   "id": "d69b0fa1",
   "metadata": {},
   "outputs": [],
   "source": [
    "from sqlalchemy import create_engine\n",
    "# SQLite connection (file-based)\n",
    "engine = create_engine(\"sqlite:///products.db\")"
   ]
  },
  {
   "cell_type": "markdown",
   "id": "79b3444a",
   "metadata": {},
   "source": [
    "✅ Step 3: Define Tables Using ORM (Product & Sale)"
   ]
  },
  {
   "cell_type": "code",
   "execution_count": 4,
   "id": "97d9811f",
   "metadata": {},
   "outputs": [],
   "source": [
    "from sqlalchemy.orm import declarative_base\n",
    "from sqlalchemy import Column, Integer, String, Float, ForeignKey\n",
    "from sqlalchemy.orm import relationship\n",
    "\n",
    "Base = declarative_base()\n",
    "\n",
    "class Product(Base):\n",
    "    __tablename__ = 'products'\n",
    "    id = Column(Integer, primary_key=True)\n",
    "    name = Column(String)\n",
    "    price = Column(Float)\n",
    "\n",
    "    # ✅ back_populates points to Sale.product\n",
    "    sales = relationship(\"Sale\", back_populates='product')\n",
    "\n",
    "class Sale(Base):\n",
    "    __tablename__ = 'sales'\n",
    "    id = Column(Integer, primary_key=True)\n",
    "    product_id = Column(Integer, ForeignKey('products.id'))\n",
    "    quantity = Column(Integer)\n",
    "\n",
    "    # ✅ Use class name \"Product\", not table name\n",
    "    product = relationship('Product', back_populates=\"sales\")\n"
   ]
  },
  {
   "cell_type": "markdown",
   "id": "10e98006",
   "metadata": {},
   "source": [
    "Create tables in the database:\n",
    "\n"
   ]
  },
  {
   "cell_type": "code",
   "execution_count": 24,
   "id": "76221bce",
   "metadata": {},
   "outputs": [],
   "source": [
    "Base.metadata.create_all(engine)\n"
   ]
  },
  {
   "cell_type": "code",
   "execution_count": 28,
   "id": "49bc5bd6-46b5-41cf-9edc-ef44f1d0050d",
   "metadata": {},
   "outputs": [],
   "source": [
    "from sqlalchemy.orm import Session\n",
    "\n",
    "# Clear existing data (only for testing/demo!)\n",
    "session.query(Sale).delete()\n",
    "session.query(Product).delete()\n",
    "session.commit()"
   ]
  },
  {
   "cell_type": "markdown",
   "id": "0ffbf150",
   "metadata": {},
   "source": [
    "✅ Step 4: Insert Data"
   ]
  },
  {
   "cell_type": "code",
   "execution_count": 25,
   "id": "b20c6e9f",
   "metadata": {},
   "outputs": [],
   "source": [
    "\n",
    "session = Session(bind=engine)\n",
    "\n",
    "# Add products\n",
    "p1 = Product(name=\"Laptop\", price=\"70000\")\n",
    "p2 = Product(name=\"Mobile\", price=\"45000\")\n",
    "\n",
    "session.add_all([p1,p2])\n",
    "session.commit()\n",
    "\n",
    "# Add sales\n",
    "s1 = Sale(product_id=p1.id, quantity=3)\n",
    "s2 = Sale(product_id=p2.id, quantity=5)\n",
    "session.add_all([s1, s2])\n",
    "session.commit()\n",
    "\n"
   ]
  },
  {
   "cell_type": "markdown",
   "id": "e9ccacf9",
   "metadata": {},
   "source": [
    "✅ Step 5: Query Data"
   ]
  },
  {
   "cell_type": "code",
   "execution_count": 27,
   "id": "4199c537",
   "metadata": {},
   "outputs": [],
   "source": [
    "# Query with JOIN\n",
    "results = session.query(Product.name, Sale.quantity).join(Sale).all()\n",
    "# …shows all the Sale records, even from previous runs.\n",
    "for name,qty in results:\n",
    "    print(f\" {name} - {qty} sold\")"
   ]
  },
  {
   "cell_type": "markdown",
   "id": "c9858c7c",
   "metadata": {},
   "source": [
    "✅ Step 6: Integrate with Pandas"
   ]
  },
  {
   "cell_type": "code",
   "execution_count": 19,
   "id": "f20c7327",
   "metadata": {},
   "outputs": [
    {
     "data": {
      "text/html": [
       "<div>\n",
       "<style scoped>\n",
       "    .dataframe tbody tr th:only-of-type {\n",
       "        vertical-align: middle;\n",
       "    }\n",
       "\n",
       "    .dataframe tbody tr th {\n",
       "        vertical-align: top;\n",
       "    }\n",
       "\n",
       "    .dataframe thead th {\n",
       "        text-align: right;\n",
       "    }\n",
       "</style>\n",
       "<table border=\"1\" class=\"dataframe\">\n",
       "  <thead>\n",
       "    <tr style=\"text-align: right;\">\n",
       "      <th></th>\n",
       "      <th>id</th>\n",
       "      <th>product_id</th>\n",
       "      <th>quantity</th>\n",
       "    </tr>\n",
       "  </thead>\n",
       "  <tbody>\n",
       "    <tr>\n",
       "      <th>0</th>\n",
       "      <td>1</td>\n",
       "      <td>3</td>\n",
       "      <td>3</td>\n",
       "    </tr>\n",
       "    <tr>\n",
       "      <th>1</th>\n",
       "      <td>2</td>\n",
       "      <td>4</td>\n",
       "      <td>5</td>\n",
       "    </tr>\n",
       "    <tr>\n",
       "      <th>2</th>\n",
       "      <td>3</td>\n",
       "      <td>5</td>\n",
       "      <td>3</td>\n",
       "    </tr>\n",
       "    <tr>\n",
       "      <th>3</th>\n",
       "      <td>4</td>\n",
       "      <td>6</td>\n",
       "      <td>5</td>\n",
       "    </tr>\n",
       "    <tr>\n",
       "      <th>4</th>\n",
       "      <td>5</td>\n",
       "      <td>5</td>\n",
       "      <td>2</td>\n",
       "    </tr>\n",
       "    <tr>\n",
       "      <th>5</th>\n",
       "      <td>6</td>\n",
       "      <td>6</td>\n",
       "      <td>1</td>\n",
       "    </tr>\n",
       "    <tr>\n",
       "      <th>6</th>\n",
       "      <td>7</td>\n",
       "      <td>7</td>\n",
       "      <td>3</td>\n",
       "    </tr>\n",
       "    <tr>\n",
       "      <th>7</th>\n",
       "      <td>8</td>\n",
       "      <td>8</td>\n",
       "      <td>5</td>\n",
       "    </tr>\n",
       "  </tbody>\n",
       "</table>\n",
       "</div>"
      ],
      "text/plain": [
       "   id  product_id  quantity\n",
       "0   1           3         3\n",
       "1   2           4         5\n",
       "2   3           5         3\n",
       "3   4           6         5\n",
       "4   5           5         2\n",
       "5   6           6         1\n",
       "6   7           7         3\n",
       "7   8           8         5"
      ]
     },
     "execution_count": 19,
     "metadata": {},
     "output_type": "execute_result"
    }
   ],
   "source": [
    "import pandas as pd \n",
    "\n",
    "df = pd.read_sql(\"SELECT * FROM sales\", engine)\n",
    "df"
   ]
  },
  {
   "cell_type": "code",
   "execution_count": 21,
   "id": "78d17a6c",
   "metadata": {},
   "outputs": [
    {
     "data": {
      "text/plain": [
       "2"
      ]
     },
     "execution_count": 21,
     "metadata": {},
     "output_type": "execute_result"
    }
   ],
   "source": [
    "\n",
    "\n",
    "# Or insert DataFrame into DB\n",
    "df_new = pd.DataFrame({\n",
    "    \"product_id\": [p1.id, p2.id],\n",
    "    \"quantity\": [2, 1]\n",
    "})\n",
    "df_new.to_sql(\"sales\", con=engine, if_exists=\"append\", index=False)\n"
   ]
  },
  {
   "cell_type": "markdown",
   "id": "b81fac54",
   "metadata": {},
   "source": [
    "✅ 2. Install Required Python Packages\n",
    "Run in your terminal or Jupyter Notebook:"
   ]
  },
  {
   "cell_type": "code",
   "execution_count": null,
   "id": "c92da2e6",
   "metadata": {},
   "outputs": [],
   "source": [
    "pip install mysql-connector-python sqlalchemy pandas\n"
   ]
  },
  {
   "cell_type": "markdown",
   "id": "8bde70b9",
   "metadata": {},
   "source": [
    "✅ 3. Connect Python to MySQL\n",
    "🔹 Using mysql-connector:"
   ]
  },
  {
   "cell_type": "code",
   "execution_count": 6,
   "id": "aab27418",
   "metadata": {},
   "outputs": [
    {
     "name": "stdout",
     "output_type": "stream",
     "text": [
      "🚀 Starting MySQL connection test...\n",
      "⏳ Trying to connect...\n",
      "🛠 Attempting to connect with parameters...\n",
      "✅ Connected successfully\n"
     ]
    }
   ],
   "source": [
    "import mysql.connector\n",
    "\n",
    "print(\"🚀 Starting MySQL connection test...\")\n",
    "print(\"⏳ Trying to connect...\")\n",
    "\n",
    "try:\n",
    "    print(\"🛠 Attempting to connect with parameters...\")\n",
    "    conn = mysql.connector.connect(\n",
    "        host='127.0.0.1',\n",
    "        port=3306,\n",
    "        user='root',\n",
    "        password='*Notebook@2025',\n",
    "        database='30day_sql_query',\n",
    "        connection_timeout=5\n",
    "    )\n",
    "    print(\"✅ Connected successfully\")\n",
    "    conn.close()\n",
    "except mysql.connector.Error as err:\n",
    "    print(\"❌ Connection failed:\")\n",
    "    print(err)\n"
   ]
  },
  {
   "cell_type": "code",
   "execution_count": 28,
   "id": "db115747-a4bb-4793-b393-eb9a259fa555",
   "metadata": {},
   "outputs": [],
   "source": [
    "import mysql.connector\n",
    "\n",
    "conn = mysql.connector.connect(\n",
    "    host='127.0.0.1',\n",
    "    port=3306,\n",
    "    user='root',\n",
    "    password='*Notebook@2025',\n",
    "    database='30day_sql_query',\n",
    "    connection_timeout=5\n",
    ")\n",
    "\n",
    "cursor = conn.cursor()\n"
   ]
  },
  {
   "cell_type": "code",
   "execution_count": 29,
   "id": "3b418c48",
   "metadata": {},
   "outputs": [
    {
     "name": "stdout",
     "output_type": "stream",
     "text": [
      "('brands',)\n",
      "('day_indicator',)\n",
      "('deduction',)\n",
      "('emp_transaction',)\n",
      "('employee',)\n",
      "('footer',)\n",
      "('income',)\n",
      "('mountain_huts',)\n",
      "('products',)\n",
      "('q4_data',)\n",
      "('salary',)\n",
      "('student_tests',)\n",
      "('trails',)\n"
     ]
    }
   ],
   "source": [
    "cursor = conn.cursor()\n",
    "\n",
    "cursor.execute(\"SHOW TABLES\")\n",
    "for table in cursor:\n",
    "    print(table)\n"
   ]
  },
  {
   "cell_type": "markdown",
   "id": "52ce8cca-dce4-4724-8233-598de0f90d9a",
   "metadata": {},
   "source": [
    "# This way is good "
   ]
  },
  {
   "cell_type": "code",
   "execution_count": 4,
   "id": "a2d01f41",
   "metadata": {},
   "outputs": [],
   "source": [
    "import pandas as pd\n",
    "import mysql.connector\n",
    "\n",
    "df = pd.read_csv(\"output.csv\")\n",
    "\n",
    "# Step 2: Connect to MySQL\n",
    "conn = mysql.connector.connect(\n",
    "    host='localhost',\n",
    "    user='root',\n",
    "    password='*Notebook@2025',\n",
    "    database='30day_sql_query'\n",
    ")\n",
    "cursor = conn.cursor()\n",
    "\n"
   ]
  },
  {
   "cell_type": "code",
   "execution_count": 2,
   "id": "a69daf85",
   "metadata": {},
   "outputs": [
    {
     "name": "stdout",
     "output_type": "stream",
     "text": [
      "('brands',)\n",
      "('day_indicator',)\n",
      "('deduction',)\n",
      "('emp_transaction',)\n",
      "('employee',)\n",
      "('footer',)\n",
      "('income',)\n",
      "('mountain_huts',)\n",
      "('products',)\n",
      "('q4_data',)\n",
      "('salary',)\n",
      "('student_tests',)\n",
      "('trails',)\n"
     ]
    }
   ],
   "source": [
    "query = \"SHOW TABLES\"\n",
    "cursor.execute(query)\n",
    "tables = cursor.fetchall()\n",
    "for table in tables:\n",
    "    print(table)"
   ]
  },
  {
   "cell_type": "code",
   "execution_count": 3,
   "id": "2b5f9964-9134-45cf-8fd6-e16d019f5371",
   "metadata": {},
   "outputs": [],
   "source": [
    "cursor = conn.cursor()\n",
    "\n",
    "cursor.execute(\"DROP TABLE IF EXISTS employee\")"
   ]
  },
  {
   "cell_type": "code",
   "execution_count": 39,
   "id": "64f59d51-6eb0-47b5-9529-29d4ede44726",
   "metadata": {},
   "outputs": [
    {
     "name": "stdout",
     "output_type": "stream",
     "text": [
      "('brands',)\n",
      "('day_indicator',)\n",
      "('deduction',)\n",
      "('emp_transaction',)\n",
      "('footer',)\n",
      "('income',)\n",
      "('mountain_huts',)\n",
      "('products',)\n",
      "('q4_data',)\n",
      "('salary',)\n",
      "('student_tests',)\n",
      "('trails',)\n"
     ]
    }
   ],
   "source": [
    "cursor = conn.cursor()\n",
    "cursor.execute(\"SHOW TABLES\")\n",
    "for table in cursor.fetchall():\n",
    "    print(table)"
   ]
  },
  {
   "cell_type": "code",
   "execution_count": 40,
   "id": "8eed4550-06ea-48f2-8319-a3738415e369",
   "metadata": {},
   "outputs": [],
   "source": [
    "# Step 3: Create the table if not exists\n",
    "cursor = conn.cursor()\n",
    "\n",
    "create_table_query = ''' \n",
    "    CREATE TABLE IF NOT EXISTS employee(\n",
    "        Name VARCHAR(100),\n",
    "        Age INT,\n",
    "        City VARCHAR(100),\n",
    "        Salary DECIMAL(10,2))\n",
    "'''\n",
    "cursor.execute(create_table_query)"
   ]
  },
  {
   "cell_type": "code",
   "execution_count": 5,
   "id": "06d12feb-500e-4983-8baf-bfeba35380f4",
   "metadata": {},
   "outputs": [
    {
     "ename": "ProgrammingError",
     "evalue": "1146 (42S02): Table '30day_sql_query.employee' doesn't exist",
     "output_type": "error",
     "traceback": [
      "\u001b[31m---------------------------------------------------------------------------\u001b[39m",
      "\u001b[31mMySQLInterfaceError\u001b[39m                       Traceback (most recent call last)",
      "\u001b[36mFile \u001b[39m\u001b[32mJ:\\Asad-Learning\\Python-Learning\\.venv\\Lib\\site-packages\\mysql\\connector\\connection_cext.py:611\u001b[39m, in \u001b[36mCMySQLConnection.cmd_query\u001b[39m\u001b[34m(self, query, raw, buffered, raw_as_string)\u001b[39m\n\u001b[32m    610\u001b[39m         query = query.encode(\u001b[33m\"\u001b[39m\u001b[33mutf-8\u001b[39m\u001b[33m\"\u001b[39m)\n\u001b[32m--> \u001b[39m\u001b[32m611\u001b[39m     \u001b[38;5;28;43mself\u001b[39;49m\u001b[43m.\u001b[49m\u001b[43m_cmysql\u001b[49m\u001b[43m.\u001b[49m\u001b[43mquery\u001b[49m\u001b[43m(\u001b[49m\n\u001b[32m    612\u001b[39m \u001b[43m        \u001b[49m\u001b[43mquery\u001b[49m\u001b[43m,\u001b[49m\n\u001b[32m    613\u001b[39m \u001b[43m        \u001b[49m\u001b[43mraw\u001b[49m\u001b[43m=\u001b[49m\u001b[43mraw\u001b[49m\u001b[43m,\u001b[49m\n\u001b[32m    614\u001b[39m \u001b[43m        \u001b[49m\u001b[43mbuffered\u001b[49m\u001b[43m=\u001b[49m\u001b[43mbuffered\u001b[49m\u001b[43m,\u001b[49m\n\u001b[32m    615\u001b[39m \u001b[43m        \u001b[49m\u001b[43mraw_as_string\u001b[49m\u001b[43m=\u001b[49m\u001b[43mraw_as_string\u001b[49m\u001b[43m,\u001b[49m\n\u001b[32m    616\u001b[39m \u001b[43m        \u001b[49m\u001b[43mquery_attrs\u001b[49m\u001b[43m=\u001b[49m\u001b[38;5;28;43mself\u001b[39;49m\u001b[43m.\u001b[49m\u001b[43m_query_attrs\u001b[49m\u001b[43m,\u001b[49m\n\u001b[32m    617\u001b[39m \u001b[43m    \u001b[49m\u001b[43m)\u001b[49m\n\u001b[32m    618\u001b[39m \u001b[38;5;28;01mexcept\u001b[39;00m MySQLInterfaceError \u001b[38;5;28;01mas\u001b[39;00m err:\n",
      "\u001b[31mMySQLInterfaceError\u001b[39m: Table '30day_sql_query.employee' doesn't exist",
      "\nThe above exception was the direct cause of the following exception:\n",
      "\u001b[31mProgrammingError\u001b[39m                          Traceback (most recent call last)",
      "\u001b[36mCell\u001b[39m\u001b[36m \u001b[39m\u001b[32mIn[5]\u001b[39m\u001b[32m, line 8\u001b[39m\n\u001b[32m      5\u001b[39m insert_query = \u001b[33m\"\u001b[39m\u001b[33mINSERT INTO employee(Name, Age, City, Salary) VALUES(\u001b[39m\u001b[38;5;132;01m%s\u001b[39;00m\u001b[33m, \u001b[39m\u001b[38;5;132;01m%s\u001b[39;00m\u001b[33m, \u001b[39m\u001b[38;5;132;01m%s\u001b[39;00m\u001b[33m, \u001b[39m\u001b[38;5;132;01m%s\u001b[39;00m\u001b[33m)\u001b[39m\u001b[33m\"\u001b[39m\n\u001b[32m      7\u001b[39m \u001b[38;5;28;01mfor\u001b[39;00m _, row \u001b[38;5;129;01min\u001b[39;00m df.iterrows():\n\u001b[32m----> \u001b[39m\u001b[32m8\u001b[39m     \u001b[43mcursor\u001b[49m\u001b[43m.\u001b[49m\u001b[43mexecute\u001b[49m\u001b[43m(\u001b[49m\u001b[43minsert_query\u001b[49m\u001b[43m,\u001b[49m\u001b[43m \u001b[49m\u001b[38;5;28;43mtuple\u001b[39;49m\u001b[43m(\u001b[49m\u001b[43mrow\u001b[49m\u001b[43m)\u001b[49m\u001b[43m)\u001b[49m\n\u001b[32m      9\u001b[39m conn.commit()    \n",
      "\u001b[36mFile \u001b[39m\u001b[32mJ:\\Asad-Learning\\Python-Learning\\.venv\\Lib\\site-packages\\mysql\\connector\\cursor_cext.py:330\u001b[39m, in \u001b[36mCMySQLCursor.execute\u001b[39m\u001b[34m(self, operation, params, multi)\u001b[39m\n\u001b[32m    325\u001b[39m             \u001b[38;5;28;01mraise\u001b[39;00m ProgrammingError(\n\u001b[32m    326\u001b[39m                 \u001b[33m\"\u001b[39m\u001b[33mNot all parameters were used in the SQL statement\u001b[39m\u001b[33m\"\u001b[39m\n\u001b[32m    327\u001b[39m             )\n\u001b[32m    329\u001b[39m \u001b[38;5;28;01mtry\u001b[39;00m:\n\u001b[32m--> \u001b[39m\u001b[32m330\u001b[39m     result = \u001b[38;5;28;43mself\u001b[39;49m\u001b[43m.\u001b[49m\u001b[43m_cnx\u001b[49m\u001b[43m.\u001b[49m\u001b[43mcmd_query\u001b[49m\u001b[43m(\u001b[49m\n\u001b[32m    331\u001b[39m \u001b[43m        \u001b[49m\u001b[43mstmt\u001b[49m\u001b[43m,\u001b[49m\n\u001b[32m    332\u001b[39m \u001b[43m        \u001b[49m\u001b[43mraw\u001b[49m\u001b[43m=\u001b[49m\u001b[38;5;28;43mself\u001b[39;49m\u001b[43m.\u001b[49m\u001b[43m_raw\u001b[49m\u001b[43m,\u001b[49m\n\u001b[32m    333\u001b[39m \u001b[43m        \u001b[49m\u001b[43mbuffered\u001b[49m\u001b[43m=\u001b[49m\u001b[38;5;28;43mself\u001b[39;49m\u001b[43m.\u001b[49m\u001b[43m_buffered\u001b[49m\u001b[43m,\u001b[49m\n\u001b[32m    334\u001b[39m \u001b[43m        \u001b[49m\u001b[43mraw_as_string\u001b[49m\u001b[43m=\u001b[49m\u001b[38;5;28;43mself\u001b[39;49m\u001b[43m.\u001b[49m\u001b[43m_raw_as_string\u001b[49m\u001b[43m,\u001b[49m\n\u001b[32m    335\u001b[39m \u001b[43m    \u001b[49m\u001b[43m)\u001b[49m\n\u001b[32m    336\u001b[39m \u001b[38;5;28;01mexcept\u001b[39;00m MySQLInterfaceError \u001b[38;5;28;01mas\u001b[39;00m err:\n\u001b[32m    337\u001b[39m     \u001b[38;5;28;01mraise\u001b[39;00m get_mysql_exception(\n\u001b[32m    338\u001b[39m         msg=err.msg, errno=err.errno, sqlstate=err.sqlstate\n\u001b[32m    339\u001b[39m     ) \u001b[38;5;28;01mfrom\u001b[39;00m\u001b[38;5;250m \u001b[39m\u001b[34;01merr\u001b[39;00m\n",
      "\u001b[36mFile \u001b[39m\u001b[32mJ:\\Asad-Learning\\Python-Learning\\.venv\\Lib\\site-packages\\mysql\\connector\\connection_cext.py:619\u001b[39m, in \u001b[36mCMySQLConnection.cmd_query\u001b[39m\u001b[34m(self, query, raw, buffered, raw_as_string)\u001b[39m\n\u001b[32m    611\u001b[39m     \u001b[38;5;28mself\u001b[39m._cmysql.query(\n\u001b[32m    612\u001b[39m         query,\n\u001b[32m    613\u001b[39m         raw=raw,\n\u001b[32m   (...)\u001b[39m\u001b[32m    616\u001b[39m         query_attrs=\u001b[38;5;28mself\u001b[39m._query_attrs,\n\u001b[32m    617\u001b[39m     )\n\u001b[32m    618\u001b[39m \u001b[38;5;28;01mexcept\u001b[39;00m MySQLInterfaceError \u001b[38;5;28;01mas\u001b[39;00m err:\n\u001b[32m--> \u001b[39m\u001b[32m619\u001b[39m     \u001b[38;5;28;01mraise\u001b[39;00m get_mysql_exception(\n\u001b[32m    620\u001b[39m         err.errno, msg=err.msg, sqlstate=err.sqlstate\n\u001b[32m    621\u001b[39m     ) \u001b[38;5;28;01mfrom\u001b[39;00m\u001b[38;5;250m \u001b[39m\u001b[34;01merr\u001b[39;00m\n\u001b[32m    622\u001b[39m \u001b[38;5;28;01mexcept\u001b[39;00m \u001b[38;5;167;01mAttributeError\u001b[39;00m \u001b[38;5;28;01mas\u001b[39;00m err:\n\u001b[32m    623\u001b[39m     addr = (\n\u001b[32m    624\u001b[39m         \u001b[38;5;28mself\u001b[39m._unix_socket \u001b[38;5;28;01mif\u001b[39;00m \u001b[38;5;28mself\u001b[39m._unix_socket \u001b[38;5;28;01melse\u001b[39;00m \u001b[33mf\u001b[39m\u001b[33m\"\u001b[39m\u001b[38;5;132;01m{\u001b[39;00m\u001b[38;5;28mself\u001b[39m._host\u001b[38;5;132;01m}\u001b[39;00m\u001b[33m:\u001b[39m\u001b[38;5;132;01m{\u001b[39;00m\u001b[38;5;28mself\u001b[39m._port\u001b[38;5;132;01m}\u001b[39;00m\u001b[33m\"\u001b[39m\n\u001b[32m    625\u001b[39m     )\n",
      "\u001b[31mProgrammingError\u001b[39m: 1146 (42S02): Table '30day_sql_query.employee' doesn't exist"
     ]
    }
   ],
   "source": [
    "# Step 4: Insert data from DataFrame\n",
    "\n",
    "df = pd.read_csv('data.csv')\n",
    "cursor = conn.cursor()\n",
    "insert_query = \"INSERT INTO employee(Name, Age, City, Salary) VALUES(%s, %s, %s, %s)\"\n",
    "\n",
    "for _, row in df.iterrows():\n",
    "    cursor.execute(insert_query, tuple(row))\n",
    "conn.commit()    "
   ]
  },
  {
   "cell_type": "code",
   "execution_count": 16,
   "id": "ce0a5ddb-7997-497b-a5f6-cc9306602a48",
   "metadata": {},
   "outputs": [],
   "source": [
    "# df = pd.read_csv('data.csv')\n",
    "# # Step 4: Insert data from DataFrame\n",
    "# for _, row in df.iterrows():\n",
    "#     cursor.execute(\n",
    "#         \"INSERT INTO employee (Name, Age, City, Salary) VALUES (%s, %s, %s, %s)\",\n",
    "#         tuple(row)\n",
    "#     )\n",
    "# conn.commit()"
   ]
  },
  {
   "cell_type": "code",
   "execution_count": 41,
   "id": "a21d9e9d-778c-46ec-ae12-a07996f3d1ab",
   "metadata": {},
   "outputs": [
    {
     "data": {
      "text/html": [
       "<div>\n",
       "<style scoped>\n",
       "    .dataframe tbody tr th:only-of-type {\n",
       "        vertical-align: middle;\n",
       "    }\n",
       "\n",
       "    .dataframe tbody tr th {\n",
       "        vertical-align: top;\n",
       "    }\n",
       "\n",
       "    .dataframe thead th {\n",
       "        text-align: right;\n",
       "    }\n",
       "</style>\n",
       "<table border=\"1\" class=\"dataframe\">\n",
       "  <thead>\n",
       "    <tr style=\"text-align: right;\">\n",
       "      <th></th>\n",
       "      <th>Name</th>\n",
       "      <th>Age</th>\n",
       "      <th>City</th>\n",
       "      <th>Salary</th>\n",
       "    </tr>\n",
       "  </thead>\n",
       "  <tbody>\n",
       "    <tr>\n",
       "      <th>0</th>\n",
       "      <td>David</td>\n",
       "      <td>34</td>\n",
       "      <td>San Diego</td>\n",
       "      <td>79076</td>\n",
       "    </tr>\n",
       "    <tr>\n",
       "      <th>1</th>\n",
       "      <td>Charlie</td>\n",
       "      <td>35</td>\n",
       "      <td>Phoenix</td>\n",
       "      <td>76699</td>\n",
       "    </tr>\n",
       "    <tr>\n",
       "      <th>2</th>\n",
       "      <td>Quinn</td>\n",
       "      <td>38</td>\n",
       "      <td>New York</td>\n",
       "      <td>93478</td>\n",
       "    </tr>\n",
       "    <tr>\n",
       "      <th>3</th>\n",
       "      <td>Eve</td>\n",
       "      <td>32</td>\n",
       "      <td>Phoenix</td>\n",
       "      <td>92233</td>\n",
       "    </tr>\n",
       "    <tr>\n",
       "      <th>4</th>\n",
       "      <td>Paul</td>\n",
       "      <td>27</td>\n",
       "      <td>Houston</td>\n",
       "      <td>96396</td>\n",
       "    </tr>\n",
       "  </tbody>\n",
       "</table>\n",
       "</div>"
      ],
      "text/plain": [
       "      Name  Age       City  Salary\n",
       "0    David   34  San Diego   79076\n",
       "1  Charlie   35    Phoenix   76699\n",
       "2    Quinn   38   New York   93478\n",
       "3      Eve   32    Phoenix   92233\n",
       "4     Paul   27    Houston   96396"
      ]
     },
     "execution_count": 41,
     "metadata": {},
     "output_type": "execute_result"
    }
   ],
   "source": [
    "df = pd.read_csv('data.csv')\n",
    "\n",
    "df.head()"
   ]
  },
  {
   "cell_type": "code",
   "execution_count": 67,
   "id": "fb55b636-3025-4650-b366-d1586d8d6ed3",
   "metadata": {},
   "outputs": [
    {
     "name": "stdout",
     "output_type": "stream",
     "text": [
      "('Name', b'varchar(100)', 'YES', '', None, '')\n",
      "('Age', b'int', 'YES', '', None, '')\n",
      "('City', b'varchar(100)', 'YES', '', None, '')\n",
      "('Salary', b'decimal(10,2)', 'YES', '', None, '')\n"
     ]
    }
   ],
   "source": [
    "cursor.execute(\"DESCRIBE employee\")\n",
    "for row in cursor.fetchall():\n",
    "    print(row)"
   ]
  },
  {
   "cell_type": "code",
   "execution_count": null,
   "id": "30e05513-57b5-4789-83da-d415d3ee8927",
   "metadata": {},
   "outputs": [],
   "source": [
    "# cursor = conn.cursor()\n",
    "\n",
    "# describe_query = \"DESCRIBE employee\" \n",
    "# cursor.execute(describe_query)\n",
    "# rows = cursor.fetchall()\n",
    "# for row in rows:\n",
    "#     print(row)"
   ]
  },
  {
   "cell_type": "code",
   "execution_count": null,
   "id": "9a395ded-5b6c-4d82-a9c9-27fed5941f46",
   "metadata": {},
   "outputs": [],
   "source": []
  }
 ],
 "metadata": {
  "kernelspec": {
   "display_name": "Python 3.11.4",
   "language": "python",
   "name": "py311"
  },
  "language_info": {
   "codemirror_mode": {
    "name": "ipython",
    "version": 3
   },
   "file_extension": ".py",
   "mimetype": "text/x-python",
   "name": "python",
   "nbconvert_exporter": "python",
   "pygments_lexer": "ipython3",
   "version": "3.11.4"
  }
 },
 "nbformat": 4,
 "nbformat_minor": 5
}
