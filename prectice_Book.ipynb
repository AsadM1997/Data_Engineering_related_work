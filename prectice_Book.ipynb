{
 "cells": [
  {
   "cell_type": "code",
   "execution_count": 2,
   "id": "e5cbfe5e-1385-4de7-be61-65ace3862711",
   "metadata": {},
   "outputs": [
    {
     "name": "stdout",
     "output_type": "stream",
     "text": [
      "['sky', 'is', 'blue']\n",
      "['blue', 'is', 'sky']\n"
     ]
    }
   ],
   "source": [
    "str1=\"sky is blue\"\n",
    "split_list=str1.split()\n",
    "print(split_list)\n",
    "\n",
    "revers_lst=split_list[::-1]\n",
    "print(revers_lst)"
   ]
  },
  {
   "cell_type": "code",
   "execution_count": null,
   "id": "2ebf9eb3-6b95-4e72-a89a-41f657a475a0",
   "metadata": {},
   "outputs": [],
   "source": []
  }
 ],
 "metadata": {
  "kernelspec": {
   "display_name": "Python 3 (ipykernel)",
   "language": "python",
   "name": "python3"
  },
  "language_info": {
   "codemirror_mode": {
    "name": "ipython",
    "version": 3
   },
   "file_extension": ".py",
   "mimetype": "text/x-python",
   "name": "python",
   "nbconvert_exporter": "python",
   "pygments_lexer": "ipython3",
   "version": "3.11.4"
  }
 },
 "nbformat": 4,
 "nbformat_minor": 5
}
