{
 "cells": [
  {
   "cell_type": "markdown",
   "id": "842a031f",
   "metadata": {},
   "source": [
    "| File Type | Purpose                  | Mode in Python            |\n",
    "| --------- | ------------------------ | ------------------------- |\n",
    "| `.txt`    | Notes, logs, simple text | `\"r\"`, `\"w\"`              |\n",
    "| `.csv`    | Tables, spreadsheets     | with `csv` module         |\n",
    "| `.json`   | Data exchange            | with `json` module        |\n",
    "| `.pickle` | Object storage (binary)  | `\"rb\"`, `\"wb\"`            |\n",
    "| `.xml`    | Config, markup           | `xml.etree`               |\n",
    "| `.xlsx`   | Excel data               | with `openpyxl`, `pandas` |\n"
   ]
  },
  {
   "cell_type": "markdown",
   "id": "efcc8d70",
   "metadata": {},
   "source": [
    "| Mode   | Description        |\n",
    "| ------ | ------------------ |\n",
    "| `'r'`  | Read (default)     |\n",
    "| `'w'`  | Write (overwrites) |\n",
    "| `'a'`  | Append             |\n",
    "| `'b'`  | Binary mode        |\n",
    "| `'x'`  | Exclusive create   |\n",
    "| `'r+'` | Read and write     |\n"
   ]
  },
  {
   "cell_type": "markdown",
   "id": "375d5d20",
   "metadata": {},
   "source": [
    "| Character | Stands For           | Meaning                                                                                    |\n",
    "| --------- | -------------------- | ------------------------------------------------------------------------------------------ |\n",
    "| `'r'`     | **Read**             | Opens file for reading only (default mode). File must exist.                               |\n",
    "| `'w'`     | **Write**            | Opens file for writing. **Overwrites** if file exists. Creates if it doesn't.              |\n",
    "| `'a'`     | **Append**           | Opens file for appending. Adds data to end without erasing. Creates if file doesn't exist. |\n",
    "| `'x'`     | **Exclusive Create** | Creates a file, **fails if file exists**.                                                  |\n",
    "| `'b'`     | **Binary**           | Opens file in binary mode (e.g., images, audio). Used with `r`, `w`, or `a`.               |\n",
    "| `'t'`     | **Text**             | Opens file in text mode (default). Used with `r`, `w`, etc.                                |\n",
    "| `'+'`     | **Read & Write**     | Allows both reading and writing. Used with `r+`, `w+`, `a+`.                               |\n"
   ]
  },
  {
   "cell_type": "markdown",
   "id": "07fef07e",
   "metadata": {},
   "source": [
    "⚠️ Tip:\n",
    "'w' and 'w+' will delete old content."
   ]
  },
  {
   "cell_type": "markdown",
   "id": "e6929a4d",
   "metadata": {},
   "source": [
    "| Mode   | Action                                  |\n",
    "| ------ | --------------------------------------- |\n",
    "| `'r'`  | Read (text)                             |\n",
    "| `'rb'` | Read (binary)                           |\n",
    "| `'w'`  | Write (text), creates or overwrites     |\n",
    "| `'wb'` | Write (binary), creates or overwrites   |\n",
    "| `'a'`  | Append (text), creates if not exists    |\n",
    "| `'ab'` | Append (binary)                         |\n",
    "| `'x'`  | Create new file (text), error if exists |\n",
    "| `'r+'` | Read & write (text), must exist         |\n",
    "| `'w+'` | Write & read (text), overwrites         |\n",
    "| `'a+'` | Append & read (text)                    |\n"
   ]
  },
  {
   "cell_type": "markdown",
   "id": "4e1e62da",
   "metadata": {},
   "source": [
    "| Method              | Description                     |\n",
    "| ------------------- | ------------------------------- |\n",
    "| `file.read()`       | Reads entire file as one string |\n",
    "| `file.readline()`   | Reads one line at a time        |\n",
    "| `file.readlines()`  | Reads all lines into a **list** |\n",
    "| `for line in file:` | Loops through file line-by-line |\n"
   ]
  },
  {
   "cell_type": "code",
   "execution_count": 7,
   "id": "24979652",
   "metadata": {},
   "outputs": [],
   "source": [
    "# Create the file and write content\n",
    "with open(\"file.txt\", \"w\") as f:\n",
    "    f.write(\"Hello world!\\nThis is line two.\\nPython is great.\")\n",
    "    \n"
   ]
  },
  {
   "cell_type": "markdown",
   "id": "2e7ee5f8",
   "metadata": {},
   "source": [
    "Exercise 1: Read a File"
   ]
  },
  {
   "cell_type": "code",
   "execution_count": 14,
   "id": "e6fd4cb8",
   "metadata": {},
   "outputs": [
    {
     "name": "stdout",
     "output_type": "stream",
     "text": [
      "Hello world!\n",
      "This is line two.\n",
      "Python is great.Hello world!\n",
      "This is line three.\n",
      "Python is great.\n"
     ]
    }
   ],
   "source": [
    "with open(\"file.txt\",'r') as f:\n",
    "    content=f.read()\n",
    "    print(content)"
   ]
  },
  {
   "cell_type": "code",
   "execution_count": 13,
   "id": "96d9fb96",
   "metadata": {},
   "outputs": [
    {
     "name": "stdout",
     "output_type": "stream",
     "text": [
      "Hello world!\n",
      "\n"
     ]
    }
   ],
   "source": [
    "with open(\"file.txt\",'r') as f:\n",
    "    content=f.readline()\n",
    "    print(content)"
   ]
  },
  {
   "cell_type": "code",
   "execution_count": 31,
   "id": "3fada601",
   "metadata": {},
   "outputs": [
    {
     "name": "stdout",
     "output_type": "stream",
     "text": [
      "[]\n"
     ]
    }
   ],
   "source": [
    "with open(\"file.txt\",'r') as f:\n",
    "    content=f.readlines()\n",
    "    print(content)"
   ]
  },
  {
   "cell_type": "code",
   "execution_count": 1,
   "id": "66b7a6ca",
   "metadata": {},
   "outputs": [],
   "source": [
    "# Create the file and write content\n",
    "with open(\"file.txt\", \"w\") as f:\n",
    "    f.write(\"Hello world!\\nThis is line two.\\nPython is great.\\n\")\n",
    "    f.write(\"Hello world!\\nThis is line three.\\nPython is great.\")\n"
   ]
  },
  {
   "cell_type": "code",
   "execution_count": 8,
   "id": "946deabf",
   "metadata": {},
   "outputs": [
    {
     "name": "stdout",
     "output_type": "stream",
     "text": [
      "Hello world!\n",
      " This is line two.\n",
      " Python is great.\n",
      " Hello world!\n",
      " This is line three.\n",
      " Python is great. next\n"
     ]
    }
   ],
   "source": [
    "# read specific line \n",
    "try:\n",
    "    with open(\"file.txt\",'r') as file:\n",
    "        for line in file:\n",
    "            print(line,end=' ')\n",
    "except FileNotFoundError:\n",
    "    print(\"error: 'file.txt'not found\")    \n",
    "        \n",
    "print(\"next\")    "
   ]
  },
  {
   "cell_type": "code",
   "execution_count": 13,
   "id": "56317763",
   "metadata": {},
   "outputs": [
    {
     "name": "stdout",
     "output_type": "stream",
     "text": [
      "Hello world!\n",
      "This is line two.\n",
      "Python is great.\n",
      "Hello world!\n",
      "This is line three.\n",
      "next\n"
     ]
    }
   ],
   "source": [
    "# read specific lines from a file\n",
    "try:\n",
    "    with open(\"file.txt\",'r') as file:\n",
    "        for i in range(5):\n",
    "            print(file.readline().strip())\n",
    "except FileNotFoundError:\n",
    "    print(\"error: 'file.txt'not found\")    \n",
    "        \n",
    "print(\"next\")    "
   ]
  },
  {
   "cell_type": "code",
   "execution_count": 16,
   "id": "1856ff84",
   "metadata": {},
   "outputs": [
    {
     "ename": "FileExistsError",
     "evalue": "[Errno 17] File exists: 'file.txt'",
     "output_type": "error",
     "traceback": [
      "\u001b[1;31m---------------------------------------------------------------------------\u001b[0m",
      "\u001b[1;31mFileExistsError\u001b[0m                           Traceback (most recent call last)",
      "Cell \u001b[1;32mIn[16], line 1\u001b[0m\n\u001b[1;32m----> 1\u001b[0m \u001b[38;5;28;01mwith\u001b[39;00m \u001b[38;5;28;43mopen\u001b[39;49m\u001b[43m(\u001b[49m\u001b[38;5;124;43m\"\u001b[39;49m\u001b[38;5;124;43mfile.txt\u001b[39;49m\u001b[38;5;124;43m\"\u001b[39;49m\u001b[43m,\u001b[49m\u001b[43m \u001b[49m\u001b[38;5;124;43m\"\u001b[39;49m\u001b[38;5;124;43mx\u001b[39;49m\u001b[38;5;124;43m\"\u001b[39;49m\u001b[43m)\u001b[49m \u001b[38;5;28;01mas\u001b[39;00m f:\n\u001b[0;32m      2\u001b[0m     f\u001b[38;5;241m.\u001b[39mwrite(\u001b[38;5;124m\"\u001b[39m\u001b[38;5;124mHello world!\u001b[39m\u001b[38;5;130;01m\\n\u001b[39;00m\u001b[38;5;124m\"\u001b[39m)\n\u001b[0;32m      3\u001b[0m     f\u001b[38;5;241m.\u001b[39mwrite(\u001b[38;5;124m\"\u001b[39m\u001b[38;5;124mHello world!\u001b[39m\u001b[38;5;130;01m\\n\u001b[39;00m\u001b[38;5;124mThis is cmd x\u001b[39m\u001b[38;5;130;01m\\n\u001b[39;00m\u001b[38;5;124mPython is great.\u001b[39m\u001b[38;5;124m\"\u001b[39m)\n",
      "File \u001b[1;32mc:\\Users\\admin\\AppData\\Local\\Programs\\Python\\Python311\\Lib\\site-packages\\IPython\\core\\interactiveshell.py:284\u001b[0m, in \u001b[0;36m_modified_open\u001b[1;34m(file, *args, **kwargs)\u001b[0m\n\u001b[0;32m    277\u001b[0m \u001b[38;5;28;01mif\u001b[39;00m file \u001b[38;5;129;01min\u001b[39;00m {\u001b[38;5;241m0\u001b[39m, \u001b[38;5;241m1\u001b[39m, \u001b[38;5;241m2\u001b[39m}:\n\u001b[0;32m    278\u001b[0m     \u001b[38;5;28;01mraise\u001b[39;00m \u001b[38;5;167;01mValueError\u001b[39;00m(\n\u001b[0;32m    279\u001b[0m         \u001b[38;5;124mf\u001b[39m\u001b[38;5;124m\"\u001b[39m\u001b[38;5;124mIPython won\u001b[39m\u001b[38;5;124m'\u001b[39m\u001b[38;5;124mt let you open fd=\u001b[39m\u001b[38;5;132;01m{\u001b[39;00mfile\u001b[38;5;132;01m}\u001b[39;00m\u001b[38;5;124m by default \u001b[39m\u001b[38;5;124m\"\u001b[39m\n\u001b[0;32m    280\u001b[0m         \u001b[38;5;124m\"\u001b[39m\u001b[38;5;124mas it is likely to crash IPython. If you know what you are doing, \u001b[39m\u001b[38;5;124m\"\u001b[39m\n\u001b[0;32m    281\u001b[0m         \u001b[38;5;124m\"\u001b[39m\u001b[38;5;124myou can use builtins\u001b[39m\u001b[38;5;124m'\u001b[39m\u001b[38;5;124m open.\u001b[39m\u001b[38;5;124m\"\u001b[39m\n\u001b[0;32m    282\u001b[0m     )\n\u001b[1;32m--> 284\u001b[0m \u001b[38;5;28;01mreturn\u001b[39;00m \u001b[43mio_open\u001b[49m\u001b[43m(\u001b[49m\u001b[43mfile\u001b[49m\u001b[43m,\u001b[49m\u001b[43m \u001b[49m\u001b[38;5;241;43m*\u001b[39;49m\u001b[43margs\u001b[49m\u001b[43m,\u001b[49m\u001b[43m \u001b[49m\u001b[38;5;241;43m*\u001b[39;49m\u001b[38;5;241;43m*\u001b[39;49m\u001b[43mkwargs\u001b[49m\u001b[43m)\u001b[49m\n",
      "\u001b[1;31mFileExistsError\u001b[0m: [Errno 17] File exists: 'file.txt'"
     ]
    }
   ],
   "source": [
    "with open(\"file.txt\", \"x\") as f:\n",
    "    f.write(\"Hello world!\\n\")\n",
    "    f.write(\"Hello world!\\nThis is cmd x\\nPython is great.\")\n"
   ]
  },
  {
   "cell_type": "code",
   "execution_count": null,
   "id": "70c04a13",
   "metadata": {},
   "outputs": [],
   "source": [
    "# File Handling in Python Assignment|Find Number of characters,words and lines in File\n",
    "\n",
    "f=open('file.txt',mode='r')\n",
    "number_of_words=0\n",
    "number_of_char=0\n",
    "number_of_lines=0\n",
    "\n",
    "for line in f:\n",
    "    number_of_lines+=1\n",
    "    line=line.strip(\"\\n\")\n",
    "    number_of_char+=len(line)\n",
    "    list1=line.split()\n",
    "    number_of_words=len(list1)\n",
    "f.close()\n",
    "print(\"number_of_words\",number_of_words)\n",
    "print(f\"number of lines {number_of_lines}\")\n",
    "print(f\"number of char {number_of_char}\")"
   ]
  },
  {
   "cell_type": "code",
   "execution_count": 17,
   "id": "5698fcf0",
   "metadata": {},
   "outputs": [
    {
     "name": "stdout",
     "output_type": "stream",
     "text": [
      "6\n",
      "92\n",
      "18\n"
     ]
    }
   ],
   "source": [
    "number_of_line=0\n",
    "number_of_word=0\n",
    "number_of_char=0\n",
    "with open(\"file.txt\",\"r\") as file:\n",
    "    for line in file:\n",
    "        number_of_line +=1 \n",
    "        line=line.strip(\"\\n\")\n",
    "        number_of_word += len(line) \n",
    "        char= line.split() \n",
    "        number_of_char += len(char)\n",
    "print(number_of_line)        \n",
    "print(number_of_word)        \n",
    "print(number_of_char)        \n",
    "        "
   ]
  },
  {
   "cell_type": "code",
   "execution_count": 28,
   "id": "93ee69d4",
   "metadata": {},
   "outputs": [
    {
     "name": "stdout",
     "output_type": "stream",
     "text": [
      "['empl_id|name|salary', '101|Mohd|2000.0\\n', '102|Asad|42000.0\\n', '103|Ibraheem|72000.0\\n', '104|Abumamah|1000.0\\n', '105|saad|102000.0\\n']\n",
      "['empl_id|name|salary', '101|Mohd|2000.0\\n', '102|Asad|42000.0\\n', '103|Ibraheem|72000.0\\n', '104|Abumamah|1000.0\\n', '105|saad|102000.0\\n']\n"
     ]
    }
   ],
   "source": [
    "f1=open(\"employee.txt\",\"r\")\n",
    "f2=open(\"result.txt\",\"w\")\n",
    "modified_data=[]\n",
    "data=f1.readlines()\n",
    "# print(data)\n",
    "modified_data=[]\n",
    "header=data[0].strip()\n",
    "modified_data.append(header)\n",
    "# print(modified_data)\n",
    "\n",
    "for record in data[1:len(data)+1]:\n",
    "        # print(record.split(\"|\"))\n",
    "    my_lst=record.split(\"|\")\n",
    "    # print(type(my_lst[2]))\n",
    "    # print(float(my_lst[2]))\n",
    "    salary=float(my_lst[2])\n",
    "    if salary>35000:\n",
    "        bonus=2000\n",
    "        modified_data.append(f\"{my_lst[0]}|{my_lst[1]}|{float(my_lst[2])+bonus}\\n\")\n",
    "    else:\n",
    "                modified_data.append(f\"{my_lst[0]}|{my_lst[1]}|{float(my_lst[2])}\\n\")\n",
    "print(modified_data)               \n",
    "f2.writelines(modified_data)\n",
    "print(modified_data)\n",
    "f1.close()\n",
    "f2.close()"
   ]
  },
  {
   "cell_type": "code",
   "execution_count": 33,
   "id": "9babec57",
   "metadata": {},
   "outputs": [],
   "source": [
    "\n",
    "data=\"i am learning x mode\"\n",
    "f=open(\"file1.txt\",mode=\"w\")\n",
    "f.write(data)\n",
    "f.close()"
   ]
  },
  {
   "cell_type": "code",
   "execution_count": 5,
   "id": "6c11d36c",
   "metadata": {},
   "outputs": [
    {
     "name": "stdout",
     "output_type": "stream",
     "text": [
      "0\n",
      "3\n",
      "0\n"
     ]
    }
   ],
   "source": [
    "# tell method tells the index of cursor\n",
    "# seek method set the cursor \n",
    "f=open(\"result.txt\",mode='r')\n",
    "print(f.tell())\n",
    "f.read(3)\n",
    "\n",
    "print(f.tell())\n",
    "f.read()\n",
    "f.seek(0)\n",
    "print(f.tell())\n",
    "f.close()"
   ]
  },
  {
   "cell_type": "code",
   "execution_count": null,
   "id": "8895fef5",
   "metadata": {},
   "outputs": [
    {
     "name": "stdout",
     "output_type": "stream",
     "text": [
      "empl_id|name|salary101|Mohd|2000.0\n",
      "102|Asad|42000.0\n",
      "103|Ibraheem|72000.0\n",
      "104|Abumamah|1000.0\n",
      "105|saad|102000.0\n",
      "\n"
     ]
    }
   ],
   "source": [
    "# python will close  file itself u don't need to take headach of exception handling\n",
    "# USING read() method\n",
    " \n",
    "with open(\"result.txt\",'r') as f:\n",
    "    data=f.read()\n",
    "    print(data)"
   ]
  },
  {
   "cell_type": "code",
   "execution_count": 4,
   "id": "ba4d4f04",
   "metadata": {},
   "outputs": [
    {
     "name": "stdout",
     "output_type": "stream",
     "text": [
      "empl_id|name|salary101|Mohd|2000.0\n",
      "\n",
      "102|Asad|42000.0\n",
      "\n",
      "103|Ibraheem|72000.0\n",
      "\n",
      "104|Abumamah|1000.0\n",
      "\n",
      "105|saad|102000.0\n",
      "\n"
     ]
    }
   ],
   "source": [
    "# using for loop\n",
    "\n",
    "with open(\"result.txt\", mode=\"r\") as f:\n",
    "    for line in f:\n",
    "        print(line,end=\"\")\n"
   ]
  },
  {
   "cell_type": "code",
   "execution_count": 5,
   "id": "8508ac4c",
   "metadata": {},
   "outputs": [
    {
     "name": "stdout",
     "output_type": "stream",
     "text": [
      "[Errno 2] No such file or directory: 'result1.txt'\n",
      "your program after exception in working your can go ahed after exception\n"
     ]
    }
   ],
   "source": [
    "# using exceptional handling \n",
    "try:\n",
    "    with open(\"result1.txt\",'r') as f:\n",
    "         data=f.read()\n",
    "         print(data)\n",
    "except FileNotFoundError as obj:\n",
    "    print(obj)\n",
    "    \n",
    "print(\"your program after exception in working your can go ahed after exception\")        "
   ]
  },
  {
   "cell_type": "code",
   "execution_count": null,
   "id": "53171edd",
   "metadata": {},
   "outputs": [],
   "source": [
    "data=['abc',123]\n",
    "for i in data:\n",
    "    data.append(i)\n",
    "    print(data,end=\"\")"
   ]
  },
  {
   "cell_type": "code",
   "execution_count": 20,
   "id": "bd2e7324",
   "metadata": {},
   "outputs": [
    {
     "name": "stdout",
     "output_type": "stream",
     "text": [
      "successfully append 'hi i am learning append'\n"
     ]
    }
   ],
   "source": [
    "# append \n",
    "data=\"hi i am learning append\"\n",
    "\n",
    "with open(\"file.txt\",'a') as file:\n",
    "    file.write('\\n'+data)\n",
    "    print(f\"successfully append '{data}'\")"
   ]
  },
  {
   "cell_type": "code",
   "execution_count": 28,
   "id": "e8587974",
   "metadata": {},
   "outputs": [
    {
     "name": "stdout",
     "output_type": "stream",
     "text": [
      "\n"
     ]
    }
   ],
   "source": [
    "# file copy\n",
    "\n",
    "with open('file1.txt','r') as file1:\n",
    "    content=file1.read()\n",
    "    print(content)\n",
    "with open('file.txt','w') as file:\n",
    "    file.write(content)    "
   ]
  },
  {
   "cell_type": "code",
   "execution_count": 43,
   "id": "b1879d0a",
   "metadata": {},
   "outputs": [
    {
     "name": "stdout",
     "output_type": "stream",
     "text": [
      "File written successfully.\n"
     ]
    }
   ],
   "source": [
    "content = \"hi i am learning python\"\n",
    "with open('file.txt', 'w') as file:\n",
    "    file.write(content)  # ✅ just write it\n",
    "    print(\"File written successfully.\")\n"
   ]
  },
  {
   "cell_type": "code",
   "execution_count": 45,
   "id": "0e6ed77f",
   "metadata": {},
   "outputs": [
    {
     "name": "stdout",
     "output_type": "stream",
     "text": [
      "hi i am learning python\n"
     ]
    }
   ],
   "source": [
    "with open('file.txt','r') as file:\n",
    "    content=file.read()\n",
    "    print(content)    "
   ]
  },
  {
   "cell_type": "code",
   "execution_count": 46,
   "id": "ab7c1a82",
   "metadata": {},
   "outputs": [
    {
     "name": "stdout",
     "output_type": "stream",
     "text": [
      "File written successfully.\n"
     ]
    }
   ],
   "source": [
    "with open('file1.txt', 'w') as file1:\n",
    "    file1.write(content)  # ✅ just write it\n",
    "    print(\"File written successfully.\")\n"
   ]
  },
  {
   "cell_type": "code",
   "execution_count": 47,
   "id": "b893529c",
   "metadata": {},
   "outputs": [
    {
     "name": "stdout",
     "output_type": "stream",
     "text": [
      "hi i am learning python\n"
     ]
    }
   ],
   "source": [
    "with open('file1.txt','r') as file1:\n",
    "    content=file1.read()\n",
    "    print(content)    "
   ]
  },
  {
   "cell_type": "code",
   "execution_count": 48,
   "id": "47cb7e6f",
   "metadata": {},
   "outputs": [
    {
     "name": "stdout",
     "output_type": "stream",
     "text": [
      "File written successfully.\n",
      "hi i am learning python\n"
     ]
    }
   ],
   "source": [
    "# Writing to file\n",
    "content = \"hi i am learning python\"\n",
    "with open('file.txt', 'w') as file:\n",
    "    file.write(content)\n",
    "    print(\"File written successfully.\")\n",
    "\n",
    "# Reading from file\n",
    "with open('file.txt', 'r') as file1:\n",
    "    content = file1.read()\n",
    "    print(content)\n"
   ]
  },
  {
   "cell_type": "code",
   "execution_count": 50,
   "id": "fa25574c",
   "metadata": {},
   "outputs": [
    {
     "name": "stdout",
     "output_type": "stream",
     "text": [
      "True\n"
     ]
    }
   ],
   "source": [
    "import os \n",
    "\n",
    "def check_file_exists(filename):\n",
    "    return os.path.exists(filename) \n",
    "\n",
    "filename='file.txt'\n",
    "isexist=check_file_exists(filename)\n",
    "print(isexist)"
   ]
  },
  {
   "cell_type": "code",
   "execution_count": 53,
   "id": "49d448fc",
   "metadata": {},
   "outputs": [
    {
     "data": {
      "text/plain": [
       "\"successfully renamed 'file.txt' to 'file2.txt'\""
      ]
     },
     "execution_count": 53,
     "metadata": {},
     "output_type": "execute_result"
    }
   ],
   "source": [
    "# rename of file \n",
    "import os \n",
    "\n",
    "def rename_file(oldfilename,newfilename):\n",
    "    if not os.path.exists(oldfilename):\n",
    "        return f\"Error: file '{oldfilename}' not found.\"\n",
    "    try:\n",
    "        os.rename(oldfilename,newfilename)\n",
    "        return f\"successfully renamed '{oldfilename}' to '{newfilename}'\"\n",
    "    except Exception as e:\n",
    "        return f\" An error occur while renaming :{e}\" \n",
    "oldfilename=\"file.txt\"\n",
    "newfilename=\"file2.txt\"\n",
    "rename_file(oldfilename,newfilename)"
   ]
  },
  {
   "cell_type": "code",
   "execution_count": 54,
   "id": "2d15e1c0",
   "metadata": {},
   "outputs": [
    {
     "name": "stdout",
     "output_type": "stream",
     "text": [
      "hi i am learning python\n"
     ]
    }
   ],
   "source": [
    "with open(\"file2.txt\",\"r\") as file2:\n",
    "    print(file2.read())"
   ]
  },
  {
   "cell_type": "code",
   "execution_count": 59,
   "id": "98567a2e",
   "metadata": {},
   "outputs": [
    {
     "name": "stdout",
     "output_type": "stream",
     "text": [
      " file 'temp_file.txt' successfully deleted.\n"
     ]
    }
   ],
   "source": [
    "import os \n",
    "\n",
    "def delete_file(filename):\n",
    "    if not os.path.exists(filename):\n",
    "        return f\"Error file '{filename}' not found.\"\n",
    "    try:\n",
    "        os.remove(filename)\n",
    "        return f\" file '{filename}' successfully deleted.\" \n",
    "    except Exception as e:\n",
    "        f\"An error occured while deleting: {e}\"\n",
    "file_to_delete =\"temp_file.txt\"        \n",
    "\n",
    "with open(\"temp_file.txt\",\"w\")as f:\n",
    "    f.write(\"this file will be deleted.\")\n",
    "\n",
    "result=delete_file(file_to_delete)\n",
    "print(result)    "
   ]
  },
  {
   "cell_type": "code",
   "execution_count": 70,
   "id": "1caa42c0",
   "metadata": {},
   "outputs": [],
   "source": [
    "# replace()\n",
    "with open(\"source_file.txt\",\"w\")as f:\n",
    "    f.write(\"this file is source .\")\n",
    "    \n",
    "with open(\"destination_file.txt\",\"w\")as f:\n",
    "    f.write(\"this file is destination.\")    \n",
    "    \n",
    "    "
   ]
  },
  {
   "cell_type": "code",
   "execution_count": 73,
   "id": "22907d1d",
   "metadata": {},
   "outputs": [
    {
     "name": "stdout",
     "output_type": "stream",
     "text": [
      "this source_file is source .\n"
     ]
    }
   ],
   "source": [
    "with open(\"source_file.txt\", \"r\") as sf:\n",
    "    content = sf.read() \n",
    "    \n",
    "# Step 2: Replace the word\n",
    "modified_data = content.replace(\"file\", \"source_file\")    \n",
    "\n",
    "# Step 3: Write to destination file\n",
    "with open(\"destination_file.txt\", \"w\") as df:\n",
    "    df.write(modified_data) \n",
    "    \n",
    "# Step 4: Read and print destination file to verify\n",
    "with open(\"destination_file.txt\", \"r\") as df:\n",
    "    result = df.read()\n",
    "    print(result)    "
   ]
  },
  {
   "cell_type": "code",
   "execution_count": 78,
   "id": "205746fd",
   "metadata": {},
   "outputs": [
    {
     "name": "stdout",
     "output_type": "stream",
     "text": [
      "This is an new file with some new content.\n",
      "None\n"
     ]
    }
   ],
   "source": [
    "def chang_word(sf,df,ow,nw):\n",
    "    with open(\"source_file.txt\", \"r\") as sf:\n",
    "        content = sf.read() \n",
    "    \n",
    "    # Step 2: Replace the word\n",
    "    modified_data = content.replace(ow, nw)    \n",
    "\n",
    "    # Step 3: Write to destination file\n",
    "    with open(\"destination_file.txt\", \"w\") as df:\n",
    "        df.write(modified_data) \n",
    "    \n",
    "# Step 4: Read and print destination file to verify\n",
    "with open(\"destination_file.txt\", \"r\") as df:\n",
    "    result = df.read()\n",
    "    print(result)    \n",
    "    \n",
    "\n",
    "sf=\"source_file.txt\"\n",
    "df=\"destination_file.txt\"\n",
    "ow=\"old\"\n",
    "nw=\"new\"\n",
    "\n",
    "# Create a dummy file to test replacement\n",
    "with open(\"source_file.txt\", 'w') as f:\n",
    "    f.write(\"This is an old file with some old content.\")    \n",
    "    \n",
    "result = chang_word(sf,df,ow,nw)\n",
    "print(result)"
   ]
  },
  {
   "cell_type": "markdown",
   "id": "ba074dcd",
   "metadata": {},
   "source": [
    "📂 6. Writing Multiple Lines"
   ]
  },
  {
   "cell_type": "code",
   "execution_count": 79,
   "id": "52c78894",
   "metadata": {},
   "outputs": [],
   "source": [
    "lines = [\"Line 1\\n\", \"Line 2\\n\", \"Line 3\\n\"]\n",
    "with open(\"multi.txt\", \"w\") as f:\n",
    "    f.writelines(lines)\n"
   ]
  },
  {
   "cell_type": "markdown",
   "id": "d3085c14",
   "metadata": {},
   "source": [
    "🧪 7. Checking File Existence (Safe Way)"
   ]
  },
  {
   "cell_type": "code",
   "execution_count": 80,
   "id": "f3526e46",
   "metadata": {},
   "outputs": [
    {
     "name": "stdout",
     "output_type": "stream",
     "text": [
      "No such file\n"
     ]
    }
   ],
   "source": [
    "import os\n",
    "\n",
    "if os.path.exists(\"data.txt\"):\n",
    "    print(\"File exists\")\n",
    "else:\n",
    "    print(\"No such file\")\n"
   ]
  },
  {
   "cell_type": "markdown",
   "id": "3f057688",
   "metadata": {},
   "source": [
    "🔐 9. Working with Binary Files\n",
    "Useful for non-text files: images, videos, PDFs"
   ]
  },
  {
   "cell_type": "code",
   "execution_count": 82,
   "id": "2055a421",
   "metadata": {},
   "outputs": [
    {
     "ename": "FileNotFoundError",
     "evalue": "[Errno 2] No such file or directory: 'image.jpg'",
     "output_type": "error",
     "traceback": [
      "\u001b[1;31m---------------------------------------------------------------------------\u001b[0m",
      "\u001b[1;31mFileNotFoundError\u001b[0m                         Traceback (most recent call last)",
      "Cell \u001b[1;32mIn[82], line 1\u001b[0m\n\u001b[1;32m----> 1\u001b[0m \u001b[38;5;28;01mwith\u001b[39;00m \u001b[38;5;28;43mopen\u001b[39;49m\u001b[43m(\u001b[49m\u001b[38;5;124;43m\"\u001b[39;49m\u001b[38;5;124;43mimage.jpg\u001b[39;49m\u001b[38;5;124;43m\"\u001b[39;49m\u001b[43m,\u001b[49m\u001b[43m \u001b[49m\u001b[38;5;124;43m\"\u001b[39;49m\u001b[38;5;124;43mrb\u001b[39;49m\u001b[38;5;124;43m\"\u001b[39;49m\u001b[43m)\u001b[49m \u001b[38;5;28;01mas\u001b[39;00m f:\n\u001b[0;32m      2\u001b[0m     data \u001b[38;5;241m=\u001b[39m f\u001b[38;5;241m.\u001b[39mread()\n\u001b[0;32m      4\u001b[0m \u001b[38;5;28;01mwith\u001b[39;00m \u001b[38;5;28mopen\u001b[39m(\u001b[38;5;124m\"\u001b[39m\u001b[38;5;124mcopy.jpg\u001b[39m\u001b[38;5;124m\"\u001b[39m, \u001b[38;5;124m\"\u001b[39m\u001b[38;5;124mwb\u001b[39m\u001b[38;5;124m\"\u001b[39m) \u001b[38;5;28;01mas\u001b[39;00m f:\n",
      "File \u001b[1;32mc:\\Users\\admin\\AppData\\Local\\Programs\\Python\\Python311\\Lib\\site-packages\\IPython\\core\\interactiveshell.py:284\u001b[0m, in \u001b[0;36m_modified_open\u001b[1;34m(file, *args, **kwargs)\u001b[0m\n\u001b[0;32m    277\u001b[0m \u001b[38;5;28;01mif\u001b[39;00m file \u001b[38;5;129;01min\u001b[39;00m {\u001b[38;5;241m0\u001b[39m, \u001b[38;5;241m1\u001b[39m, \u001b[38;5;241m2\u001b[39m}:\n\u001b[0;32m    278\u001b[0m     \u001b[38;5;28;01mraise\u001b[39;00m \u001b[38;5;167;01mValueError\u001b[39;00m(\n\u001b[0;32m    279\u001b[0m         \u001b[38;5;124mf\u001b[39m\u001b[38;5;124m\"\u001b[39m\u001b[38;5;124mIPython won\u001b[39m\u001b[38;5;124m'\u001b[39m\u001b[38;5;124mt let you open fd=\u001b[39m\u001b[38;5;132;01m{\u001b[39;00mfile\u001b[38;5;132;01m}\u001b[39;00m\u001b[38;5;124m by default \u001b[39m\u001b[38;5;124m\"\u001b[39m\n\u001b[0;32m    280\u001b[0m         \u001b[38;5;124m\"\u001b[39m\u001b[38;5;124mas it is likely to crash IPython. If you know what you are doing, \u001b[39m\u001b[38;5;124m\"\u001b[39m\n\u001b[0;32m    281\u001b[0m         \u001b[38;5;124m\"\u001b[39m\u001b[38;5;124myou can use builtins\u001b[39m\u001b[38;5;124m'\u001b[39m\u001b[38;5;124m open.\u001b[39m\u001b[38;5;124m\"\u001b[39m\n\u001b[0;32m    282\u001b[0m     )\n\u001b[1;32m--> 284\u001b[0m \u001b[38;5;28;01mreturn\u001b[39;00m \u001b[43mio_open\u001b[49m\u001b[43m(\u001b[49m\u001b[43mfile\u001b[49m\u001b[43m,\u001b[49m\u001b[43m \u001b[49m\u001b[38;5;241;43m*\u001b[39;49m\u001b[43margs\u001b[49m\u001b[43m,\u001b[49m\u001b[43m \u001b[49m\u001b[38;5;241;43m*\u001b[39;49m\u001b[38;5;241;43m*\u001b[39;49m\u001b[43mkwargs\u001b[49m\u001b[43m)\u001b[49m\n",
      "\u001b[1;31mFileNotFoundError\u001b[0m: [Errno 2] No such file or directory: 'image.jpg'"
     ]
    }
   ],
   "source": [
    "with open(\"image.jpg\", \"rb\") as f:\n",
    "    data = f.read()\n",
    "\n",
    "with open(\"copy.jpg\", \"wb\") as f:\n",
    "    f.write(data)\n"
   ]
  },
  {
   "cell_type": "markdown",
   "id": "0173b77f",
   "metadata": {},
   "source": [
    "🧠 10. File Pointer: seek() and tell()"
   ]
  },
  {
   "cell_type": "code",
   "execution_count": null,
   "id": "cb36b70b",
   "metadata": {},
   "outputs": [
    {
     "name": "stdout",
     "output_type": "stream",
     "text": [
      "0\n",
      "hi i \n"
     ]
    }
   ],
   "source": [
    "f = open(\"sample.txt\", \"r\")\n",
    "print(f.tell())        # Shows current position\n",
    "f.seek(0)              # Moves pointer to beginning\n",
    "print(f.read(5))       # Reads 5 chars from start\n"
   ]
  }
 ],
 "metadata": {
  "kernelspec": {
   "display_name": "Python 3",
   "language": "python",
   "name": "python3"
  },
  "language_info": {
   "codemirror_mode": {
    "name": "ipython",
    "version": 3
   },
   "file_extension": ".py",
   "mimetype": "text/x-python",
   "name": "python",
   "nbconvert_exporter": "python",
   "pygments_lexer": "ipython3",
   "version": "3.11.4"
  }
 },
 "nbformat": 4,
 "nbformat_minor": 5
}
