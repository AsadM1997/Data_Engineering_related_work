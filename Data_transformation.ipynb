{
 "cells": [
  {
   "cell_type": "markdown",
   "id": "09450f45",
   "metadata": {},
   "source": [
    "Data Transformation with Pandas (GroupBy, Merge, Pivot, etc.)\n",
    "These tools are used to reshape, summarize, and combine data before loading it into data stores or analytics tools.\n",
    "\n",
    "\n",
    "✅ 1. Grouping and Aggregating – groupby()\n",
    "GroupBy allows you to split data into groups and apply calculations on each group.\n",
    "\n",
    "Common aggregation functions: .mean(), .sum(), .count(), .max(), .min(), .agg()\n",
    "🧪 Example:\n"
   ]
  },
  {
   "cell_type": "code",
   "execution_count": 20,
   "id": "b118362b",
   "metadata": {},
   "outputs": [
    {
     "name": "stdout",
     "output_type": "stream",
     "text": [
      "department\n",
      "HR       3250.0\n",
      "IT       5250.0\n",
      "Sales    4000.0\n",
      "Name: salary, dtype: float64\n"
     ]
    }
   ],
   "source": [
    "import pandas as pd\n",
    "\n",
    "df = pd.DataFrame({\n",
    "    'department': ['HR', 'HR', 'IT', 'IT', 'Sales'],\n",
    "    'salary': [3000, 3500, 5000, 5500, 4000]\n",
    "})\n",
    "\n",
    "grouped = df.groupby('department')['salary'].mean()\n",
    "print(grouped)"
   ]
  },
  {
   "cell_type": "markdown",
   "id": "934c78f1",
   "metadata": {},
   "source": [
    "✅ 2. Aggregating with Multiple Functions"
   ]
  },
  {
   "cell_type": "code",
   "execution_count": 21,
   "id": "3780a794",
   "metadata": {},
   "outputs": [
    {
     "data": {
      "text/html": [
       "<div>\n",
       "<style scoped>\n",
       "    .dataframe tbody tr th:only-of-type {\n",
       "        vertical-align: middle;\n",
       "    }\n",
       "\n",
       "    .dataframe tbody tr th {\n",
       "        vertical-align: top;\n",
       "    }\n",
       "\n",
       "    .dataframe thead th {\n",
       "        text-align: right;\n",
       "    }\n",
       "</style>\n",
       "<table border=\"1\" class=\"dataframe\">\n",
       "  <thead>\n",
       "    <tr style=\"text-align: right;\">\n",
       "      <th></th>\n",
       "      <th>mean</th>\n",
       "      <th>max</th>\n",
       "      <th>count</th>\n",
       "    </tr>\n",
       "    <tr>\n",
       "      <th>department</th>\n",
       "      <th></th>\n",
       "      <th></th>\n",
       "      <th></th>\n",
       "    </tr>\n",
       "  </thead>\n",
       "  <tbody>\n",
       "    <tr>\n",
       "      <th>HR</th>\n",
       "      <td>3250.0</td>\n",
       "      <td>3500</td>\n",
       "      <td>2</td>\n",
       "    </tr>\n",
       "    <tr>\n",
       "      <th>IT</th>\n",
       "      <td>5250.0</td>\n",
       "      <td>5500</td>\n",
       "      <td>2</td>\n",
       "    </tr>\n",
       "    <tr>\n",
       "      <th>Sales</th>\n",
       "      <td>4000.0</td>\n",
       "      <td>4000</td>\n",
       "      <td>1</td>\n",
       "    </tr>\n",
       "  </tbody>\n",
       "</table>\n",
       "</div>"
      ],
      "text/plain": [
       "              mean   max  count\n",
       "department                     \n",
       "HR          3250.0  3500      2\n",
       "IT          5250.0  5500      2\n",
       "Sales       4000.0  4000      1"
      ]
     },
     "execution_count": 21,
     "metadata": {},
     "output_type": "execute_result"
    }
   ],
   "source": [
    "df.groupby('department')['salary'].agg(['mean', 'max', 'count'])\n"
   ]
  },
  {
   "cell_type": "markdown",
   "id": "dd074ec6-eab4-4d29-93c6-cc6148b49bdd",
   "metadata": {},
   "source": [
    "🧹 7. Sorting and Filtering"
   ]
  },
  {
   "cell_type": "code",
   "execution_count": 26,
   "id": "04904cb9-2453-4791-a2b4-ce8786875d11",
   "metadata": {},
   "outputs": [
    {
     "data": {
      "text/html": [
       "<div>\n",
       "<style scoped>\n",
       "    .dataframe tbody tr th:only-of-type {\n",
       "        vertical-align: middle;\n",
       "    }\n",
       "\n",
       "    .dataframe tbody tr th {\n",
       "        vertical-align: top;\n",
       "    }\n",
       "\n",
       "    .dataframe thead th {\n",
       "        text-align: right;\n",
       "    }\n",
       "</style>\n",
       "<table border=\"1\" class=\"dataframe\">\n",
       "  <thead>\n",
       "    <tr style=\"text-align: right;\">\n",
       "      <th></th>\n",
       "      <th>department</th>\n",
       "      <th>salary</th>\n",
       "    </tr>\n",
       "  </thead>\n",
       "  <tbody>\n",
       "    <tr>\n",
       "      <th>2</th>\n",
       "      <td>IT</td>\n",
       "      <td>5000</td>\n",
       "    </tr>\n",
       "    <tr>\n",
       "      <th>3</th>\n",
       "      <td>IT</td>\n",
       "      <td>5500</td>\n",
       "    </tr>\n",
       "  </tbody>\n",
       "</table>\n",
       "</div>"
      ],
      "text/plain": [
       "  department  salary\n",
       "2         IT    5000\n",
       "3         IT    5500"
      ]
     },
     "execution_count": 26,
     "metadata": {},
     "output_type": "execute_result"
    }
   ],
   "source": [
    "df = pd.DataFrame({\n",
    "    'department': ['HR', 'HR', 'IT', 'IT', 'Sales'],\n",
    "    'salary': [3000, 3500, 5000, 5500, 4000]\n",
    "})\n",
    "\n",
    "df.sort_values(by='salary', ascending=False)\n",
    "df[df['department'] == 'IT']\n",
    "df[df['salary'] > 4000] #filter\n"
   ]
  },
  {
   "cell_type": "markdown",
   "id": "00e0bcfb",
   "metadata": {},
   "source": [
    "Or with custom names:"
   ]
  },
  {
   "cell_type": "code",
   "execution_count": null,
   "id": "fadadf90-23fa-43be-a60f-180ff0025b9c",
   "metadata": {},
   "outputs": [],
   "source": []
  },
  {
   "cell_type": "code",
   "execution_count": 6,
   "id": "d4266362",
   "metadata": {},
   "outputs": [
    {
     "data": {
      "text/html": [
       "<div>\n",
       "<style scoped>\n",
       "    .dataframe tbody tr th:only-of-type {\n",
       "        vertical-align: middle;\n",
       "    }\n",
       "\n",
       "    .dataframe tbody tr th {\n",
       "        vertical-align: top;\n",
       "    }\n",
       "\n",
       "    .dataframe thead th {\n",
       "        text-align: right;\n",
       "    }\n",
       "</style>\n",
       "<table border=\"1\" class=\"dataframe\">\n",
       "  <thead>\n",
       "    <tr style=\"text-align: right;\">\n",
       "      <th></th>\n",
       "      <th>avg_salary</th>\n",
       "      <th>max_salary</th>\n",
       "      <th>count</th>\n",
       "    </tr>\n",
       "    <tr>\n",
       "      <th>department</th>\n",
       "      <th></th>\n",
       "      <th></th>\n",
       "      <th></th>\n",
       "    </tr>\n",
       "  </thead>\n",
       "  <tbody>\n",
       "    <tr>\n",
       "      <th>HR</th>\n",
       "      <td>3250.0</td>\n",
       "      <td>3500</td>\n",
       "      <td>2</td>\n",
       "    </tr>\n",
       "    <tr>\n",
       "      <th>IT</th>\n",
       "      <td>5250.0</td>\n",
       "      <td>5500</td>\n",
       "      <td>2</td>\n",
       "    </tr>\n",
       "    <tr>\n",
       "      <th>Sales</th>\n",
       "      <td>4000.0</td>\n",
       "      <td>4000</td>\n",
       "      <td>1</td>\n",
       "    </tr>\n",
       "  </tbody>\n",
       "</table>\n",
       "</div>"
      ],
      "text/plain": [
       "            avg_salary  max_salary  count\n",
       "department                               \n",
       "HR              3250.0        3500      2\n",
       "IT              5250.0        5500      2\n",
       "Sales           4000.0        4000      1"
      ]
     },
     "execution_count": 6,
     "metadata": {},
     "output_type": "execute_result"
    }
   ],
   "source": [
    "df.groupby('department')['salary'].agg(\n",
    "    avg_salary='mean',\n",
    "    max_salary='max',\n",
    "    count='count'\n",
    "    \n",
    ")"
   ]
  },
  {
   "cell_type": "markdown",
   "id": "094ecfee",
   "metadata": {},
   "source": [
    "🔗 3. Merging and Joining DataFrames\n",
    "Use merge() to join datasets like SQL joins. \n",
    "\n",
    "📌 Types of Joins: inner, outer, left, right"
   ]
  },
  {
   "cell_type": "code",
   "execution_count": 17,
   "id": "43ab9776",
   "metadata": {},
   "outputs": [
    {
     "name": "stdout",
     "output_type": "stream",
     "text": [
      "   emp_id     name  salary\n",
      "0       1    Alice  3000.0\n",
      "1       2      Bob  4000.0\n",
      "2       3  Charlie     NaN\n"
     ]
    }
   ],
   "source": [
    "employees = pd.DataFrame({\n",
    "    'emp_id': [1, 2, 3],\n",
    "    'name': ['Alice', 'Bob', 'Charlie']\n",
    "})\n",
    "\n",
    "salaries = pd.DataFrame({\n",
    "    'emp_id': [1, 2],\n",
    "    'salary': [3000, 4000]\n",
    "})\n",
    "\n",
    "merged = pd.merge(employees,salaries, on='emp_id',how='left')\n",
    "print(merged)"
   ]
  },
  {
   "cell_type": "markdown",
   "id": "294a7d67",
   "metadata": {},
   "source": [
    "🔁 4. Concatenation – pd.concat()\n",
    "Combine DataFrames vertically or horizontally."
   ]
  },
  {
   "cell_type": "code",
   "execution_count": 14,
   "id": "120b0fb3",
   "metadata": {},
   "outputs": [
    {
     "data": {
      "text/html": [
       "<div>\n",
       "<style scoped>\n",
       "    .dataframe tbody tr th:only-of-type {\n",
       "        vertical-align: middle;\n",
       "    }\n",
       "\n",
       "    .dataframe tbody tr th {\n",
       "        vertical-align: top;\n",
       "    }\n",
       "\n",
       "    .dataframe thead th {\n",
       "        text-align: right;\n",
       "    }\n",
       "</style>\n",
       "<table border=\"1\" class=\"dataframe\">\n",
       "  <thead>\n",
       "    <tr style=\"text-align: right;\">\n",
       "      <th></th>\n",
       "      <th>a</th>\n",
       "    </tr>\n",
       "  </thead>\n",
       "  <tbody>\n",
       "    <tr>\n",
       "      <th>0</th>\n",
       "      <td>1</td>\n",
       "    </tr>\n",
       "    <tr>\n",
       "      <th>1</th>\n",
       "      <td>2</td>\n",
       "    </tr>\n",
       "    <tr>\n",
       "      <th>2</th>\n",
       "      <td>3</td>\n",
       "    </tr>\n",
       "    <tr>\n",
       "      <th>3</th>\n",
       "      <td>4</td>\n",
       "    </tr>\n",
       "  </tbody>\n",
       "</table>\n",
       "</div>"
      ],
      "text/plain": [
       "   a\n",
       "0  1\n",
       "1  2\n",
       "2  3\n",
       "3  4"
      ]
     },
     "execution_count": 14,
     "metadata": {},
     "output_type": "execute_result"
    }
   ],
   "source": [
    "df1 = pd.DataFrame({'a': [1, 2]})\n",
    "df2 = pd.DataFrame({'a': [3, 4]})\n",
    "\n",
    "result = pd.concat([df1, df2], ignore_index=True)\n",
    "result"
   ]
  },
  {
   "cell_type": "markdown",
   "id": "d77373a2",
   "metadata": {},
   "source": [
    "📊 5. Pivot Table – Reshape and Aggregate\n",
    "Pivot tables let you summarize data like Excel:"
   ]
  },
  {
   "cell_type": "code",
   "execution_count": 17,
   "id": "1f7ca47e",
   "metadata": {},
   "outputs": [
    {
     "name": "stdout",
     "output_type": "stream",
     "text": [
      "month     Feb  Jan\n",
      "employee          \n",
      "A         150  100\n",
      "B         120   80\n"
     ]
    }
   ],
   "source": [
    "data = pd.DataFrame({\n",
    "    'employee': ['A', 'A', 'B', 'B'],\n",
    "    'month': ['Jan', 'Feb', 'Jan', 'Feb'],\n",
    "    'sales': [100, 150, 80, 120]\n",
    "})\n",
    "\n",
    "pivot = data.pivot_table(index='employee', columns='month', values='sales', aggfunc='sum')\n",
    "print(pivot)"
   ]
  },
  {
   "cell_type": "markdown",
   "id": "7c562658-47f1-4856-9bf1-ff29a17cd02c",
   "metadata": {},
   "source": [
    "🔄 6. Melt – Unpivot Wide Format to Long"
   ]
  },
  {
   "cell_type": "code",
   "execution_count": 12,
   "id": "dddfeb80-72bb-4ce1-b1d4-00070684f012",
   "metadata": {},
   "outputs": [
    {
     "data": {
      "text/html": [
       "<div>\n",
       "<style scoped>\n",
       "    .dataframe tbody tr th:only-of-type {\n",
       "        vertical-align: middle;\n",
       "    }\n",
       "\n",
       "    .dataframe tbody tr th {\n",
       "        vertical-align: top;\n",
       "    }\n",
       "\n",
       "    .dataframe thead th {\n",
       "        text-align: right;\n",
       "    }\n",
       "</style>\n",
       "<table border=\"1\" class=\"dataframe\">\n",
       "  <thead>\n",
       "    <tr style=\"text-align: right;\">\n",
       "      <th></th>\n",
       "      <th>name</th>\n",
       "      <th>month</th>\n",
       "      <th>sales</th>\n",
       "    </tr>\n",
       "  </thead>\n",
       "  <tbody>\n",
       "    <tr>\n",
       "      <th>0</th>\n",
       "      <td>A</td>\n",
       "      <td>Jan</td>\n",
       "      <td>100</td>\n",
       "    </tr>\n",
       "    <tr>\n",
       "      <th>1</th>\n",
       "      <td>B</td>\n",
       "      <td>Jan</td>\n",
       "      <td>90</td>\n",
       "    </tr>\n",
       "    <tr>\n",
       "      <th>2</th>\n",
       "      <td>A</td>\n",
       "      <td>Feb</td>\n",
       "      <td>120</td>\n",
       "    </tr>\n",
       "    <tr>\n",
       "      <th>3</th>\n",
       "      <td>B</td>\n",
       "      <td>Feb</td>\n",
       "      <td>110</td>\n",
       "    </tr>\n",
       "  </tbody>\n",
       "</table>\n",
       "</div>"
      ],
      "text/plain": [
       "  name month  sales\n",
       "0    A   Jan    100\n",
       "1    B   Jan     90\n",
       "2    A   Feb    120\n",
       "3    B   Feb    110"
      ]
     },
     "execution_count": 12,
     "metadata": {},
     "output_type": "execute_result"
    }
   ],
   "source": [
    "df = pd.DataFrame({\n",
    "    'name': ['A', 'B'],\n",
    "    'Jan': [100, 90],\n",
    "    'Feb': [120, 110]\n",
    "})\n",
    "melted_result = pd.melt(df, id_vars=['name'], var_name='month', value_name='sales')\n",
    "melted_result"
   ]
  },
  {
   "cell_type": "code",
   "execution_count": null,
   "id": "4fab889a-8883-4fc4-a9a8-fddc1e1c5e85",
   "metadata": {},
   "outputs": [],
   "source": []
  },
  {
   "cell_type": "code",
   "execution_count": null,
   "id": "c866fbbd-b195-4cb5-886a-288f46ed3a03",
   "metadata": {},
   "outputs": [],
   "source": []
  }
 ],
 "metadata": {
  "kernelspec": {
   "display_name": "Python 3.11.4",
   "language": "python",
   "name": "py311"
  },
  "language_info": {
   "codemirror_mode": {
    "name": "ipython",
    "version": 3
   },
   "file_extension": ".py",
   "mimetype": "text/x-python",
   "name": "python",
   "nbconvert_exporter": "python",
   "pygments_lexer": "ipython3",
   "version": "3.11.4"
  }
 },
 "nbformat": 4,
 "nbformat_minor": 5
}
