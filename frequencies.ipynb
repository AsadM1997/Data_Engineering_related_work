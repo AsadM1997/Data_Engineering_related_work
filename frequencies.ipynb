{
 "cells": [
  {
   "cell_type": "markdown",
   "id": "c4c748ff",
   "metadata": {},
   "source": [
    "🔁 Possible freq Values (Most Common)\n",
    "Here’s a list of useful frequencies you can use:\n",
    "| Frequency        | Meaning                     | Example                      |\n",
    "| ---------------- | --------------------------- | ---------------------------- |\n",
    "| `'D'`            | Daily                       | 2025-07-30, 2025-07-31, ...  |\n",
    "| `'W'`            | Weekly (Sundays by default) | 2025-07-30, 2025-08-06, ...  |\n",
    "| `'W-MON'`        | Weekly (Mondays)            | 2025-08-04, 2025-08-11, ...  |\n",
    "| `'M'`            | Month-end                   | 2025-07-31, 2025-08-31, ...  |\n",
    "| `'MS'`           | Month-start                 | 2025-08-01, 2025-09-01, ...  |\n",
    "| `'Q'`            | Quarter-end                 | 2025-09-30, 2025-12-31, ...  |\n",
    "| `'QS'`           | Quarter-start               | 2025-07-01, 2025-10-01, ...  |\n",
    "| `'A'` or `'Y'`   | Year-end                    | 2025-12-31, 2026-12-31, ...  |\n",
    "| `'AS'`           | Year-start                  | 2025-01-01, 2026-01-01, ...  |\n",
    "| `'B'`            | Business day                | Skips weekends               |\n",
    "| `'H'`            | Hourly                      | 2025-07-30 00:00, 01:00, ... |\n",
    "| `'T'` or `'min'` | Minutely                    | Every minute                 |\n",
    "| `'S'`            | Secondly                    | Every second                 |\n"
   ]
  },
  {
   "cell_type": "markdown",
   "id": "095e183d",
   "metadata": {},
   "source": [
    "✅ Example Usage:\n",
    "🔸 Daily dates"
   ]
  },
  {
   "cell_type": "markdown",
   "id": "d48cbce8",
   "metadata": {},
   "source": []
  },
  {
   "cell_type": "code",
   "execution_count": null,
   "id": "f1eebe07",
   "metadata": {
    "vscode": {
     "languageId": "plaintext"
    }
   },
   "outputs": [],
   "source": [
    "pd.date_range(start='2025-07-30', periods=5, freq='D')\n",
    "pd.date_range(start='2025-07-30', periods=5, freq='B')\n"
   ]
  },
  {
   "cell_type": "code",
   "execution_count": null,
   "id": "3d06e5da",
   "metadata": {
    "vscode": {
     "languageId": "plaintext"
    }
   },
   "outputs": [],
   "source": [
    "pd.date_range(start='2025-07-30', periods=5, freq='MS')\n"
   ]
  },
  {
   "cell_type": "markdown",
   "id": "e48f76d0",
   "metadata": {},
   "source": [
    "🔍 Custom Weekly Frequency\n",
    "You can also change the day of the week for weekly frequency: \n",
    "| `W-SUN` | Week ends on Sunday (default) |\n",
    "| ------- | ----------------------------- |\n",
    "| `W-MON` | Week ends on Monday           |\n",
    "| `W-FRI` | Week ends on Friday           |\n"
   ]
  },
  {
   "cell_type": "code",
   "execution_count": null,
   "id": "d23928e3",
   "metadata": {
    "vscode": {
     "languageId": "plaintext"
    }
   },
   "outputs": [],
   "source": [
    "import pandas as pd\n",
    "\n",
    "df = pd.DataFrame({'value': [1, 2, 3, 4, 5]})\n",
    "df['date'] = pd.date_range(start='2025-07-30', periods=len(df), freq='B')  # Business days\n",
    "print(df)\n"
   ]
  },
  {
   "cell_type": "markdown",
   "id": "140d5a6a",
   "metadata": {},
   "source": []
  },
  {
   "cell_type": "markdown",
   "id": "ef3d7dca",
   "metadata": {},
   "source": [
    "🔹 Part 2: Types of Resampling \n",
    "| Type              | Description                            | Example                                     |\n",
    "| ----------------- | -------------------------------------- | ------------------------------------------- |\n",
    "| Downsampling      | Reduce frequency                       | Daily → Weekly (`'W'`), Monthly (`'M'`)     |\n",
    "| Upsampling        | Increase frequency                     | Monthly → Daily (`'D'`), need to `fillna()` |\n",
    "| Aggregation       | Use `sum()`, `mean()`, `max()`, etc.   | `df.resample('M').sum()`                    |\n",
    "| Interpolation     | Fill in values when upsampling         | `df.resample('D').interpolate()`            |\n",
    "| Custom Resampling | Combine with `.apply()` or `rolling()` | For complex needs                           |\n"
   ]
  },
  {
   "cell_type": "markdown",
   "id": "a8e208cf",
   "metadata": {},
   "source": []
  }
 ],
 "metadata": {
  "language_info": {
   "name": "python"
  }
 },
 "nbformat": 4,
 "nbformat_minor": 5
}
