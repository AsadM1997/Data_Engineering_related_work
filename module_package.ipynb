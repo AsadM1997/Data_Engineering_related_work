{
 "cells": [
  {
   "cell_type": "markdown",
   "id": "76511eb8",
   "metadata": {},
   "source": [
    "📚 Modules and Packages in Python – Complete Guide \n",
    "\n",
    "✅ 1. Why Use Modules and Packages?\n",
    "As your project grows, it's messy to keep everything in one file.\n",
    "\n",
    "✅ Modules → Reusable Python files with functions/classes\n",
    "\n",
    "✅ Packages → Folders containing modules, organized with __init__.py\n",
    "\n",
    "✅ Helps manage large projects cleanly \n",
    "\n"
   ]
  },
  {
   "cell_type": "markdown",
   "id": "54a7d664",
   "metadata": {},
   "source": [
    "📄 2. What is a Module?\n",
    "A module is simply a .py file that contains functions, classes, or variables.\n",
    "\n",
    "🔹 Example: math_utils.py"
   ]
  },
  {
   "cell_type": "code",
   "execution_count": 1,
   "id": "6f18012e",
   "metadata": {},
   "outputs": [],
   "source": [
    "def add(a, b):\n",
    "    return a + b\n",
    "\n",
    "def multiply(a, b):\n",
    "    return a * b\n"
   ]
  },
  {
   "cell_type": "markdown",
   "id": "fdcf2b26",
   "metadata": {},
   "source": [
    "You can import and use it in another file:"
   ]
  },
  {
   "cell_type": "code",
   "execution_count": null,
   "id": "e4fa81b2",
   "metadata": {},
   "outputs": [],
   "source": [
    "import math_utils.py\n",
    "\n",
    "print(math_utils.add(2, 3))       # 5\n",
    "print(math_utils.multiply(2, 4))  # 8\n"
   ]
  },
  {
   "cell_type": "markdown",
   "id": "36bad351",
   "metadata": {},
   "source": [
    "📦 3. What is a Package?\n",
    "A package is a folder containing one or more modules and a file named __init__.py.\n",
    "\n",
    "Folder Structure: \n",
    "\n",
    "✅ __init__.py makes the folder recognizable as a package (can be empty or contain setup code).\n"
   ]
  },
  {
   "cell_type": "code",
   "execution_count": null,
   "id": "891d6d8e",
   "metadata": {},
   "outputs": [],
   "source": [
    "# my_package/\n",
    "# ├── __init__.py\n",
    "# ├── math_utils.py\n",
    "# └── string_utils.py\n"
   ]
  },
  {
   "cell_type": "markdown",
   "id": "b8e2dd3f",
   "metadata": {},
   "source": [
    "Usage:"
   ]
  },
  {
   "cell_type": "code",
   "execution_count": null,
   "id": "b1ccf521",
   "metadata": {},
   "outputs": [],
   "source": [
    "# from my_package import math_utils\n",
    "# print(math_utils.add(1, 2))\n"
   ]
  },
  {
   "cell_type": "markdown",
   "id": "ef68544b",
   "metadata": {},
   "source": [
    "📥 4. Importing Modules\n",
    "Different Ways to Import:\n",
    "\n",
    "| Method                                   | Example                 |\n",
    "| ---------------------------------------- | ----------------------- |\n",
    "| `import module`                          | `import math`           |\n",
    "| `from module import function`            | `from math import sqrt` |\n",
    "| `from module import *` (not recommended) | `from math import *`    |\n",
    "| `import module as alias`                 | `import numpy as np`    |\n"
   ]
  },
  {
   "cell_type": "markdown",
   "id": "a4d36213",
   "metadata": {},
   "source": [
    "🔍 5. Using Built-in Modules\n",
    "Python provides many useful built-in modules:\n",
    "\n",
    "Example: math, random, datetime, os"
   ]
  },
  {
   "cell_type": "code",
   "execution_count": 4,
   "id": "433383f4",
   "metadata": {},
   "outputs": [
    {
     "name": "stdout",
     "output_type": "stream",
     "text": [
      "4.0\n",
      "9\n"
     ]
    }
   ],
   "source": [
    "import math\n",
    "print(math.sqrt(16))   # 4.0\n",
    "\n",
    "import random\n",
    "print(random.randint(1, 10))  # Random number between 1 and 10\n"
   ]
  },
  {
   "cell_type": "markdown",
   "id": "ce8dad82",
   "metadata": {},
   "source": [
    "\n",
    "📦 6. Creating Your Own Package\n",
    "✅ Step-by-step:\n",
    "\n",
    "Create a folder: mytools/\n",
    "\n",
    "Inside it, add __init__.py\n",
    "\n",
    "Add some .py files like math_ops.py\n",
    "\n",
    "Use from another file:"
   ]
  },
  {
   "cell_type": "code",
   "execution_count": 12,
   "id": "b867c0a3",
   "metadata": {},
   "outputs": [
    {
     "name": "stdout",
     "output_type": "stream",
     "text": [
      "7\n",
      "4\n",
      "6\n"
     ]
    }
   ],
   "source": [
    "from mytools import calcultation\n",
    "print(calcultation.add(2, 5))\n",
    "print(calcultation.sqrt(2)) \n",
    "print(calcultation.mul(2,3) )"
   ]
  },
  {
   "cell_type": "markdown",
   "id": "738a4d4b",
   "metadata": {},
   "source": [
    "⚙️ 7. Installing Third-Party Packages\n",
    "Python has a massive community of packages available via PyPI.\n",
    "\n",
    "Use pip to install:"
   ]
  },
  {
   "cell_type": "code",
   "execution_count": 13,
   "id": "4a15807c",
   "metadata": {},
   "outputs": [
    {
     "name": "stdout",
     "output_type": "stream",
     "text": [
      "Requirement already satisfied: requests in c:\\users\\admin\\appdata\\local\\programs\\python\\python311\\lib\\site-packages (2.31.0)\n",
      "Requirement already satisfied: charset-normalizer<4,>=2 in c:\\users\\admin\\appdata\\local\\programs\\python\\python311\\lib\\site-packages (from requests) (3.1.0)\n",
      "Requirement already satisfied: idna<4,>=2.5 in c:\\users\\admin\\appdata\\local\\programs\\python\\python311\\lib\\site-packages (from requests) (3.4)\n",
      "Requirement already satisfied: urllib3<3,>=1.21.1 in c:\\users\\admin\\appdata\\local\\programs\\python\\python311\\lib\\site-packages (from requests) (2.0.3)\n",
      "Requirement already satisfied: certifi>=2017.4.17 in c:\\users\\admin\\appdata\\local\\programs\\python\\python311\\lib\\site-packages (from requests) (2023.5.7)\n",
      "Note: you may need to restart the kernel to use updated packages.\n"
     ]
    },
    {
     "name": "stderr",
     "output_type": "stream",
     "text": [
      "\n",
      "[notice] A new release of pip is available: 24.1.1 -> 25.1.1\n",
      "[notice] To update, run: python.exe -m pip install --upgrade pip\n"
     ]
    }
   ],
   "source": [
    "pip install requests\n"
   ]
  },
  {
   "cell_type": "markdown",
   "id": "855ee32f",
   "metadata": {},
   "source": [
    "Example:\n"
   ]
  },
  {
   "cell_type": "code",
   "execution_count": 14,
   "id": "156bc5ec",
   "metadata": {},
   "outputs": [
    {
     "name": "stdout",
     "output_type": "stream",
     "text": [
      "200\n"
     ]
    }
   ],
   "source": [
    "import requests\n",
    "\n",
    "res=requests.get(\"https://www.google.com\")\n",
    "\n",
    "print(res.status_code)"
   ]
  },
  {
   "cell_type": "markdown",
   "id": "f0c0041e",
   "metadata": {},
   "source": [
    "🧠 8. dir() and help() for Introspection\n",
    "dir(module) → Lists contents\n",
    "\n",
    "help(module) → Shows documentation"
   ]
  },
  {
   "cell_type": "code",
   "execution_count": 15,
   "id": "a48678e7",
   "metadata": {},
   "outputs": [
    {
     "name": "stdout",
     "output_type": "stream",
     "text": [
      "['__doc__', '__loader__', '__name__', '__package__', '__spec__', 'acos', 'acosh', 'asin', 'asinh', 'atan', 'atan2', 'atanh', 'cbrt', 'ceil', 'comb', 'copysign', 'cos', 'cosh', 'degrees', 'dist', 'e', 'erf', 'erfc', 'exp', 'exp2', 'expm1', 'fabs', 'factorial', 'floor', 'fmod', 'frexp', 'fsum', 'gamma', 'gcd', 'hypot', 'inf', 'isclose', 'isfinite', 'isinf', 'isnan', 'isqrt', 'lcm', 'ldexp', 'lgamma', 'log', 'log10', 'log1p', 'log2', 'modf', 'nan', 'nextafter', 'perm', 'pi', 'pow', 'prod', 'radians', 'remainder', 'sin', 'sinh', 'sqrt', 'tan', 'tanh', 'tau', 'trunc', 'ulp']\n",
      "Help on built-in function sqrt in module math:\n",
      "\n",
      "sqrt(x, /)\n",
      "    Return the square root of x.\n",
      "\n"
     ]
    }
   ],
   "source": [
    "import math\n",
    "print(dir(math))\n",
    "help(math.sqrt)\n"
   ]
  },
  {
   "cell_type": "markdown",
   "id": "0edd6c3c",
   "metadata": {},
   "source": [
    "\n",
    "📚 Summary Mindmap\n",
    "Modules and Packages\n",
    "│\n",
    "├── Module = single .py file\n",
    "├── Package = folder + __init__.py\n",
    "├── import styles:\n",
    "│   ├── import module\n",
    "│   ├── from module import name\n",
    "│   └── import module as alias\n",
    "├── Built-in modules (math, os, datetime)\n",
    "├── Third-party: pip install package\n",
    "└── dir(), help(), __init__.py\n",
    "\n"
   ]
  }
 ],
 "metadata": {
  "kernelspec": {
   "display_name": "Python 3",
   "language": "python",
   "name": "python3"
  },
  "language_info": {
   "codemirror_mode": {
    "name": "ipython",
    "version": 3
   },
   "file_extension": ".py",
   "mimetype": "text/x-python",
   "name": "python",
   "nbconvert_exporter": "python",
   "pygments_lexer": "ipython3",
   "version": "3.11.4"
  }
 },
 "nbformat": 4,
 "nbformat_minor": 5
}
